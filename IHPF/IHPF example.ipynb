{
 "cells": [
  {
   "cell_type": "markdown",
   "metadata": {},
   "source": [
    "# Running analysis for scIHPF "
   ]
  },
  {
   "cell_type": "code",
   "execution_count": 1,
   "metadata": {},
   "outputs": [],
   "source": [
    "## Import scripts for the dimension reduction methods \n",
    "import IHPF\n",
    "import INMF \n",
    "import schpf\n",
    "from sklearn.decomposition import PCA"
   ]
  },
  {
   "cell_type": "code",
   "execution_count": 2,
   "metadata": {},
   "outputs": [],
   "source": [
    "from scipy.sparse import coo_matrix\n",
    "from sklearn.cluster import KMeans\n",
    "from sklearn.preprocessing import normalize\n",
    "import numpy as np\n",
    "import pandas as pd\n",
    "import scanpy as sc\n",
    "from anndata import AnnData"
   ]
  },
  {
   "cell_type": "code",
   "execution_count": 3,
   "metadata": {},
   "outputs": [],
   "source": [
    "datasets = ['10Xmouse','humanpancreas','10Xpbmc']"
   ]
  },
  {
   "cell_type": "code",
   "execution_count": 4,
   "metadata": {},
   "outputs": [
    {
     "name": "stdout",
     "output_type": "stream",
     "text": [
      "AnnData object with n_obs × n_vars = 9530 × 13130\n",
      "    obs: 'actual', 'batch', 'IHPF_kmeans_normalised', 'HPF_kmeans_normalised', 'INMF_kmeans_normalised', 'PCA_kmeans_normalised', 'IHPF_max', 'INMF_max', 'HPF_max', 'PCA_max', 'INMF_0.1_kmeans_normalised', 'INMF_0.1_max', 'INMF_0.5_kmeans_normalised', 'INMF_0.5_max', 'INMF_1.0_kmeans_normalised', 'INMF_1.0_max', 'INMF_10.0_kmeans_normalised', 'INMF_10.0_max', 'INMF_1e-05_kmeans_normalised', 'INMF_1e-05_max', 'INMF_0.0001_kmeans_normalised', 'INMF_0.0001_max', 'INMF_0.001_kmeans_normalised', 'INMF_0.001_max', 'INMF_0.01_kmeans_normalised', 'INMF_0.01_max', 'IHPF_0.1_kmeans_normalised', 'IHPF_0.1_max', 'IHPF_0.5_kmeans_normalised', 'IHPF_0.5_max', 'IHPF_1.0_kmeans_normalised', 'IHPF_1.0_max', 'IHPF_10.0_kmeans_normalised', 'IHPF_10.0_max', 'IHPF_1e-05_kmeans_normalised', 'IHPF_1e-05_max', 'IHPF_0.0001_kmeans_normalised', 'IHPF_0.0001_max', 'IHPF_0.001_kmeans_normalised', 'IHPF_0.001_max', 'IHPF_0.01_kmeans_normalised', 'IHPF_0.01_max'\n",
      "    obsm: 'HPF', 'HPF_TSNE', 'IHPF', 'IHPF_0.0001', 'IHPF_0.001', 'IHPF_0.01', 'IHPF_0.1', 'IHPF_0.5', 'IHPF_1.0', 'IHPF_10.0', 'IHPF_1e-05', 'IHPF_TSNE', 'INMF', 'INMF_0.0001', 'INMF_0.001', 'INMF_0.01', 'INMF_0.1', 'INMF_0.5', 'INMF_1.0', 'INMF_10.0', 'INMF_1e-05', 'INMF_TSNE', 'PCA', 'PCA_TSNE'\n",
      "    varm: 'HPF', 'IHPF', 'IHPF_0.0001', 'IHPF_0.001', 'IHPF_0.01', 'IHPF_0.1', 'IHPF_0.5', 'IHPF_1.0', 'IHPF_10.0', 'IHPF_1e-05', 'INMF', 'INMF_0.0001', 'INMF_0.001', 'INMF_0.01', 'INMF_0.1', 'INMF_0.5', 'INMF_1.0', 'INMF_10.0', 'INMF_1e-05', 'PCA'\n",
      "AnnData object with n_obs × n_vars = 15921 × 5057\n",
      "    obs: 'actual', 'batch', 'IHPF_kmeans_normalised', 'HPF_kmeans_normalised', 'INMF_kmeans_normalised', 'PCA_kmeans_normalised', 'IHPF_max', 'INMF_max', 'HPF_max', 'PCA_max', 'INMF_0.1_kmeans_normalised', 'INMF_0.1_max', 'INMF_0.5_kmeans_normalised', 'INMF_0.5_max', 'INMF_1.0_kmeans_normalised', 'INMF_1.0_max', 'INMF_10.0_kmeans_normalised', 'INMF_10.0_max', 'INMF_1e-05_kmeans_normalised', 'INMF_1e-05_max', 'INMF_0.0001_kmeans_normalised', 'INMF_0.0001_max', 'INMF_0.001_kmeans_normalised', 'INMF_0.001_max', 'INMF_0.01_kmeans_normalised', 'INMF_0.01_max', 'IHPF_0.1_kmeans_normalised', 'IHPF_0.1_max', 'IHPF_0.5_kmeans_normalised', 'IHPF_0.5_max', 'IHPF_1.0_kmeans_normalised', 'IHPF_1.0_max', 'IHPF_10.0_kmeans_normalised', 'IHPF_10.0_max', 'IHPF_1e-05_kmeans_normalised', 'IHPF_1e-05_max', 'IHPF_0.0001_kmeans_normalised', 'IHPF_0.0001_max', 'IHPF_0.001_kmeans_normalised', 'IHPF_0.001_max', 'IHPF_0.01_kmeans_normalised', 'IHPF_0.01_max'\n",
      "    obsm: 'HPF', 'HPF_TSNE', 'IHPF', 'IHPF_0.0001', 'IHPF_0.001', 'IHPF_0.01', 'IHPF_0.1', 'IHPF_0.5', 'IHPF_1.0', 'IHPF_10.0', 'IHPF_1e-05', 'IHPF_TSNE', 'INMF', 'INMF_0.0001', 'INMF_0.001', 'INMF_0.01', 'INMF_0.1', 'INMF_0.5', 'INMF_1.0', 'INMF_10.0', 'INMF_1e-05', 'INMF_TSNE', 'PCA', 'PCA_TSNE'\n",
      "    varm: 'HPF', 'IHPF', 'IHPF_0.0001', 'IHPF_0.001', 'IHPF_0.01', 'IHPF_0.1', 'IHPF_0.5', 'IHPF_1.0', 'IHPF_10.0', 'IHPF_1e-05', 'INMF', 'INMF_0.0001', 'INMF_0.001', 'INMF_0.01', 'INMF_0.1', 'INMF_0.5', 'INMF_1.0', 'INMF_10.0', 'INMF_1e-05', 'PCA'\n",
      "AnnData object with n_obs × n_vars = 26202 × 8234\n",
      "    obs: 'actual', 'batch', 'IHPF_kmeans_normalised', 'HPF_kmeans_normalised', 'INMF_kmeans_normalised', 'PCA_kmeans_normalised', 'IHPF_max', 'INMF_max', 'HPF_max', 'PCA_max', 'INMF_0.1_kmeans_normalised', 'INMF_0.1_max', 'INMF_0.5_kmeans_normalised', 'INMF_0.5_max', 'INMF_1.0_kmeans_normalised', 'INMF_1.0_max', 'INMF_10.0_kmeans_normalised', 'INMF_10.0_max', 'INMF_1e-05_kmeans_normalised', 'INMF_1e-05_max', 'INMF_0.0001_kmeans_normalised', 'INMF_0.0001_max', 'INMF_0.001_kmeans_normalised', 'INMF_0.001_max', 'INMF_0.01_kmeans_normalised', 'INMF_0.01_max', 'IHPF_0.1_kmeans_normalised', 'IHPF_0.1_max', 'IHPF_0.5_kmeans_normalised', 'IHPF_0.5_max', 'IHPF_1.0_kmeans_normalised', 'IHPF_1.0_max', 'IHPF_10.0_kmeans_normalised', 'IHPF_10.0_max', 'IHPF_1e-05_kmeans_normalised', 'IHPF_1e-05_max', 'IHPF_0.0001_kmeans_normalised', 'IHPF_0.0001_max', 'IHPF_0.001_kmeans_normalised', 'IHPF_0.001_max', 'IHPF_0.01_kmeans_normalised', 'IHPF_0.01_max'\n",
      "    obsm: 'HPF', 'HPF_TSNE', 'IHPF', 'IHPF_0.0001', 'IHPF_0.001', 'IHPF_0.01', 'IHPF_0.1', 'IHPF_0.5', 'IHPF_1.0', 'IHPF_10.0', 'IHPF_1e-05', 'IHPF_TSNE', 'INMF', 'INMF_0.0001', 'INMF_0.001', 'INMF_0.01', 'INMF_0.1', 'INMF_0.5', 'INMF_1.0', 'INMF_10.0', 'INMF_1e-05', 'INMF_TSNE', 'PCA', 'PCA_TSNE'\n",
      "    varm: 'HPF', 'IHPF', 'IHPF_0.0001', 'IHPF_0.001', 'IHPF_0.01', 'IHPF_0.1', 'IHPF_0.5', 'IHPF_1.0', 'IHPF_10.0', 'IHPF_1e-05', 'INMF', 'INMF_0.0001', 'INMF_0.001', 'INMF_0.01', 'INMF_0.1', 'INMF_0.5', 'INMF_1.0', 'INMF_10.0', 'INMF_1e-05', 'PCA'\n"
     ]
    }
   ],
   "source": [
    "for dataset in datasets:\n",
    "    adata = sc.read('../Data/{}.h5ad'.format(dataset))\n",
    "    print(adata)"
   ]
  },
  {
   "cell_type": "markdown",
   "metadata": {},
   "source": [
    "## IHPF "
   ]
  },
  {
   "cell_type": "code",
   "execution_count": null,
   "metadata": {},
   "outputs": [],
   "source": [
    "for dataset in datasets:\n",
    "    batch_labels = 'batch'\n",
    "    cell_labels = 'actual' \n",
    "    ## Replace this with the location of your h5ad files\n",
    "    adata = sc.read('../Data/{}.h5ad'.format(dataset))\n",
    "    no_cell_types = len(adata.obs[cell_labels].unique())\n",
    "    no_batches = len(adata.obs[batch_labels].unique())\n",
    "    # Split cell matrix into batches preserving order \n",
    "    Xlist = list()\n",
    "    split_idx = list()\n",
    "    for i,df in adata.obs.groupby(batch_labels):\n",
    "        df_ints = [int(x) for x in df.index]\n",
    "        split_idx.append(min(df_ints))\n",
    "    split_idx.append(adata.obs.shape[0])\n",
    "    split_idx = sorted(split_idx)\n",
    "    split_starts = split_idx[:-1]\n",
    "    split_ends = split_idx[1:]\n",
    "    for i in range(0,no_batches):\n",
    "        Xlist.append(coo_matrix(adata.X[split_starts[i]:split_ends[i],:]))\n",
    "    model = IHPF.scIHPF(no_cell_types,max_iter=500)\n",
    "    model.fit(Xlist,dataset_ratio=0.1)\n",
    "    adata.obsm['IHPF'] = np.concatenate(model.cell_scores(),axis=0)\n",
    "    adata.varm['IHPF'] = model.shared_gene_scores()\n",
    "    kmeans_cell = KMeans(n_clusters=no_cell_types, random_state=0).fit(normalize(adata.obsm['IHPF']))\n",
    "    adata.obs['IHPF_kmeans_normalised'] = kmeans_cell.labels_\n",
    "    adata.obs['IHPF_max'] = np.argmax(adata.obsm['IHPF'],axis=1)\n",
    "    adata.write('../Data/{}.h5ad'.format(dataset))\n",
    "    "
   ]
  },
  {
   "cell_type": "code",
   "execution_count": null,
   "metadata": {},
   "outputs": [],
   "source": []
  },
  {
   "cell_type": "markdown",
   "metadata": {},
   "source": [
    "## INMF "
   ]
  },
  {
   "cell_type": "code",
   "execution_count": null,
   "metadata": {},
   "outputs": [],
   "source": [
    "from INMF import INMF"
   ]
  },
  {
   "cell_type": "code",
   "execution_count": null,
   "metadata": {},
   "outputs": [],
   "source": [
    "class scINMF:\n",
    "    def __init__(self, k, alpha=1, **kwargs):\n",
    "        np.random.seed(0)\n",
    "        self.n_components = k\n",
    "        self.method = INMF(\n",
    "            n_components=self.n_components, solver=\"mu\", alpha=alpha, **kwargs\n",
    "        )\n",
    "\n",
    "    def fit(self, X):\n",
    "        self.data = X\n",
    "        (\n",
    "            self.cell_scores,\n",
    "            self.shared_gene_scores,\n",
    "            self.dataset_gene_scores,\n",
    "        ) = self.method.fit_transform(self.data)\n"
   ]
  },
  {
   "cell_type": "code",
   "execution_count": null,
   "metadata": {},
   "outputs": [],
   "source": [
    "for dataset in datasets:\n",
    "    batch_labels = 'batch'\n",
    "    cell_labels = 'actual' \n",
    "    adata = sc.read('../Data/{}.h5ad'.format(dataset))\n",
    "    no_cell_types = len(adata.obs[cell_labels].unique())\n",
    "    no_batches = len(adata.obs[batch_labels].unique())\n",
    "    # Split cell matrix into batches preserving order \n",
    "    Xlist = list()\n",
    "    split_idx = list()\n",
    "    for i,df in adata.obs.groupby(batch_labels):\n",
    "        df_ints = [int(x) for x in df.index]\n",
    "        split_idx.append(min(df_ints))\n",
    "    split_idx.append(adata.obs.shape[0])\n",
    "    split_idx = sorted(split_idx)\n",
    "    split_starts = split_idx[:-1]\n",
    "    split_ends = split_idx[1:]\n",
    "    for i in range(0,no_batches):\n",
    "        Xlist.append(coo_matrix(adata.X[split_starts[i]:split_ends[i],:]))\n",
    "    model = scINMF(no_cell_types,alpha=1,max_iter=500)\n",
    "    model.fit(Xlist)\n",
    "    adata.obsm['INMF'] = np.concatenate(model.cell_scores,axis=0)\n",
    "    adata.varm['INMF'] = model.shared_gene_scores.transpose()\n",
    "    kmeans_cell = KMeans(n_clusters=no_cell_types, random_state=0).fit(normalize(adata.obsm['INMF']))\n",
    "    adata.obs['INMF_kmeans_normalised'] = kmeans_cell.labels_\n",
    "    adata.obs['INMF_max'] = np.argmax(adata.obsm['INMF'],axis=1)\n",
    "    adata.write('../Data/{}.h5ad'.format(dataset))"
   ]
  },
  {
   "cell_type": "code",
   "execution_count": null,
   "metadata": {},
   "outputs": [],
   "source": []
  },
  {
   "cell_type": "markdown",
   "metadata": {},
   "source": [
    "## HPF"
   ]
  },
  {
   "cell_type": "code",
   "execution_count": null,
   "metadata": {},
   "outputs": [],
   "source": [
    "from schpf import scHPF\n",
    "from scipy.sparse import vstack"
   ]
  },
  {
   "cell_type": "code",
   "execution_count": null,
   "metadata": {},
   "outputs": [],
   "source": [
    "for dataset in datasets:\n",
    "    ## Replace this with the location of your h5ad files\n",
    "    adata = sc.read('../Data/{}.h5ad'.format(dataset))\n",
    "    no_cell_types = len(adata.obs[cell_labels].unique())\n",
    "    no_batches = len(adata.obs[batch_labels].unique())\n",
    "    # Split cell matrix into batches preserving order \n",
    "    Xlist = list()\n",
    "    split_idx = list()\n",
    "    for i,df in adata.obs.groupby(batch_labels):\n",
    "        df_ints = [int(x) for x in df.index]\n",
    "        split_idx.append(min(df_ints))\n",
    "    split_idx.append(adata.obs.shape[0])\n",
    "    split_idx = sorted(split_idx)\n",
    "    split_starts = split_idx[:-1]\n",
    "    split_ends = split_idx[1:]\n",
    "    for i in range(0,no_batches):\n",
    "        Xlist.append(coo_matrix(adata.X[split_starts[i]:split_ends[i],:]))\n",
    "    model = scHPF(no_cell_types,max_iter=500)\n",
    "    model.fit(vstack(Xlist))\n",
    "    adata.obsm['HPF'] = model.cell_score()\n",
    "    adata.varm['HPF'] = model.gene_score()\n",
    "    kmeans_cell = KMeans(n_clusters=no_cell_types, random_state=0).fit(normalize(adata.obsm['HPF']))\n",
    "    adata.obs['HPF_kmeans_normalised'] = kmeans_cell.labels_\n",
    "    adata.obs['HPF_max'] = np.argmax(adata.obsm['HPF'],axis=1)\n",
    "    adata.write('../Data/{}.h5ad'.format(dataset))"
   ]
  },
  {
   "cell_type": "code",
   "execution_count": null,
   "metadata": {},
   "outputs": [],
   "source": []
  },
  {
   "cell_type": "markdown",
   "metadata": {},
   "source": [
    "## PCA"
   ]
  },
  {
   "cell_type": "code",
   "execution_count": null,
   "metadata": {},
   "outputs": [],
   "source": [
    "class scPCA:\n",
    "    def __init__(self, k):\n",
    "        from sklearn.decomposition import TruncatedSVD\n",
    "\n",
    "        np.random.seed(0)\n",
    "        self.n_components = k\n",
    "        self.method = TruncatedSVD(n_components=self.n_components)\n",
    "\n",
    "    def fit(self, X):\n",
    "        self.data = X\n",
    "        self.method.fit(self.data)\n",
    "        self.cell_score = self.method.transform(self.data)\n",
    "        self.gene_score = self.method.components_.transpose()"
   ]
  },
  {
   "cell_type": "code",
   "execution_count": null,
   "metadata": {},
   "outputs": [],
   "source": [
    "for dataset in datasets:\n",
    "    ## Replace this with the location of your h5ad files\n",
    "    adata = sc.read('../Data/{}.h5ad'.format(dataset))\n",
    "    no_cell_types = len(adata.obs[cell_labels].unique())\n",
    "    no_batches = len(adata.obs[batch_labels].unique())\n",
    "    # Split cell matrix into batches preserving order \n",
    "    Xlist = list()\n",
    "    split_idx = list()\n",
    "    for i,df in adata.obs.groupby(batch_labels):\n",
    "        df_ints = [int(x) for x in df.index]\n",
    "        split_idx.append(min(df_ints))\n",
    "    split_idx.append(adata.obs.shape[0])\n",
    "    split_idx = sorted(split_idx)\n",
    "    split_starts = split_idx[:-1]\n",
    "    split_ends = split_idx[1:]\n",
    "    for i in range(0,no_batches):\n",
    "        Xlist.append(coo_matrix(adata.X[split_starts[i]:split_ends[i],:]))\n",
    "    model = scPCA(no_cell_types)\n",
    "    model.fit(vstack(Xlist))\n",
    "    adata.obsm['PCA'] = model.cell_score\n",
    "    adata.varm['PCA'] = model.gene_score\n",
    "    kmeans_cell = KMeans(n_clusters=no_cell_types, random_state=0).fit(normalize(adata.obsm['PCA']))\n",
    "    adata.obs['PCA_kmeans_normalised'] = kmeans_cell.labels_\n",
    "    adata.obs['PCA_max'] = np.argmax(adata.obsm['PCA'],axis=1)\n",
    "    adata.write('../Data/{}.h5ad'.format(dataset))"
   ]
  },
  {
   "cell_type": "code",
   "execution_count": null,
   "metadata": {},
   "outputs": [],
   "source": []
  },
  {
   "cell_type": "code",
   "execution_count": null,
   "metadata": {},
   "outputs": [],
   "source": [
    "for dataset in datasets:\n",
    "    ## Replace this with the location of your h5ad files\n",
    "    adata = sc.read('../Data/{}.h5ad'.format(dataset))\n",
    "    print(adata)"
   ]
  },
  {
   "cell_type": "code",
   "execution_count": null,
   "metadata": {},
   "outputs": [],
   "source": []
  },
  {
   "cell_type": "markdown",
   "metadata": {},
   "source": [
    "## Clustering performance"
   ]
  },
  {
   "cell_type": "code",
   "execution_count": null,
   "metadata": {},
   "outputs": [],
   "source": [
    "from sklearn.metrics import confusion_matrix\n",
    "from sklearn.metrics import adjusted_mutual_info_score, silhouette_score\n",
    "from sklearn import preprocessing"
   ]
  },
  {
   "cell_type": "code",
   "execution_count": null,
   "metadata": {},
   "outputs": [],
   "source": [
    "datasets = ['10Xmouse','humanpancreas','10Xpbmc',]"
   ]
  },
  {
   "cell_type": "code",
   "execution_count": null,
   "metadata": {},
   "outputs": [],
   "source": [
    "batchAMI = dict()\n",
    "actualAMI = dict()\n",
    "\n",
    "for dataset in datasets:\n",
    "    if dataset == 'species':\n",
    "        batch_labels = 'species'\n",
    "        cell_labels = 'condition'\n",
    "    else:\n",
    "        batch_labels = 'batch'\n",
    "        cell_labels = 'actual' \n",
    "    batch = dict()\n",
    "    actual = dict()\n",
    "    adata = sc.read('../Data/{}.h5ad'.format(dataset))\n",
    "    for method in ['IHPF','INMF','HPF','PCA']:\n",
    "        batch[method] = adjusted_mutual_info_score(adata.obs[batch_labels],adata.obs['{}_kmeans_normalised'.format(method)])\n",
    "        actual[method] = adjusted_mutual_info_score(adata.obs[cell_labels],adata.obs['{}_kmeans_normalised'.format(method)])\n",
    "    batch['actual'] = adjusted_mutual_info_score(adata.obs[batch_labels],adata.obs[cell_labels])\n",
    "    actual['batch'] = adjusted_mutual_info_score(adata.obs[batch_labels],adata.obs[cell_labels])\n",
    "    batchAMI[dataset] = batch\n",
    "    actualAMI[dataset] = actual"
   ]
  },
  {
   "cell_type": "code",
   "execution_count": null,
   "metadata": {},
   "outputs": [],
   "source": [
    "np.round(pd.DataFrame(actualAMI),3)"
   ]
  },
  {
   "cell_type": "code",
   "execution_count": null,
   "metadata": {},
   "outputs": [],
   "source": [
    "np.round(pd.DataFrame(batchAMI),3)"
   ]
  },
  {
   "cell_type": "code",
   "execution_count": null,
   "metadata": {},
   "outputs": [],
   "source": [
    "batchputriy = dict()\n",
    "actualputriy = dict()\n",
    "\n",
    "for dataset in datasets:\n",
    "    batch_labels = 'batch'\n",
    "    cell_labels = 'actual' \n",
    "    batch = dict()\n",
    "    actual = dict()\n",
    "    adata = sc.read('../Data/{}.h5ad'.format(dataset))\n",
    "    for method in ['IHPF','INMF','HPF','PCA']:\n",
    "        le = preprocessing.LabelEncoder()\n",
    "        batchlabel = le.fit_transform(adata.obs[batch_labels])\n",
    "        le = preprocessing.LabelEncoder()\n",
    "        actuallabel = le.fit_transform(adata.obs[cell_labels])\n",
    "        no_cell_types = len(adata.obs[cell_labels].unique())\n",
    "        batch[method] = np.sum(np.max(confusion_matrix(batchlabel,adata.obs['{}_kmeans_normalised'.format(method)]),axis=1)) / len(adata.obs[cell_labels])\n",
    "        actual[method] = np.sum(np.max(confusion_matrix(actuallabel,adata.obs['{}_kmeans_normalised'.format(method)]),axis=1)) / len(adata.obs[cell_labels])\n",
    "    actual['batch'] =  np.sum(np.max(confusion_matrix(actuallabel,batchlabel),axis=1)) / len(adata.obs[cell_labels])\n",
    "    batchputriy[dataset] = batch\n",
    "    actualputriy[dataset] = actual"
   ]
  },
  {
   "cell_type": "code",
   "execution_count": null,
   "metadata": {},
   "outputs": [],
   "source": [
    "np.round(pd.DataFrame(actualputriy),3)"
   ]
  },
  {
   "cell_type": "code",
   "execution_count": null,
   "metadata": {},
   "outputs": [],
   "source": []
  },
  {
   "cell_type": "code",
   "execution_count": null,
   "metadata": {},
   "outputs": [],
   "source": [
    "SC = dict()\n",
    "for dataset in datasets:\n",
    "    batch = dict()\n",
    "    actual = dict()\n",
    "    adata = sc.read('../Data/{}.h5ad'.format(dataset))\n",
    "    for method in ['INMF','IHPF','HPF','PCA']:\n",
    "        batch[method] = silhouette_score(adata.obsm['{}'.format(method)],adata.obs['{}_kmeans_normalised'.format(method)],)\n",
    "    SC[dataset] = batch"
   ]
  },
  {
   "cell_type": "code",
   "execution_count": null,
   "metadata": {},
   "outputs": [],
   "source": [
    "np.round(pd.DataFrame(SC),3)"
   ]
  },
  {
   "cell_type": "code",
   "execution_count": null,
   "metadata": {},
   "outputs": [],
   "source": []
  },
  {
   "cell_type": "code",
   "execution_count": null,
   "metadata": {},
   "outputs": [],
   "source": []
  },
  {
   "cell_type": "markdown",
   "metadata": {},
   "source": [
    "## Heatmap of cluster labels with actual labels"
   ]
  },
  {
   "cell_type": "code",
   "execution_count": null,
   "metadata": {},
   "outputs": [],
   "source": [
    "import seaborn as sns\n",
    "for dataset in ['10Xmouse',]:\n",
    "    adata = sc.read('../Data/{}.h5ad'.format(dataset))\n",
    "    clustered = adata.obs[['actual','batch','IHPF_kmeans_normalised','INMF_kmeans_normalised','HPF_kmeans_normalised','PCA_kmeans_normalised']].set_index(['actual','batch']).sort_index()\n",
    "    sns.heatmap(clustered)"
   ]
  },
  {
   "cell_type": "code",
   "execution_count": null,
   "metadata": {},
   "outputs": [],
   "source": [
    "for dataset in ['10Xpbmc',]:\n",
    "    adata = sc.read('../Data/{}.h5ad'.format(dataset))\n",
    "    clustered = adata.obs[['actual','batch','IHPF_kmeans_normalised','INMF_kmeans_normalised','HPF_kmeans_normalised','PCA_kmeans_normalised']].set_index(['actual','batch']).sort_index()\n",
    "    sns.heatmap(clustered)"
   ]
  },
  {
   "cell_type": "code",
   "execution_count": null,
   "metadata": {},
   "outputs": [],
   "source": [
    "for dataset in ['humanpancreas',]:\n",
    "    adata = sc.read('../Data/{}.h5ad'.format(dataset))\n",
    "    clustered = adata.obs[['actual','batch','IHPF_kmeans_normalised','INMF_kmeans_normalised','HPF_kmeans_normalised','PCA_kmeans_normalised']].set_index(['actual','batch']).sort_index()\n",
    "    sns.heatmap(clustered)"
   ]
  },
  {
   "cell_type": "code",
   "execution_count": null,
   "metadata": {},
   "outputs": [],
   "source": []
  },
  {
   "cell_type": "markdown",
   "metadata": {},
   "source": [
    "## TSNE "
   ]
  },
  {
   "cell_type": "code",
   "execution_count": null,
   "metadata": {},
   "outputs": [],
   "source": [
    "datasets = ['10Xmouse','humanpancreas','10Xpbmc',]"
   ]
  },
  {
   "cell_type": "code",
   "execution_count": null,
   "metadata": {},
   "outputs": [],
   "source": [
    "from MulticoreTSNE import MulticoreTSNE as TSNE"
   ]
  },
  {
   "cell_type": "code",
   "execution_count": null,
   "metadata": {},
   "outputs": [],
   "source": [
    "for dataset in datasets:\n",
    "    adata = sc.read('../Data/{}.h5ad'.format(dataset))\n",
    "    for method in ['IHPF','INMF','HPF','PCA']:\n",
    "        adata.obsm['{}_TSNE'.format(method)] = TSNE(n_jobs=60).fit_transform(normalize(adata.obsm[method]))\n",
    "    adata.write('../Data/{}.h5ad'.format(dataset))"
   ]
  },
  {
   "cell_type": "code",
   "execution_count": null,
   "metadata": {},
   "outputs": [],
   "source": []
  },
  {
   "cell_type": "code",
   "execution_count": null,
   "metadata": {},
   "outputs": [],
   "source": []
  },
  {
   "cell_type": "markdown",
   "metadata": {},
   "source": [
    "## TSNE plot "
   ]
  },
  {
   "cell_type": "code",
   "execution_count": null,
   "metadata": {},
   "outputs": [],
   "source": [
    "import seaborn as sb\n",
    "import matplotlib.pyplot as plt"
   ]
  },
  {
   "cell_type": "code",
   "execution_count": null,
   "metadata": {},
   "outputs": [],
   "source": [
    "f, axes = plt.subplots(1, 3, figsize=(30, 10), sharex=False)\n",
    "f.suptitle('TSNE heatmaps of IHPF in different scenraios')\n",
    "\n",
    "flatui = sb.color_palette(\"pastel\",20)\n",
    "sb.set_palette(flatui,10)\n",
    "\n",
    "datasets = ['10Xmouse','humanpancreas','10Xpbmc']\n",
    "i = 0\n",
    "for dataset in datasets:\n",
    "    batch_labels = 'batch'\n",
    "    cell_labels = 'actual'   \n",
    "    method = 'IHPF'\n",
    "    adata = sc.read('../Data/{}.h5ad'.format(dataset))\n",
    "    sb.scatterplot(adata.obsm['{}_TSNE'.format(method)][:,0], adata.obsm['{}_TSNE'.format(method)][:,1], hue=adata.obs[cell_labels],legend='full',ax=axes[i])\n",
    "    axes[i].set(xlabel='TSNE-1', ylabel='TSNE-2',title='{}'.format(dataset))\n",
    "    i = i + 1\n",
    "plt.savefig('../Result/TSNE_IHPF_cell_v2.pdf'.format(),format='pdf')"
   ]
  },
  {
   "cell_type": "code",
   "execution_count": null,
   "metadata": {},
   "outputs": [],
   "source": [
    "f, axes = plt.subplots(1, 3, figsize=(30, 10), sharex=False)\n",
    "f.suptitle('TSNE heatmaps of IHPF in different scenraios')\n",
    "\n",
    "flatui = sb.color_palette(\"pastel\",20)\n",
    "sb.set_palette(flatui,10)\n",
    "\n",
    "datasets = ['10Xmouse','humanpancreas','10Xpbmc',]\n",
    "i = 0\n",
    "for dataset in datasets:\n",
    "    batch_labels = 'batch'\n",
    "    cell_labels = 'actual'   \n",
    "    method = 'IHPF'\n",
    "    adata = sc.read('../Data/{}.h5ad'.format(dataset))\n",
    "    sb.scatterplot(adata.obsm['{}_TSNE'.format(method)][:,0], adata.obsm['{}_TSNE'.format(method)][:,1], hue=adata.obs[batch_labels],legend='full',ax=axes[i])\n",
    "    axes[i].set(xlabel='TSNE-1', ylabel='TSNE-2',title='{}'.format(dataset))\n",
    "    i = i + 1\n",
    "plt.savefig('../Result/TSNE_IHPF_batch_v2.pdf'.format(),format='pdf')"
   ]
  },
  {
   "cell_type": "code",
   "execution_count": null,
   "metadata": {},
   "outputs": [],
   "source": [
    "f, axes = plt.subplots(1, 3, figsize=(30, 10), sharex=False)\n",
    "f.suptitle('TSNE heatmaps of HPF in different scenraios')\n",
    "\n",
    "flatui = sb.color_palette(\"pastel\",20)\n",
    "sb.set_palette(flatui,10)\n",
    "\n",
    "datasets = ['10Xmouse','humanpancreas','10Xpbmc']\n",
    "i = 0\n",
    "for dataset in datasets:\n",
    "    batch_labels = 'batch'\n",
    "    cell_labels = 'actual'   \n",
    "    method = 'HPF'\n",
    "    adata = sc.read('../Data/{}.h5ad'.format(dataset))\n",
    "    sb.scatterplot(adata.obsm['{}_TSNE'.format(method)][:,0], adata.obsm['{}_TSNE'.format(method)][:,1], hue=adata.obs[cell_labels],legend='full',ax=axes[i])\n",
    "    axes[i].set(xlabel='TSNE-1', ylabel='TSNE-2',title='{}'.format(dataset))\n",
    "    i = i + 1\n",
    "plt.savefig('../Result/TSNE_HPF_cell_v2.pdf'.format(),format='pdf')"
   ]
  },
  {
   "cell_type": "code",
   "execution_count": null,
   "metadata": {
    "scrolled": true
   },
   "outputs": [],
   "source": [
    "f, axes = plt.subplots(1, 3, figsize=(30, 10), sharex=False)\n",
    "f.suptitle('TSNE heatmaps of HPF in different scenraios')\n",
    "\n",
    "flatui = sb.color_palette(\"pastel\",20)\n",
    "sb.set_palette(flatui,10)\n",
    "\n",
    "datasets = ['10Xmouse','humanpancreas','10Xpbmc']\n",
    "i = 0\n",
    "for dataset in datasets:\n",
    "    batch_labels = 'batch'\n",
    "    cell_labels = 'actual'   \n",
    "    method = 'HPF'\n",
    "    adata = sc.read('../Data/{}.h5ad'.format(dataset))\n",
    "    sb.scatterplot(adata.obsm['{}_TSNE'.format(method)][:,0], adata.obsm['{}_TSNE'.format(method)][:,1], hue=adata.obs[batch_labels],legend='full',ax=axes[i])\n",
    "    axes[i].set(xlabel='TSNE-1', ylabel='TSNE-2',title='{}'.format(dataset))\n",
    "    i = i + 1\n",
    "plt.savefig('../Result/TSNE_HPF_batch_v2.pdf'.format(),format='pdf')"
   ]
  },
  {
   "cell_type": "code",
   "execution_count": null,
   "metadata": {},
   "outputs": [],
   "source": []
  },
  {
   "cell_type": "markdown",
   "metadata": {},
   "source": [
    "## Block structure "
   ]
  },
  {
   "cell_type": "code",
   "execution_count": null,
   "metadata": {},
   "outputs": [],
   "source": [
    "Plot_no = len(datasets)\n",
    "f, axes = plt.subplots(Plot_no, 3, figsize=(36, 21))\n",
    "f.suptitle('Heatmap of latent factors for different data integration methods'.format())\n",
    "\n",
    "j = 0 \n",
    "for dataset in datasets:\n",
    "    batch_labels = 'batch'\n",
    "    cell_labels = 'actual'  \n",
    "    adata = sc.read('../Data/{}.h5ad'.format(dataset))\n",
    "    # sort the cell score by cell types\n",
    "    cell_score_df = pd.DataFrame(adata.obsm['PCA'])\n",
    "    cell_score_df['labels'] = adata.obs[cell_labels].values\n",
    "    cell_score_df = cell_score_df.set_index(['labels']).sort_index()   \n",
    "    cell_score_df2 = pd.DataFrame(adata.obsm['INMF'])\n",
    "    cell_score_df2['labels'] = adata.obs[cell_labels].values\n",
    "    cell_score_df2 = cell_score_df2.set_index(['labels']).sort_index()\n",
    "    cell_score_df3 = pd.DataFrame(adata.obsm['IHPF'])\n",
    "    cell_score_df3['labels'] = adata.obs[cell_labels].values\n",
    "    cell_score_df3 = cell_score_df3.set_index(['labels']).sort_index()\n",
    "    \n",
    "    # Plot heatmap \n",
    "    sb.heatmap(cell_score_df, ax=axes[j,0], ).set(xlabel='Factors', ylabel='Cell Scores', title='Cell scores of PCA {}'.format(dataset))\n",
    "    sb.heatmap(cell_score_df2, ax=axes[j,1],).set(xlabel='Factors', ylabel='Cell Scores', title='Cell scores of integrative NMF {}'.format(dataset))\n",
    "    sb.heatmap(cell_score_df3, ax=axes[j,2],).set(xlabel='Factors', ylabel='Cell Scores', title='Cell scores of integrative HPF {}'.format(dataset))\n",
    "    j += 1\n",
    "    \n",
    "f.savefig('../Result/Dataset_techs_cellmaps_all_v2.pdf'.format(),format='pdf')"
   ]
  },
  {
   "cell_type": "code",
   "execution_count": null,
   "metadata": {},
   "outputs": [],
   "source": []
  },
  {
   "cell_type": "code",
   "execution_count": null,
   "metadata": {},
   "outputs": [],
   "source": []
  },
  {
   "cell_type": "code",
   "execution_count": null,
   "metadata": {},
   "outputs": [],
   "source": [
    "# Gene Scores block structure \n",
    "\n",
    "from sklearn.cluster import AgglomerativeClustering, SpectralCoclustering"
   ]
  },
  {
   "cell_type": "code",
   "execution_count": null,
   "metadata": {},
   "outputs": [],
   "source": [
    "Plot_no = len(datasets)\n",
    "f, axes = plt.subplots(Plot_no, 3, figsize=(36, 21))\n",
    "f.suptitle('Heatmap of latent factors for different data integration methods'.format())\n",
    "\n",
    "j = 0 \n",
    "for dataset in datasets:\n",
    "    batch_labels = 'batch'\n",
    "    cell_labels = 'actual'  \n",
    "    adata = sc.read('../Data/{}.h5ad'.format(dataset))\n",
    "    # PCA gene scores \n",
    "    data= pd.DataFrame(adata.varm['PCA'])\n",
    "    n_factors = adata.varm['PCA'].shape[1]\n",
    "    model = SpectralCoclustering(n_clusters=n_factors, random_state=0).fit(data)\n",
    "    fit_data = data.iloc[np.argsort(model.row_labels_),np.argsort(model.column_labels_)]\n",
    "    sb.heatmap(fit_data, ax=axes[j, 0], xticklabels=False, yticklabels=False).set(xlabel='Factors', ylabel='Gene Scores', title='Gene scores of PCA {}'.format(dataset))\n",
    "    # INMF gene scores \n",
    "    data= pd.DataFrame(adata.varm['INMF'])\n",
    "    n_factors = adata.varm['INMF'].shape[1]\n",
    "    model = SpectralCoclustering(n_clusters=n_factors, random_state=0).fit(data)\n",
    "    fit_data = data.iloc[np.argsort(model.row_labels_),np.argsort(model.column_labels_)]\n",
    "    sb.heatmap(fit_data, ax=axes[j, 1], xticklabels=False, yticklabels=False).set(xlabel='Factors', ylabel='Gene Scores', title='Gene scores of integrative NMF {}'.format(dataset))    \n",
    "    # IHPF gene scores \n",
    "    data= pd.DataFrame(adata.varm['IHPF'])\n",
    "    n_factors = adata.varm['IHPF'].shape[1]\n",
    "    model = SpectralCoclustering(n_clusters=n_factors, random_state=0).fit(data)\n",
    "    fit_data = data.iloc[np.argsort(model.row_labels_),np.argsort(model.column_labels_)]\n",
    "    sb.heatmap(fit_data, ax=axes[j, 2], xticklabels=False, yticklabels=False).set(xlabel='Factors', ylabel='Gene Scores', title='Gene scores of integrative HPF {}'.format(dataset))    \n",
    "    \n",
    "    j += 1\n",
    "    \n",
    "f.savefig('../Result/Dataset_techs_genemaps_all_v2.pdf'.format(),format='pdf')"
   ]
  },
  {
   "cell_type": "code",
   "execution_count": null,
   "metadata": {},
   "outputs": [],
   "source": []
  },
  {
   "cell_type": "code",
   "execution_count": null,
   "metadata": {},
   "outputs": [],
   "source": []
  },
  {
   "cell_type": "markdown",
   "metadata": {},
   "source": [
    "## Hyper-parameter search"
   ]
  },
  {
   "cell_type": "code",
   "execution_count": null,
   "metadata": {},
   "outputs": [],
   "source": [
    "datasets = ['10Xmouse','humanpancreas','10Xpbmc']"
   ]
  },
  {
   "cell_type": "code",
   "execution_count": null,
   "metadata": {},
   "outputs": [],
   "source": [
    "for dataset in datasets:\n",
    "    batch_labels = 'batch'\n",
    "    cell_labels = 'actual'  \n",
    "    ## Replace this with the location of your h5ad files\n",
    "    adata = sc.read('../Data/{}.h5ad'.format(dataset))\n",
    "    a = np.array([0.1, 0.5, 1, 10])\n",
    "    b = np.array([0.00001, 0.0001, 0.001, 0.01])\n",
    "    hyper_parameter_space = np.concatenate((a, b), axis=None)\n",
    "    for l in hyper_parameter_space:\n",
    "        no_cell_types = len(adata.obs[cell_labels].unique())\n",
    "        no_batches = len(adata.obs[batch_labels].unique())\n",
    "        # Split cell matrix into batches preserving order \n",
    "        Xlist = list()\n",
    "        split_idx = list()\n",
    "        for i,df in adata.obs.groupby(batch_labels):\n",
    "            df_ints = [int(x) for x in df.index]\n",
    "            split_idx.append(min(df_ints))\n",
    "        split_idx.append(adata.obs.shape[0])\n",
    "        split_idx = sorted(split_idx)\n",
    "        split_starts = split_idx[:-1]\n",
    "        split_ends = split_idx[1:]\n",
    "        for i in range(0,no_batches):\n",
    "            Xlist.append(coo_matrix(adata.X[split_starts[i]:split_ends[i],:]))\n",
    "        model = scINMF(no_cell_types,alpha=1/l,max_iter=500)\n",
    "        model.fit(Xlist)\n",
    "        adata.obsm['INMF_{}'.format(l)] = np.concatenate(model.cell_scores,axis=0)\n",
    "        adata.varm['INMF_{}'.format(l)] = model.shared_gene_scores.transpose()\n",
    "        kmeans_cell = KMeans(n_clusters=no_cell_types, random_state=0).fit(normalize(adata.obsm['INMF_{}'.format(l)]))\n",
    "        adata.obs['INMF_{}_kmeans_normalised'.format(l)] = kmeans_cell.labels_\n",
    "        adata.obs['INMF_{}_max'.format(l)] = np.argmax(adata.obsm['INMF_{}'.format(l)],axis=1)\n",
    "    adata.write('../Data/{}.h5ad'.format(dataset))"
   ]
  },
  {
   "cell_type": "code",
   "execution_count": null,
   "metadata": {},
   "outputs": [],
   "source": [
    "for dataset in datasets:\n",
    "    batch_labels = 'batch'\n",
    "    cell_labels = 'actual'      \n",
    "    adata = sc.read('../Data/{}.h5ad'.format(dataset))\n",
    "    a = np.array([0.1, 0.5, 1, 10])\n",
    "    b = np.array([0.00001, 0.0001, 0.001, 0.01])\n",
    "    hyper_parameter_space = np.concatenate((a, b), axis=None)\n",
    "    for l in hyper_parameter_space:\n",
    "        no_cell_types = len(adata.obs[cell_labels].unique())\n",
    "        no_batches = len(adata.obs[batch_labels].unique())\n",
    "        # Split cell matrix into batches preserving order \n",
    "        Xlist = list()\n",
    "        split_idx = list()\n",
    "        for i,df in adata.obs.groupby(batch_labels):\n",
    "            df_ints = [int(x) for x in df.index]\n",
    "            split_idx.append(min(df_ints))\n",
    "        split_idx.append(adata.obs.shape[0])\n",
    "        split_idx = sorted(split_idx)\n",
    "        split_starts = split_idx[:-1]\n",
    "        split_ends = split_idx[1:]\n",
    "        for i in range(0,no_batches):\n",
    "            Xlist.append(coo_matrix(adata.X[split_starts[i]:split_ends[i],:]))\n",
    "        model = IHPF.scIHPF(no_cell_types,max_iter=500)\n",
    "        model.fit(Xlist,dataset_ratio=l)\n",
    "        adata.obsm['IHPF_{}'.format(l)] = np.concatenate(model.cell_scores(),axis=0)\n",
    "        adata.varm['IHPF_{}'.format(l)] = model.shared_gene_scores()\n",
    "        kmeans_cell = KMeans(n_clusters=no_cell_types, random_state=0).fit(normalize(adata.obsm['IHPF_{}'.format(l)]))\n",
    "        adata.obs['IHPF_{}_kmeans_normalised'.format(l)] = kmeans_cell.labels_\n",
    "        adata.obs['IHPF_{}_max'.format(l)] = np.argmax(adata.obsm['IHPF_{}'.format(l)],axis=1)\n",
    "    adata.write('../Data/{}.h5ad'.format(dataset))"
   ]
  },
  {
   "cell_type": "code",
   "execution_count": null,
   "metadata": {},
   "outputs": [],
   "source": []
  },
  {
   "cell_type": "code",
   "execution_count": null,
   "metadata": {},
   "outputs": [],
   "source": [
    "for dataset in datasets:\n",
    "    adata = sc.read('../Data/{}.h5ad'.format(dataset))\n",
    "    print(adata)"
   ]
  },
  {
   "cell_type": "code",
   "execution_count": null,
   "metadata": {},
   "outputs": [],
   "source": []
  },
  {
   "cell_type": "code",
   "execution_count": null,
   "metadata": {},
   "outputs": [],
   "source": [
    "datasets = ['10Xmouse','humanpancreas','10Xpbmc']"
   ]
  },
  {
   "cell_type": "code",
   "execution_count": null,
   "metadata": {},
   "outputs": [],
   "source": [
    "batchAMI = dict()\n",
    "actualAMI = dict()\n",
    "\n",
    "for dataset in datasets:\n",
    "    batch_labels = 'batch'\n",
    "    cell_labels = 'actual'        \n",
    "    batch = dict()\n",
    "    actual = dict()\n",
    "    adata = sc.read('../Data/{}.h5ad'.format(dataset))\n",
    "    a = np.array([0.1, 0.5, 1, 10])\n",
    "    b = np.array([0.00001, 0.0001, 0.001, 0.01])\n",
    "    hyper_parameter_space = np.concatenate((a, b), axis=None)\n",
    "    for method in ['IHPF','INMF']:\n",
    "        for l in hyper_parameter_space:\n",
    "            batch[(method,l)] = adjusted_mutual_info_score(adata.obs[batch_labels],adata.obs['{}_{}_kmeans_normalised'.format(method,l)])\n",
    "            actual[(method,l)] = adjusted_mutual_info_score(adata.obs[cell_labels],adata.obs['{}_{}_kmeans_normalised'.format(method,l)])\n",
    "    batchAMI[dataset] = batch\n",
    "    actualAMI[dataset] = actual"
   ]
  },
  {
   "cell_type": "code",
   "execution_count": null,
   "metadata": {},
   "outputs": [],
   "source": [
    "np.round(pd.DataFrame(actualAMI),3)"
   ]
  },
  {
   "cell_type": "code",
   "execution_count": null,
   "metadata": {},
   "outputs": [],
   "source": [
    "import seaborn as sb\n",
    "import matplotlib.pyplot as plt"
   ]
  },
  {
   "cell_type": "code",
   "execution_count": null,
   "metadata": {},
   "outputs": [],
   "source": [
    "fig, axs = plt.subplots(1,3)\n",
    "fig.set_size_inches(28, 7)\n",
    "fig.suptitle('AMI of integrative HPF and integrative NMF with different noise ratios')\n",
    "AMI = pd.DataFrame(actualAMI).reset_index()\n",
    "AMI.columns = ['Method','Noise'] + datasets\n",
    "for dataset_no in range(0,3):  \n",
    "    # reshape multi index df into single index \n",
    "    df = AMI.pivot(index=\"Noise\", columns=\"Method\")[datasets[dataset_no]]\n",
    "    df.plot(ax=axs[dataset_no], logx=True)\n",
    "    axs[dataset_no].set(xlabel='Noise ratio', ylabel='AMI',title='Scenario {}'.format(datasets[dataset_no]))\n",
    "plt.savefig('../Result/Grid_Search_AMI_v2.pdf'.format(datasets[dataset_no]),format='pdf')"
   ]
  },
  {
   "cell_type": "code",
   "execution_count": null,
   "metadata": {},
   "outputs": [],
   "source": []
  },
  {
   "cell_type": "markdown",
   "metadata": {},
   "source": [
    "### Differential expressed genes"
   ]
  },
  {
   "cell_type": "code",
   "execution_count": 16,
   "metadata": {},
   "outputs": [],
   "source": [
    "datasets = ['humanpancreas','10Xpbmc','10Xmouse',]"
   ]
  },
  {
   "cell_type": "code",
   "execution_count": 53,
   "metadata": {},
   "outputs": [],
   "source": [
    "datasets = ['10Xmouse',]"
   ]
  },
  {
   "cell_type": "code",
   "execution_count": 54,
   "metadata": {},
   "outputs": [],
   "source": [
    "IHPF_top_genes = dict()\n",
    "\n",
    "for dataset in datasets:\n",
    "    IHPF_top_genes[dataset] = list()\n",
    "    batch_labels = 'batch'\n",
    "    cell_labels = 'actual'  \n",
    "    adata = sc.read('../Data/{}.h5ad'.format(dataset))\n",
    "    # IHPF gene scores \n",
    "    data= pd.DataFrame(adata.varm['IHPF'])\n",
    "    data.index = adata.var.index\n",
    "    mean = data.mean(axis=1)\n",
    "    for i in range(0,data.shape[1]):\n",
    "        ratio = data[i]\n",
    "        IHPF_top_genes[dataset].append(ratio.sort_values(ascending=False)[:50].index)"
   ]
  },
  {
   "cell_type": "code",
   "execution_count": 55,
   "metadata": {},
   "outputs": [],
   "source": [
    "## Select top ranking genes in each latent factor "
   ]
  },
  {
   "cell_type": "code",
   "execution_count": 56,
   "metadata": {},
   "outputs": [],
   "source": [
    "IHPFgenes = list()\n",
    "for y in IHPF_top_genes[dataset]:\n",
    "    IHPFgenes.extend(y)\n",
    "IHPFgenes = set(IHPFgenes)"
   ]
  },
  {
   "cell_type": "code",
   "execution_count": null,
   "metadata": {},
   "outputs": [],
   "source": []
  },
  {
   "cell_type": "code",
   "execution_count": 57,
   "metadata": {},
   "outputs": [
    {
     "name": "stdout",
     "output_type": "stream",
     "text": [
      "WARNING: Default of the method has been changed to 't-test' from 't-test_overestim_var'\n"
     ]
    }
   ],
   "source": [
    "## Use logstic regression to rank genes \n",
    "logadata = sc.pp.log1p(adata,copy=True)\n",
    "sc.tl.rank_genes_groups(logadata,groupby='actual')"
   ]
  },
  {
   "cell_type": "code",
   "execution_count": 58,
   "metadata": {},
   "outputs": [
    {
     "data": {
      "text/plain": [
       "rec.array([('LINC00636', 'C1orf167'), ('RP11-384K6.6', 'NEXN'),\n",
       "           ('RP11-558F24.4', 'SEPT10'), ('MRPL3', 'RP3-436N22.3'),\n",
       "           ('PRAMEF26', 'RP11-252P19.1'), ('AC097662.2', 'MCF2L2'),\n",
       "           ('HHIP-AS1', 'AL645728.1'), ('DLG1-AS1', 'CTD-2281M20.1'),\n",
       "           ('USP17L15', 'VGLL4'), ('FAM134B', 'FUBP1'),\n",
       "           ('LINC00883', 'CDK5'), ('FEZF1-AS1', 'SORBS2'),\n",
       "           ('TMEM168', 'AC017060.1'), ('PPIG', 'RP1-170O19.17'),\n",
       "           ('PLXNA4', 'FBXL2'), ('EPRS', 'RAB42'), ('RYBP', 'FAM43B'),\n",
       "           ('TRIM43', 'UQCRQ'), ('RP11-508O18.1', 'EIF4H'),\n",
       "           ('CLCNKA', 'PRPH2')],\n",
       "          dtype=[('293t', 'O'), ('jurkat', 'O')])"
      ]
     },
     "execution_count": 58,
     "metadata": {},
     "output_type": "execute_result"
    }
   ],
   "source": [
    "logadata.uns['rank_genes_groups']['names'][:20]"
   ]
  },
  {
   "cell_type": "code",
   "execution_count": 59,
   "metadata": {},
   "outputs": [],
   "source": [
    "loggenes = list()\n",
    "for x in logadata.uns['rank_genes_groups']['names'][:50]:\n",
    "    for y in x:\n",
    "        loggenes.append(y)\n",
    "loggenes = set(loggenes)"
   ]
  },
  {
   "cell_type": "code",
   "execution_count": 60,
   "metadata": {},
   "outputs": [
    {
     "data": {
      "image/png": "[encoded data removed]",
      "text/plain": [
       "<Figure size 864x288 with 2 Axes>"
      ]
     },
     "metadata": {
      "needs_background": "light"
     },
     "output_type": "display_data"
    }
   ],
   "source": [
    "sc.pl.rank_genes_groups(logadata)"
   ]
  },
  {
   "cell_type": "code",
   "execution_count": 61,
   "metadata": {},
   "outputs": [
    {
     "data": {
      "text/plain": [
       "{'TNFAIP6', 'ZNF398'}"
      ]
     },
     "execution_count": 61,
     "metadata": {},
     "output_type": "execute_result"
    }
   ],
   "source": [
    "IHPFgenes.intersection(loggenes)"
   ]
  },
  {
   "cell_type": "code",
   "execution_count": 67,
   "metadata": {},
   "outputs": [
    {
     "data": {
      "text/plain": [
       "<matplotlib.axes._subplots.AxesSubplot at 0x7f43f01b1490>"
      ]
     },
     "execution_count": 67,
     "metadata": {},
     "output_type": "execute_result"
    },
    {
     "data": {
      "image/png": "[encoded data removed]",
      "text/plain": [
       "<Figure size 432x288 with 2 Axes>"
      ]
     },
     "metadata": {
      "needs_background": "light"
     },
     "output_type": "display_data"
    }
   ],
   "source": [
    "import seaborn as sns\n",
    "sns.heatmap(data.loc[loggenes,:].sort_values(0))"
   ]
  },
  {
   "cell_type": "code",
   "execution_count": null,
   "metadata": {},
   "outputs": [],
   "source": []
  }
 ],
 "metadata": {
  "kernelspec": {
   "display_name": "Python 3",
   "language": "python",
   "name": "python3"
  },
  "language_info": {
   "codemirror_mode": {
    "name": "ipython",
    "version": 3
   },
   "file_extension": ".py",
   "mimetype": "text/x-python",
   "name": "python",
   "nbconvert_exporter": "python",
   "pygments_lexer": "ipython3",
   "version": "3.7.4"
  }
 },
 "nbformat": 4,
 "nbformat_minor": 2
}
