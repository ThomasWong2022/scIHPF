{
 "cells": [
  {
   "cell_type": "markdown",
   "metadata": {},
   "source": [
    "# Examples of running IHPF "
   ]
  },
  {
   "cell_type": "markdown",
   "metadata": {},
   "source": [
    "1. Download the scRNA-seq datasets in h5ad format and put in the folder Data/ \n",
    "\n",
    "Creating a smaller sample of 10Xmouse, does not work as the sub-sampled cells does not represent the distribution of original samples, making these cells not usable for IHPF. \n"
   ]
  },
  {
   "cell_type": "code",
   "execution_count": 80,
   "metadata": {},
   "outputs": [],
   "source": [
    "import IHPF\n",
    "import INMF \n",
    "import schpf\n",
    "from sklearn.decomposition import PCA"
   ]
  },
  {
   "cell_type": "code",
   "execution_count": 48,
   "metadata": {},
   "outputs": [],
   "source": [
    "from scipy.sparse import coo_matrix\n",
    "from sklearn.cluster import KMeans\n",
    "from sklearn.preprocessing import normalize\n",
    "import numpy as np\n",
    "import pandas as pd\n",
    "import scanpy as sc\n",
    "from anndata import AnnData"
   ]
  },
  {
   "cell_type": "code",
   "execution_count": 178,
   "metadata": {},
   "outputs": [
    {
     "name": "stdout",
     "output_type": "stream",
     "text": [
      "AnnData object with n_obs × n_vars = 9530 × 13130\n",
      "    obs: 'actual', 'batch', 'IHPF_kmeans_normalised', 'HPF_kmeans_normalised', 'INMF_kmeans_normalised', 'IPCA_kmeans_normalised', 'INMF_2_kmeans_normalised'\n",
      "    obsm: 'HPF', 'IHPF', 'INMF', 'INMF_2', 'IPCA'\n",
      "    varm: 'HPF', 'IHPF', 'INMF', 'INMF_2'\n",
      "AnnData object with n_obs × n_vars = 15921 × 5057\n",
      "    obs: 'actual', 'batch', 'IHPF_kmeans_normalised', 'HPF_kmeans_normalised', 'INMF_kmeans_normalised', 'IPCA_kmeans_normalised', 'INMF_10_kmeans_normalised', 'HPF_10_kmeans_normalised'\n",
      "    obsm: 'HPF', 'HPF_10', 'IHPF', 'INMF', 'INMF_10', 'IPCA'\n",
      "    varm: 'HPF', 'HPF_10', 'IHPF', 'INMF', 'INMF_10'\n",
      "AnnData object with n_obs × n_vars = 41927 × 8234\n",
      "    obs: 'actual', 'batch', 'IHPF_kmeans_normalised', 'HPF_kmeans_normalised', 'INMF_kmeans_normalised', 'IPCA_kmeans_normalised', 'INMF_7_kmeans_normalised'\n",
      "    obsm: 'HPF', 'IHPF', 'INMF', 'INMF_7', 'IPCA'\n",
      "    varm: 'HPF', 'IHPF', 'INMF', 'INMF_7'\n"
     ]
    }
   ],
   "source": [
    "datasets = ['10Xmouse','humanpancreas','10Xpbmc']\n",
    "for dataset in datasets:\n",
    "    ## Replace this with the location of your h5ad files\n",
    "    adata = sc.read('../Data/{}.h5ad'.format(dataset))\n",
    "    print(adata)"
   ]
  },
  {
   "cell_type": "code",
   "execution_count": 129,
   "metadata": {},
   "outputs": [
    {
     "data": {
      "text/html": [
       "<div>\n",
       "<style scoped>\n",
       "    .dataframe tbody tr th:only-of-type {\n",
       "        vertical-align: middle;\n",
       "    }\n",
       "\n",
       "    .dataframe tbody tr th {\n",
       "        vertical-align: top;\n",
       "    }\n",
       "\n",
       "    .dataframe thead th {\n",
       "        text-align: right;\n",
       "    }\n",
       "</style>\n",
       "<table border=\"1\" class=\"dataframe\">\n",
       "  <thead>\n",
       "    <tr style=\"text-align: right;\">\n",
       "      <th></th>\n",
       "      <th>cell_type</th>\n",
       "      <th>condition</th>\n",
       "      <th>mt_frac</th>\n",
       "      <th>n_counts</th>\n",
       "      <th>n_genes</th>\n",
       "      <th>percent_mito</th>\n",
       "      <th>study</th>\n",
       "    </tr>\n",
       "    <tr>\n",
       "      <th>index</th>\n",
       "      <th></th>\n",
       "      <th></th>\n",
       "      <th></th>\n",
       "      <th></th>\n",
       "      <th></th>\n",
       "      <th></th>\n",
       "      <th></th>\n",
       "    </tr>\n",
       "  </thead>\n",
       "  <tbody>\n",
       "    <tr>\n",
       "      <th>AAACATACCAAGCT-1-stimulated-0</th>\n",
       "      <td>NK cells</td>\n",
       "      <td>stimulated</td>\n",
       "      <td>0.0</td>\n",
       "      <td>1158.0</td>\n",
       "      <td>589</td>\n",
       "      <td>NaN</td>\n",
       "      <td>Kang et al</td>\n",
       "    </tr>\n",
       "    <tr>\n",
       "      <th>AAACATACCCCTAC-1-stimulated-0</th>\n",
       "      <td>Dendritic cells</td>\n",
       "      <td>stimulated</td>\n",
       "      <td>0.0</td>\n",
       "      <td>1722.0</td>\n",
       "      <td>795</td>\n",
       "      <td>NaN</td>\n",
       "      <td>Kang et al</td>\n",
       "    </tr>\n",
       "    <tr>\n",
       "      <th>AAACATACCCGTAA-1-stimulated-0</th>\n",
       "      <td>CD4 T cells</td>\n",
       "      <td>stimulated</td>\n",
       "      <td>0.0</td>\n",
       "      <td>1360.0</td>\n",
       "      <td>585</td>\n",
       "      <td>NaN</td>\n",
       "      <td>Kang et al</td>\n",
       "    </tr>\n",
       "    <tr>\n",
       "      <th>AAACATACCCTCGT-1-stimulated-0</th>\n",
       "      <td>B cells</td>\n",
       "      <td>stimulated</td>\n",
       "      <td>0.0</td>\n",
       "      <td>1438.0</td>\n",
       "      <td>732</td>\n",
       "      <td>NaN</td>\n",
       "      <td>Kang et al</td>\n",
       "    </tr>\n",
       "    <tr>\n",
       "      <th>AAACATACGAGGTG-1-stimulated-0</th>\n",
       "      <td>CD4 T cells</td>\n",
       "      <td>stimulated</td>\n",
       "      <td>0.0</td>\n",
       "      <td>1233.0</td>\n",
       "      <td>546</td>\n",
       "      <td>NaN</td>\n",
       "      <td>Kang et al</td>\n",
       "    </tr>\n",
       "    <tr>\n",
       "      <th>...</th>\n",
       "      <td>...</td>\n",
       "      <td>...</td>\n",
       "      <td>...</td>\n",
       "      <td>...</td>\n",
       "      <td>...</td>\n",
       "      <td>...</td>\n",
       "      <td>...</td>\n",
       "    </tr>\n",
       "    <tr>\n",
       "      <th>TTTGACTGGCGGAA-1-control-0</th>\n",
       "      <td>CD8 T cells</td>\n",
       "      <td>control</td>\n",
       "      <td>0.0</td>\n",
       "      <td>2503.0</td>\n",
       "      <td>821</td>\n",
       "      <td>NaN</td>\n",
       "      <td>Kang et al</td>\n",
       "    </tr>\n",
       "    <tr>\n",
       "      <th>TTTGACTGTCGTAG-1-control-0</th>\n",
       "      <td>CD14+ Monocytes</td>\n",
       "      <td>control</td>\n",
       "      <td>0.0</td>\n",
       "      <td>3696.0</td>\n",
       "      <td>1101</td>\n",
       "      <td>NaN</td>\n",
       "      <td>Kang et al</td>\n",
       "    </tr>\n",
       "    <tr>\n",
       "      <th>TTTGACTGTTACCT-1-control-0</th>\n",
       "      <td>CD14+ Monocytes</td>\n",
       "      <td>control</td>\n",
       "      <td>0.0</td>\n",
       "      <td>2108.0</td>\n",
       "      <td>629</td>\n",
       "      <td>NaN</td>\n",
       "      <td>Kang et al</td>\n",
       "    </tr>\n",
       "    <tr>\n",
       "      <th>TTTGCATGCTTCGC-1-control-0</th>\n",
       "      <td>B cells</td>\n",
       "      <td>control</td>\n",
       "      <td>0.0</td>\n",
       "      <td>2315.0</td>\n",
       "      <td>875</td>\n",
       "      <td>NaN</td>\n",
       "      <td>Kang et al</td>\n",
       "    </tr>\n",
       "    <tr>\n",
       "      <th>TTTGCATGGTCCTC-1-control-0</th>\n",
       "      <td>B cells</td>\n",
       "      <td>control</td>\n",
       "      <td>0.0</td>\n",
       "      <td>1247.0</td>\n",
       "      <td>531</td>\n",
       "      <td>NaN</td>\n",
       "      <td>Kang et al</td>\n",
       "    </tr>\n",
       "  </tbody>\n",
       "</table>\n",
       "<p>14893 rows × 7 columns</p>\n",
       "</div>"
      ],
      "text/plain": [
       "                                     cell_type   condition  mt_frac  n_counts  \\\n",
       "index                                                                           \n",
       "AAACATACCAAGCT-1-stimulated-0         NK cells  stimulated      0.0    1158.0   \n",
       "AAACATACCCCTAC-1-stimulated-0  Dendritic cells  stimulated      0.0    1722.0   \n",
       "AAACATACCCGTAA-1-stimulated-0      CD4 T cells  stimulated      0.0    1360.0   \n",
       "AAACATACCCTCGT-1-stimulated-0          B cells  stimulated      0.0    1438.0   \n",
       "AAACATACGAGGTG-1-stimulated-0      CD4 T cells  stimulated      0.0    1233.0   \n",
       "...                                        ...         ...      ...       ...   \n",
       "TTTGACTGGCGGAA-1-control-0         CD8 T cells     control      0.0    2503.0   \n",
       "TTTGACTGTCGTAG-1-control-0     CD14+ Monocytes     control      0.0    3696.0   \n",
       "TTTGACTGTTACCT-1-control-0     CD14+ Monocytes     control      0.0    2108.0   \n",
       "TTTGCATGCTTCGC-1-control-0             B cells     control      0.0    2315.0   \n",
       "TTTGCATGGTCCTC-1-control-0             B cells     control      0.0    1247.0   \n",
       "\n",
       "                               n_genes  percent_mito       study  \n",
       "index                                                             \n",
       "AAACATACCAAGCT-1-stimulated-0      589           NaN  Kang et al  \n",
       "AAACATACCCCTAC-1-stimulated-0      795           NaN  Kang et al  \n",
       "AAACATACCCGTAA-1-stimulated-0      585           NaN  Kang et al  \n",
       "AAACATACCCTCGT-1-stimulated-0      732           NaN  Kang et al  \n",
       "AAACATACGAGGTG-1-stimulated-0      546           NaN  Kang et al  \n",
       "...                                ...           ...         ...  \n",
       "TTTGACTGGCGGAA-1-control-0         821           NaN  Kang et al  \n",
       "TTTGACTGTCGTAG-1-control-0        1101           NaN  Kang et al  \n",
       "TTTGACTGTTACCT-1-control-0         629           NaN  Kang et al  \n",
       "TTTGCATGCTTCGC-1-control-0         875           NaN  Kang et al  \n",
       "TTTGCATGGTCCTC-1-control-0         531           NaN  Kang et al  \n",
       "\n",
       "[14893 rows x 7 columns]"
      ]
     },
     "execution_count": 129,
     "metadata": {},
     "output_type": "execute_result"
    }
   ],
   "source": [
    "adata.obs"
   ]
  },
  {
   "cell_type": "code",
   "execution_count": 131,
   "metadata": {},
   "outputs": [
    {
     "data": {
      "text/plain": [
       "stimulated    7772\n",
       "control       7121\n",
       "Name: condition, dtype: int64"
      ]
     },
     "execution_count": 131,
     "metadata": {},
     "output_type": "execute_result"
    }
   ],
   "source": [
    "adata.obs.condition.value_counts()"
   ]
  },
  {
   "cell_type": "code",
   "execution_count": 86,
   "metadata": {},
   "outputs": [
    {
     "data": {
      "text/plain": [
       "1    32897\n",
       "0    29217\n",
       "Name: batch, dtype: int64"
      ]
     },
     "execution_count": 86,
     "metadata": {},
     "output_type": "execute_result"
    }
   ],
   "source": [
    "adata.obs.batch.value_counts()"
   ]
  },
  {
   "cell_type": "code",
   "execution_count": 173,
   "metadata": {},
   "outputs": [
    {
     "data": {
      "text/plain": [
       "Index(['LINC00115', 'NOC2L', 'HES4', 'ISG15', 'TNFRSF18', 'TNFRSF4', 'SDF4',\n",
       "       'CPSF3L', 'GLTPD1', 'MXRA8',\n",
       "       ...\n",
       "       'FAM207A', 'ADARB1', 'POFUT2', 'COL18A1', 'SLC19A1', 'COL6A2', 'PCNT',\n",
       "       'DIP2A', 'S100B', 'PRMT2'],\n",
       "      dtype='object', name='index', length=7000)"
      ]
     },
     "execution_count": 173,
     "metadata": {},
     "output_type": "execute_result"
    }
   ],
   "source": [
    "adata.var_names"
   ]
  },
  {
   "cell_type": "code",
   "execution_count": 176,
   "metadata": {},
   "outputs": [
    {
     "name": "stdout",
     "output_type": "stream",
     "text": [
      "WARNING: Gene labels are not shown when more than 50 genes are visualized. To show gene labels set `show_gene_labels=True`\n"
     ]
    },
    {
     "data": {
      "image/png": "[encoded data removed]",
      "text/plain": [
       "<Figure size 590.4x432 with 3 Axes>"
      ]
     },
     "metadata": {
      "needs_background": "light"
     },
     "output_type": "display_data"
    }
   ],
   "source": [
    "sc.pl.heatmap(adata,adata.var_names[:2000],groupby='cell_type')"
   ]
  },
  {
   "cell_type": "code",
   "execution_count": null,
   "metadata": {},
   "outputs": [],
   "source": []
  },
  {
   "cell_type": "code",
   "execution_count": null,
   "metadata": {},
   "outputs": [],
   "source": []
  },
  {
   "cell_type": "code",
   "execution_count": null,
   "metadata": {},
   "outputs": [],
   "source": []
  },
  {
   "cell_type": "code",
   "execution_count": 179,
   "metadata": {},
   "outputs": [],
   "source": [
    "batch_labels = 'batch'\n",
    "cell_labels = 'actual'\n",
    "datasets = ['10Xmouse','humanpancreas','10Xpbmc']"
   ]
  },
  {
   "cell_type": "markdown",
   "metadata": {},
   "source": [
    "## IHPF "
   ]
  },
  {
   "cell_type": "code",
   "execution_count": 180,
   "metadata": {},
   "outputs": [
    {
     "name": "stdout",
     "output_type": "stream",
     "text": [
      "Clipping dp: was [7.050768545013852e-06, 8.257898116426077e-06, 7.804119377397e-06] now [5.125247407704592e-07, 4.083773528691381e-07, 4.393301496747881e-07]\n",
      "[Iter.    0]  loss:89.469641  pct:100.000000000\n",
      "[Iter.   10]  loss:6.578422  pct:-92.647313534\n",
      "[Iter.   20]  loss:6.502860  pct:-1.148629457\n",
      "[Iter.   30]  loss:6.401582  pct:-1.557451612\n",
      "[Iter.   40]  loss:6.376951  pct:-0.384760228\n",
      "[Iter.   50]  loss:6.361311  pct:-0.245263046\n",
      "[Iter.   60]  loss:6.334075  pct:-0.428142719\n",
      "[Iter.   70]  loss:6.313144  pct:-0.330453219\n",
      "[Iter.   80]  loss:6.303784  pct:-0.148257899\n",
      "[Iter.   90]  loss:6.298786  pct:-0.079294231\n",
      "[Iter.  100]  loss:6.295485  pct:-0.052393589\n",
      "[Iter.  110]  loss:6.293180  pct:-0.036624747\n",
      "[Iter.  120]  loss:6.291370  pct:-0.028763150\n",
      "[Iter.  130]  loss:6.289859  pct:-0.024010438\n",
      "[Iter.  140]  loss:6.288721  pct:-0.018093858\n",
      "[Iter.  150]  loss:6.287863  pct:-0.013647847\n",
      "[Iter.  160]  loss:6.287185  pct:-0.010783585\n",
      "[Iter.  170]  loss:6.286649  pct:-0.008515064\n",
      "[Iter.  180]  loss:6.286173  pct:-0.007575790\n",
      "[Iter.  190]  loss:6.285781  pct:-0.006242642\n",
      "[Iter.  200]  loss:6.285422  pct:-0.005710857\n",
      "[Iter.  210]  loss:6.285121  pct:-0.004782161\n",
      "[Iter.  220]  loss:6.284843  pct:-0.004425151\n",
      "[Iter.  230]  loss:6.284613  pct:-0.003659679\n",
      "[Iter.  240]  loss:6.284426  pct:-0.002968279\n",
      "[Iter.  250]  loss:6.284261  pct:-0.002628618\n",
      "[Iter.  260]  loss:6.284118  pct:-0.002281052\n",
      "[Iter.  270]  loss:6.283987  pct:-0.002087878\n",
      "[Iter.  280]  loss:6.283868  pct:-0.001882286\n",
      "[Iter.  290]  loss:6.283761  pct:-0.001707371\n",
      "[Iter.  300]  loss:6.283672  pct:-0.001413896\n",
      "[Iter.  310]  loss:6.283591  pct:-0.001299304\n",
      "[Iter.  320]  loss:6.283516  pct:-0.001190531\n",
      "[Iter.  330]  loss:6.283446  pct:-0.001103555\n",
      "[Iter.  340]  loss:6.283386  pct:-0.000956994\n",
      "[Iter.  350]  loss:6.283331  pct:-0.000880547\n",
      "converged\n",
      "Clipping dp: was [2.054972355836071e-06, 2.5971088689402677e-05, 6.098692392697558e-05, 3.414987759242649e-07, 4.0265252465587764e-08] now [1.030316692776978e-06, 2.0419471547938884e-07, 4.648955073207617e-07, 2.013995617744513e-08, 4.222342795401346e-09]\n",
      "[Iter.    0]  loss:3729.622879  pct:100.000000000\n",
      "[Iter.   10]  loss:166.439517  pct:-95.537363352\n",
      "[Iter.   20]  loss:139.270597  pct:-16.323599914\n",
      "[Iter.   30]  loss:132.457036  pct:-4.892318137\n",
      "[Iter.   40]  loss:130.263620  pct:-1.655945074\n",
      "[Iter.   50]  loss:129.058297  pct:-0.925295289\n",
      "[Iter.   60]  loss:128.399832  pct:-0.510207721\n",
      "[Iter.   70]  loss:127.999939  pct:-0.311442905\n",
      "[Iter.   80]  loss:127.715797  pct:-0.221986702\n",
      "[Iter.   90]  loss:127.523018  pct:-0.150943254\n",
      "[Iter.  100]  loss:127.389771  pct:-0.104488408\n",
      "[Iter.  110]  loss:127.279905  pct:-0.086244184\n",
      "[Iter.  120]  loss:127.194298  pct:-0.067259001\n",
      "[Iter.  130]  loss:127.109281  pct:-0.066839931\n",
      "[Iter.  140]  loss:127.034315  pct:-0.058977855\n",
      "[Iter.  150]  loss:126.964026  pct:-0.055331071\n",
      "[Iter.  160]  loss:126.886394  pct:-0.061144372\n",
      "[Iter.  170]  loss:126.815397  pct:-0.055953507\n",
      "[Iter.  180]  loss:126.753260  pct:-0.048997808\n",
      "[Iter.  190]  loss:126.694254  pct:-0.046552008\n",
      "[Iter.  200]  loss:126.638313  pct:-0.044154374\n",
      "[Iter.  210]  loss:126.589108  pct:-0.038854350\n",
      "[Iter.  220]  loss:126.538900  pct:-0.039662685\n",
      "[Iter.  230]  loss:126.493670  pct:-0.035743722\n",
      "[Iter.  240]  loss:126.454228  pct:-0.031181384\n",
      "[Iter.  250]  loss:126.411767  pct:-0.033577936\n",
      "[Iter.  260]  loss:126.376548  pct:-0.027860330\n",
      "[Iter.  270]  loss:126.346931  pct:-0.023435532\n",
      "[Iter.  280]  loss:126.320043  pct:-0.021280916\n",
      "[Iter.  290]  loss:126.294880  pct:-0.019920276\n",
      "[Iter.  300]  loss:126.268813  pct:-0.020639889\n",
      "[Iter.  310]  loss:126.237021  pct:-0.025178014\n",
      "[Iter.  320]  loss:126.214332  pct:-0.017972938\n",
      "[Iter.  330]  loss:126.197180  pct:-0.013590136\n",
      "[Iter.  340]  loss:126.182520  pct:-0.011616212\n",
      "[Iter.  350]  loss:126.171410  pct:-0.008804763\n",
      "[Iter.  360]  loss:126.160249  pct:-0.008846184\n",
      "[Iter.  370]  loss:126.149902  pct:-0.008201390\n",
      "[Iter.  380]  loss:126.138073  pct:-0.009377168\n",
      "[Iter.  390]  loss:126.127828  pct:-0.008121724\n",
      "[Iter.  400]  loss:126.117092  pct:-0.008511861\n",
      "[Iter.  410]  loss:126.107206  pct:-0.007839317\n",
      "[Iter.  420]  loss:126.098041  pct:-0.007267386\n",
      "[Iter.  430]  loss:126.091111  pct:-0.005495429\n",
      "[Iter.  440]  loss:126.084753  pct:-0.005042566\n",
      "[Iter.  450]  loss:126.077356  pct:-0.005866816\n",
      "[Iter.  460]  loss:126.071374  pct:-0.004744494\n",
      "[Iter.  470]  loss:126.067811  pct:-0.002825896\n",
      "[Iter.  480]  loss:126.063354  pct:-0.003535847\n",
      "[Iter.  490]  loss:126.059209  pct:-0.003288035\n",
      "Clipping dp: was [6.436535841203295e-06, 3.839864075416699e-05, 0.00032666671904735267, 3.0550894734915346e-05, 1.657276698097121e-05, 2.1401105186669156e-05, 2.6043688194477e-05, 4.086319313501008e-05] now [8.50793533027172e-06, 5.628217943012714e-06, 1.1423210380598902e-06, 7.932272739708423e-06, 8.732348680496216e-06, 9.302051737904549e-06, 6.67881453409791e-06, 7.523953914642334e-06]\n",
      "[Iter.    0]  loss:146.895451  pct:100.000000000\n",
      "[Iter.   10]  loss:21.340718  pct:-85.472172588\n",
      "[Iter.   20]  loss:20.685425  pct:-3.070618775\n",
      "[Iter.   30]  loss:20.278897  pct:-1.965290353\n",
      "[Iter.   40]  loss:20.065959  pct:-1.050044760\n",
      "[Iter.   50]  loss:19.970101  pct:-0.477714850\n",
      "[Iter.   60]  loss:19.907281  pct:-0.314571206\n",
      "[Iter.   70]  loss:19.861468  pct:-0.230130287\n",
      "[Iter.   80]  loss:19.828734  pct:-0.164812885\n",
      "[Iter.   90]  loss:19.804837  pct:-0.120517667\n",
      "[Iter.  100]  loss:19.787383  pct:-0.088129755\n",
      "[Iter.  110]  loss:19.773683  pct:-0.069234651\n",
      "[Iter.  120]  loss:19.762184  pct:-0.058153265\n",
      "[Iter.  130]  loss:19.752525  pct:-0.048876875\n",
      "[Iter.  140]  loss:19.744369  pct:-0.041291352\n",
      "[Iter.  150]  loss:19.736375  pct:-0.040488134\n",
      "[Iter.  160]  loss:19.729373  pct:-0.035477002\n",
      "[Iter.  170]  loss:19.723110  pct:-0.031743541\n",
      "[Iter.  180]  loss:19.717237  pct:-0.029778043\n",
      "[Iter.  190]  loss:19.711829  pct:-0.027425890\n",
      "[Iter.  200]  loss:19.707289  pct:-0.023034014\n",
      "[Iter.  210]  loss:19.703319  pct:-0.020145304\n",
      "[Iter.  220]  loss:19.699607  pct:-0.018839844\n",
      "[Iter.  230]  loss:19.696295  pct:-0.016814212\n",
      "[Iter.  240]  loss:19.693371  pct:-0.014843686\n",
      "[Iter.  250]  loss:19.690607  pct:-0.014036651\n",
      "[Iter.  260]  loss:19.687959  pct:-0.013444550\n",
      "[Iter.  270]  loss:19.685401  pct:-0.012994397\n",
      "[Iter.  280]  loss:19.683319  pct:-0.010578590\n",
      "[Iter.  290]  loss:19.681327  pct:-0.010117673\n",
      "[Iter.  300]  loss:19.679551  pct:-0.009022508\n",
      "[Iter.  310]  loss:19.677876  pct:-0.008512068\n",
      "[Iter.  320]  loss:19.676292  pct:-0.008052557\n",
      "[Iter.  330]  loss:19.674596  pct:-0.008615029\n",
      "[Iter.  340]  loss:19.671996  pct:-0.013218349\n",
      "[Iter.  350]  loss:19.669226  pct:-0.014078356\n",
      "[Iter.  360]  loss:19.666822  pct:-0.012221878\n",
      "[Iter.  370]  loss:19.665097  pct:-0.008771174\n",
      "[Iter.  380]  loss:19.663765  pct:-0.006776885\n",
      "[Iter.  390]  loss:19.662671  pct:-0.005561007\n",
      "[Iter.  400]  loss:19.661631  pct:-0.005289103\n",
      "[Iter.  410]  loss:19.660677  pct:-0.004853332\n",
      "[Iter.  420]  loss:19.659583  pct:-0.005566258\n",
      "[Iter.  430]  loss:19.658774  pct:-0.004114851\n",
      "[Iter.  440]  loss:19.657982  pct:-0.004026530\n",
      "[Iter.  450]  loss:19.657076  pct:-0.004611219\n",
      "[Iter.  460]  loss:19.656233  pct:-0.004288255\n",
      "[Iter.  470]  loss:19.655631  pct:-0.003059722\n",
      "[Iter.  480]  loss:19.655131  pct:-0.002546918\n",
      "[Iter.  490]  loss:19.654566  pct:-0.002870350\n"
     ]
    }
   ],
   "source": [
    "for dataset in datasets:\n",
    "    ## Replace this with the location of your h5ad files\n",
    "    adata = sc.read('../Data/{}.h5ad'.format(dataset))\n",
    "    adataobs = adata.obs.copy()\n",
    "    no_cell_types = len(adataobs[cell_labels].unique())\n",
    "    adataobs.reset_index(inplace=True)\n",
    "    Xlist = list()\n",
    "    for i,df in adataobs.groupby(batch_labels):\n",
    "        batchidx = df.index\n",
    "        Xlist.append(coo_matrix(adata.X[batchidx,:]))\n",
    "    model = IHPF.scIHPF(no_cell_types,max_iter=500)\n",
    "    model.fit(Xlist)\n",
    "    adata.obsm['IHPF'] = np.concatenate(model.cell_scores(),axis=0)\n",
    "    adata.varm['IHPF'] = model.shared_gene_scores()\n",
    "    kmeans_cell = KMeans(n_clusters=no_cell_types, random_state=0).fit(normalize(adata.obsm['IHPF']))\n",
    "    adata.obs['IHPF_kmeans_normalised'] = kmeans_cell.labels_\n",
    "    adata.obs['IHPF_max'] = np.argmax(adata.obsm['IHPF'],axis=1)\n",
    "    adata.write('../Data/{}.h5ad'.format(dataset))\n",
    "    "
   ]
  },
  {
   "cell_type": "code",
   "execution_count": null,
   "metadata": {},
   "outputs": [],
   "source": []
  },
  {
   "cell_type": "markdown",
   "metadata": {},
   "source": [
    "## INMF "
   ]
  },
  {
   "cell_type": "code",
   "execution_count": 181,
   "metadata": {},
   "outputs": [],
   "source": [
    "from INMF import INMF"
   ]
  },
  {
   "cell_type": "code",
   "execution_count": 182,
   "metadata": {},
   "outputs": [],
   "source": [
    "class scINMF:\n",
    "    def __init__(self, k, alpha=1, **kwargs):\n",
    "        np.random.seed(0)\n",
    "        self.n_components = k\n",
    "        self.method = INMF(\n",
    "            n_components=self.n_components, solver=\"mu\", alpha=alpha, **kwargs\n",
    "        )\n",
    "\n",
    "    def fit(self, X):\n",
    "        self.data = X\n",
    "        (\n",
    "            self.cell_scores,\n",
    "            self.shared_gene_scores,\n",
    "            self.dataset_gene_scores,\n",
    "        ) = self.method.fit_transform(self.data)\n"
   ]
  },
  {
   "cell_type": "code",
   "execution_count": 183,
   "metadata": {},
   "outputs": [
    {
     "name": "stdout",
     "output_type": "stream",
     "text": [
      "Reconstruction error 75028.04665185406\n",
      "Reconstruction error 1120212.068773359\n",
      "Reconstruction error 39113.86003364466\n"
     ]
    }
   ],
   "source": [
    "for dataset in datasets:\n",
    "    ## Replace this with the location of your h5ad files\n",
    "    adata = sc.read('../Data/{}.h5ad'.format(dataset))\n",
    "    adataobs = adata.obs.copy()\n",
    "    no_cell_types = len(adataobs[cell_labels].unique())\n",
    "    adataobs.reset_index(inplace=True)\n",
    "    Xlist = list()\n",
    "    for i,df in adataobs.groupby(batch_labels):\n",
    "        batchidx = df.index\n",
    "        Xlist.append(coo_matrix(adata.X[batchidx,:]))\n",
    "    model = scINMF(no_cell_types,alpha=1,max_iter=500)\n",
    "    model.fit(Xlist)\n",
    "    adata.obsm['INMF'] = np.concatenate(model.cell_scores,axis=0)\n",
    "    adata.varm['INMF'] = model.shared_gene_scores.transpose()\n",
    "    kmeans_cell = KMeans(n_clusters=no_cell_types, random_state=0).fit(normalize(adata.obsm['INMF']))\n",
    "    adata.obs['INMF_kmeans_normalised'] = kmeans_cell.labels_\n",
    "    adata.obs['INMF_max'] = np.argmax(adata.obsm['INMF'],axis=1)\n",
    "    adata.write('../Data/{}.h5ad'.format(dataset))"
   ]
  },
  {
   "cell_type": "code",
   "execution_count": null,
   "metadata": {},
   "outputs": [],
   "source": []
  },
  {
   "cell_type": "code",
   "execution_count": null,
   "metadata": {},
   "outputs": [],
   "source": []
  },
  {
   "cell_type": "markdown",
   "metadata": {},
   "source": [
    "## HPF"
   ]
  },
  {
   "cell_type": "code",
   "execution_count": 197,
   "metadata": {},
   "outputs": [],
   "source": [
    "from schpf import scHPF\n",
    "from scipy.sparse import vstack"
   ]
  },
  {
   "cell_type": "code",
   "execution_count": 198,
   "metadata": {},
   "outputs": [
    {
     "name": "stdout",
     "output_type": "stream",
     "text": [
      "[Iter.    0]  loss:28.943476  pct:100.000000000\n",
      "[Iter.   10]  loss:3.781775  pct:-86.933930773\n",
      "[Iter.   20]  loss:2.796690  pct:-26.048212222\n",
      "[Iter.   30]  loss:2.789416  pct:-0.260105204\n",
      "[Iter.   40]  loss:2.788082  pct:-0.047797679\n",
      "[Iter.   50]  loss:2.787563  pct:-0.018611809\n",
      "[Iter.   60]  loss:2.787469  pct:-0.003395784\n",
      "[Iter.   70]  loss:2.787374  pct:-0.003407014\n",
      "[Iter.   80]  loss:2.787326  pct:-0.001720420\n",
      "[Iter.   90]  loss:2.787285  pct:-0.001451991\n",
      "[Iter.  100]  loss:2.787254  pct:-0.001118041\n",
      "[Iter.  110]  loss:2.787246  pct:-0.000276248\n",
      "[Iter.  120]  loss:2.787235  pct:-0.000406275\n",
      "converged\n",
      "[Iter.    0]  loss:706.698339  pct:100.000000000\n",
      "[Iter.   10]  loss:26.197092  pct:-96.293030541\n",
      "[Iter.   20]  loss:21.431471  pct:-18.191409966\n",
      "[Iter.   30]  loss:20.557083  pct:-4.079928049\n",
      "[Iter.   40]  loss:20.154442  pct:-1.958647219\n",
      "[Iter.   50]  loss:20.014587  pct:-0.693916318\n",
      "[Iter.   60]  loss:19.933371  pct:-0.405784283\n",
      "[Iter.   70]  loss:19.892647  pct:-0.204300581\n",
      "[Iter.   80]  loss:19.868351  pct:-0.122137439\n",
      "[Iter.   90]  loss:19.852639  pct:-0.079080596\n",
      "[Iter.  100]  loss:19.842920  pct:-0.048953816\n",
      "[Iter.  110]  loss:19.836703  pct:-0.031332933\n",
      "[Iter.  120]  loss:19.832593  pct:-0.020716167\n",
      "[Iter.  130]  loss:19.829630  pct:-0.014942198\n",
      "[Iter.  140]  loss:19.825862  pct:-0.019001041\n",
      "[Iter.  150]  loss:19.817864  pct:-0.040340412\n",
      "[Iter.  160]  loss:19.807002  pct:-0.054807387\n",
      "[Iter.  170]  loss:19.793677  pct:-0.067277906\n",
      "[Iter.  180]  loss:19.788399  pct:-0.026662438\n",
      "[Iter.  190]  loss:19.785129  pct:-0.016524173\n",
      "[Iter.  200]  loss:19.783304  pct:-0.009223273\n",
      "[Iter.  210]  loss:19.781145  pct:-0.010916720\n",
      "[Iter.  220]  loss:19.779434  pct:-0.008646254\n",
      "[Iter.  230]  loss:19.778433  pct:-0.005061755\n",
      "[Iter.  240]  loss:19.777290  pct:-0.005781976\n",
      "[Iter.  250]  loss:19.776314  pct:-0.004933412\n",
      "[Iter.  260]  loss:19.775820  pct:-0.002499119\n",
      "[Iter.  270]  loss:19.775660  pct:-0.000807986\n",
      "[Iter.  280]  loss:19.775601  pct:-0.000296289\n",
      "converged\n",
      "[Iter.    0]  loss:18.661846  pct:100.000000000\n",
      "[Iter.   10]  loss:4.445465  pct:-76.178858351\n",
      "[Iter.   20]  loss:2.775558  pct:-37.564286599\n",
      "[Iter.   30]  loss:2.711100  pct:-2.322327920\n",
      "[Iter.   40]  loss:2.706199  pct:-0.180772210\n",
      "[Iter.   50]  loss:2.705495  pct:-0.026007601\n",
      "[Iter.   60]  loss:2.705266  pct:-0.008476977\n",
      "[Iter.   70]  loss:2.705228  pct:-0.001397477\n",
      "[Iter.   80]  loss:2.705212  pct:-0.000585156\n",
      "[Iter.   90]  loss:2.705216  pct:0.000128171\n",
      "converged\n"
     ]
    }
   ],
   "source": [
    "for dataset in datasets:\n",
    "    ## Replace this with the location of your h5ad files\n",
    "    adata = sc.read('../Data/{}.h5ad'.format(dataset))\n",
    "    adataobs = adata.obs.copy()\n",
    "    no_cell_types = len(adataobs[cell_labels].unique())\n",
    "    adataobs.reset_index(inplace=True)\n",
    "    Xlist = list()\n",
    "    for i,df in adataobs.groupby(batch_labels):\n",
    "        batchidx = df.index\n",
    "        Xlist.append(coo_matrix(adata.X[batchidx,:]))\n",
    "    model = scHPF(no_cell_types,max_iter=500)\n",
    "    model.fit(vstack(Xlist))\n",
    "    adata.obsm['HPF'] = model.cell_score()\n",
    "    adata.varm['HPF'] = model.gene_score()\n",
    "    kmeans_cell = KMeans(n_clusters=no_cell_types, random_state=0).fit(normalize(adata.obsm['HPF']))\n",
    "    adata.obs['HPF_kmeans_normalised'] = kmeans_cell.labels_\n",
    "    adata.obs['HPF_max'] = np.argmax(adata.obsm['HPF'],axis=1)\n",
    "    adata.write('../Data/{}.h5ad'.format(dataset))"
   ]
  },
  {
   "cell_type": "code",
   "execution_count": null,
   "metadata": {},
   "outputs": [],
   "source": []
  },
  {
   "cell_type": "markdown",
   "metadata": {},
   "source": [
    "## PCA"
   ]
  },
  {
   "cell_type": "code",
   "execution_count": 186,
   "metadata": {},
   "outputs": [],
   "source": [
    "class scPCA:\n",
    "    def __init__(self, k):\n",
    "        from sklearn.decomposition import TruncatedSVD\n",
    "\n",
    "        np.random.seed(0)\n",
    "        self.n_components = k\n",
    "        self.method = TruncatedSVD(n_components=self.n_components)\n",
    "\n",
    "    def fit(self, X):\n",
    "        self.data = X\n",
    "        self.method.fit(self.data)\n",
    "        self.cell_score = self.method.transform(self.data)\n",
    "        self.gene_score = self.method.components_.transpose()"
   ]
  },
  {
   "cell_type": "code",
   "execution_count": 187,
   "metadata": {},
   "outputs": [],
   "source": [
    "for dataset in datasets:\n",
    "    ## Replace this with the location of your h5ad files\n",
    "    adata = sc.read('../Data/{}.h5ad'.format(dataset))\n",
    "    adataobs = adata.obs.copy()\n",
    "    no_cell_types = len(adataobs[cell_labels].unique())\n",
    "    adataobs.reset_index(inplace=True)\n",
    "    Xlist = list()\n",
    "    for i,df in adataobs.groupby(batch_labels):\n",
    "        batchidx = df.index\n",
    "        Xlist.append(coo_matrix(adata.X[batchidx,:]))\n",
    "    model = scPCA(no_cell_types)\n",
    "    model.fit(vstack(Xlist))\n",
    "    adata.obsm['PCA'] = model.cell_score\n",
    "    adata.varm['PCA'] = model.gene_score\n",
    "    kmeans_cell = KMeans(n_clusters=no_cell_types, random_state=0).fit(normalize(adata.obsm['PCA']))\n",
    "    adata.obs['PCA_kmeans_normalised'] = kmeans_cell.labels_\n",
    "    adata.obs['PCA_max'] = np.argmax(adata.obsm['PCA'],axis=1)\n",
    "    adata.write('../Data/{}.h5ad'.format(dataset))"
   ]
  },
  {
   "cell_type": "code",
   "execution_count": null,
   "metadata": {},
   "outputs": [],
   "source": []
  },
  {
   "cell_type": "code",
   "execution_count": 188,
   "metadata": {},
   "outputs": [],
   "source": [
    "for dataset in datasets:\n",
    "    ## Replace this with the location of your h5ad files\n",
    "    adata = sc.read('../Data/{}.h5ad'.format(dataset))"
   ]
  },
  {
   "cell_type": "code",
   "execution_count": 189,
   "metadata": {},
   "outputs": [],
   "source": [
    "from sklearn.metrics import confusion_matrix\n",
    "from sklearn import preprocessing"
   ]
  },
  {
   "cell_type": "code",
   "execution_count": 194,
   "metadata": {},
   "outputs": [],
   "source": [
    "batchputriy = dict()\n",
    "actualputriy = dict()\n",
    "\n",
    "for dataset in datasets:\n",
    "    batch = dict()\n",
    "    actual = dict()\n",
    "    adata = sc.read('../Data/{}.h5ad'.format(dataset))\n",
    "    for method in ['IHPF','INMF','HPF','PCA']:\n",
    "        le = preprocessing.LabelEncoder()\n",
    "        batchlabel = le.fit_transform(adata.obs[batch_labels])\n",
    "        le = preprocessing.LabelEncoder()\n",
    "        actuallabel = le.fit_transform(adata.obs[cell_labels])\n",
    "        no_cell_types = len(adataobs[cell_labels].unique())\n",
    "        batch[method] = np.sum(np.max(confusion_matrix(batchlabel,adata.obs['{}_kmeans_normalised'.format(method)]),axis=1)) / len(adata.obs[cell_labels])\n",
    "        actual[method] = np.sum(np.max(confusion_matrix(actuallabel,adata.obs['{}_kmeans_normalised'.format(method)]),axis=1)) / len(adata.obs[cell_labels])\n",
    "    actual['batch'] =  np.sum(np.max(confusion_matrix(actuallabel,batchlabel),axis=1)) / len(adata.obs[cell_labels])\n",
    "    batchputriy[dataset] = batch\n",
    "    actualputriy[dataset] = actual"
   ]
  },
  {
   "cell_type": "code",
   "execution_count": 195,
   "metadata": {},
   "outputs": [
    {
     "data": {
      "text/html": [
       "<div>\n",
       "<style scoped>\n",
       "    .dataframe tbody tr th:only-of-type {\n",
       "        vertical-align: middle;\n",
       "    }\n",
       "\n",
       "    .dataframe tbody tr th {\n",
       "        vertical-align: top;\n",
       "    }\n",
       "\n",
       "    .dataframe thead th {\n",
       "        text-align: right;\n",
       "    }\n",
       "</style>\n",
       "<table border=\"1\" class=\"dataframe\">\n",
       "  <thead>\n",
       "    <tr style=\"text-align: right;\">\n",
       "      <th></th>\n",
       "      <th>10Xmouse</th>\n",
       "      <th>humanpancreas</th>\n",
       "      <th>10Xpbmc</th>\n",
       "    </tr>\n",
       "  </thead>\n",
       "  <tbody>\n",
       "    <tr>\n",
       "      <th>IHPF</th>\n",
       "      <td>0.997</td>\n",
       "      <td>0.437</td>\n",
       "      <td>0.547</td>\n",
       "    </tr>\n",
       "    <tr>\n",
       "      <th>INMF</th>\n",
       "      <td>0.806</td>\n",
       "      <td>0.431</td>\n",
       "      <td>0.486</td>\n",
       "    </tr>\n",
       "    <tr>\n",
       "      <th>HPF</th>\n",
       "      <td>0.697</td>\n",
       "      <td>0.691</td>\n",
       "      <td>0.797</td>\n",
       "    </tr>\n",
       "    <tr>\n",
       "      <th>PCA</th>\n",
       "      <td>0.765</td>\n",
       "      <td>0.385</td>\n",
       "      <td>0.797</td>\n",
       "    </tr>\n",
       "    <tr>\n",
       "      <th>batch</th>\n",
       "      <td>0.644</td>\n",
       "      <td>0.538</td>\n",
       "      <td>0.797</td>\n",
       "    </tr>\n",
       "  </tbody>\n",
       "</table>\n",
       "</div>"
      ],
      "text/plain": [
       "       10Xmouse  humanpancreas  10Xpbmc\n",
       "IHPF      0.997          0.437    0.547\n",
       "INMF      0.806          0.431    0.486\n",
       "HPF       0.697          0.691    0.797\n",
       "PCA       0.765          0.385    0.797\n",
       "batch     0.644          0.538    0.797"
      ]
     },
     "execution_count": 195,
     "metadata": {},
     "output_type": "execute_result"
    }
   ],
   "source": [
    "np.round(pd.DataFrame(actualputriy),3)"
   ]
  },
  {
   "cell_type": "code",
   "execution_count": 201,
   "metadata": {},
   "outputs": [
    {
     "name": "stdout",
     "output_type": "stream",
     "text": [
      "10Xmouse (9530, 13130)\n",
      "humanpancreas (15921, 5057)\n",
      "10Xpbmc (41927, 8234)\n"
     ]
    }
   ],
   "source": [
    "batchAMI = dict()\n",
    "actualAMI = dict()\n",
    "\n",
    "for dataset in datasets:\n",
    "    batch = dict()\n",
    "    actual = dict()\n",
    "    adata = sc.read('../Data/{}.h5ad'.format(dataset))\n",
    "    for method in ['IHPF','INMF','HPF','PCA']:\n",
    "        batch[method] = adjusted_mutual_info_score(adata.obs[batch_labels],adata.obs['{}_kmeans_normalised'.format(method)])\n",
    "        actual[method] = adjusted_mutual_info_score(adata.obs[cell_labels],adata.obs['{}_kmeans_normalised'.format(method)])\n",
    "    batch['actual'] = adjusted_mutual_info_score(adata.obs[batch_labels],adata.obs[cell_labels])\n",
    "    actual['batch'] = adjusted_mutual_info_score(adata.obs[batch_labels],adata.obs[cell_labels])\n",
    "    batchAMI[dataset] = batch\n",
    "    actualAMI[dataset] = actual"
   ]
  },
  {
   "cell_type": "code",
   "execution_count": 202,
   "metadata": {},
   "outputs": [
    {
     "data": {
      "text/html": [
       "<div>\n",
       "<style scoped>\n",
       "    .dataframe tbody tr th:only-of-type {\n",
       "        vertical-align: middle;\n",
       "    }\n",
       "\n",
       "    .dataframe tbody tr th {\n",
       "        vertical-align: top;\n",
       "    }\n",
       "\n",
       "    .dataframe thead th {\n",
       "        text-align: right;\n",
       "    }\n",
       "</style>\n",
       "<table border=\"1\" class=\"dataframe\">\n",
       "  <thead>\n",
       "    <tr style=\"text-align: right;\">\n",
       "      <th></th>\n",
       "      <th>10Xmouse</th>\n",
       "      <th>humanpancreas</th>\n",
       "      <th>10Xpbmc</th>\n",
       "    </tr>\n",
       "  </thead>\n",
       "  <tbody>\n",
       "    <tr>\n",
       "      <th>IHPF</th>\n",
       "      <td>0.976</td>\n",
       "      <td>0.276</td>\n",
       "      <td>0.478</td>\n",
       "    </tr>\n",
       "    <tr>\n",
       "      <th>INMF</th>\n",
       "      <td>0.125</td>\n",
       "      <td>0.200</td>\n",
       "      <td>0.172</td>\n",
       "    </tr>\n",
       "    <tr>\n",
       "      <th>HPF</th>\n",
       "      <td>0.256</td>\n",
       "      <td>0.139</td>\n",
       "      <td>0.762</td>\n",
       "    </tr>\n",
       "    <tr>\n",
       "      <th>PCA</th>\n",
       "      <td>0.287</td>\n",
       "      <td>0.211</td>\n",
       "      <td>0.799</td>\n",
       "    </tr>\n",
       "    <tr>\n",
       "      <th>batch</th>\n",
       "      <td>0.498</td>\n",
       "      <td>0.032</td>\n",
       "      <td>0.810</td>\n",
       "    </tr>\n",
       "  </tbody>\n",
       "</table>\n",
       "</div>"
      ],
      "text/plain": [
       "       10Xmouse  humanpancreas  10Xpbmc\n",
       "IHPF      0.976          0.276    0.478\n",
       "INMF      0.125          0.200    0.172\n",
       "HPF       0.256          0.139    0.762\n",
       "PCA       0.287          0.211    0.799\n",
       "batch     0.498          0.032    0.810"
      ]
     },
     "execution_count": 202,
     "metadata": {},
     "output_type": "execute_result"
    }
   ],
   "source": [
    "np.round(pd.DataFrame(actualAMI),3)"
   ]
  },
  {
   "cell_type": "code",
   "execution_count": null,
   "metadata": {},
   "outputs": [],
   "source": []
  },
  {
   "cell_type": "code",
   "execution_count": null,
   "metadata": {},
   "outputs": [],
   "source": []
  },
  {
   "cell_type": "code",
   "execution_count": null,
   "metadata": {},
   "outputs": [],
   "source": []
  }
 ],
 "metadata": {
  "kernelspec": {
   "display_name": "Python 3",
   "language": "python",
   "name": "python3"
  },
  "language_info": {
   "codemirror_mode": {
    "name": "ipython",
    "version": 3
   },
   "file_extension": ".py",
   "mimetype": "text/x-python",
   "name": "python",
   "nbconvert_exporter": "python",
   "pygments_lexer": "ipython3",
   "version": "3.7.4"
  }
 },
 "nbformat": 4,
 "nbformat_minor": 2
}
