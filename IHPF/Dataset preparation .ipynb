{
 "cells": [
  {
   "cell_type": "markdown",
   "metadata": {},
   "source": [
    "# Dataset preparation "
   ]
  },
  {
   "cell_type": "code",
   "execution_count": 146,
   "metadata": {},
   "outputs": [],
   "source": [
    "import numpy as np\n",
    "import pandas as pd\n",
    "import scanpy as sc\n",
    "from anndata import AnnData"
   ]
  },
  {
   "cell_type": "code",
   "execution_count": 147,
   "metadata": {},
   "outputs": [],
   "source": [
    "folder = '../Data/scgen/data'"
   ]
  },
  {
   "cell_type": "code",
   "execution_count": 148,
   "metadata": {},
   "outputs": [
    {
     "name": "stderr",
     "output_type": "stream",
     "text": [
      "/home/mw4315/anaconda3/lib/python3.7/site-packages/anndata/compat/__init__.py:161: FutureWarning: Moving element from .uns['neighbors']['distances'] to .obsp['distances'].\n",
      "\n",
      "This is where adjacency matrices should go now.\n",
      "  FutureWarning,\n",
      "/home/mw4315/anaconda3/lib/python3.7/site-packages/anndata/compat/__init__.py:161: FutureWarning: Moving element from .uns['neighbors']['connectivities'] to .obsp['connectivities'].\n",
      "\n",
      "This is where adjacency matrices should go now.\n",
      "  FutureWarning,\n"
     ]
    }
   ],
   "source": [
    "adata = sc.read('{}/train_hpoly.h5ad'.format(folder))"
   ]
  },
  {
   "cell_type": "code",
   "execution_count": 149,
   "metadata": {},
   "outputs": [
    {
     "data": {
      "text/plain": [
       "AnnData object with n_obs × n_vars = 5059 × 7000\n",
       "    obs: 'batch', 'barcode', 'condition', 'cell_label', 'n_counts', 'n_genes', 'mt_frac'\n",
       "    var: 'means', 'dispersions', 'dispersions_norm'\n",
       "    uns: 'cell_label_colors', 'condition_colors', 'neighbors', 'rank_genes_groups'\n",
       "    obsm: 'X_pca', 'X_umap'\n",
       "    obsp: 'distances', 'connectivities'"
      ]
     },
     "execution_count": 149,
     "metadata": {},
     "output_type": "execute_result"
    }
   ],
   "source": [
    "adata"
   ]
  },
  {
   "cell_type": "code",
   "execution_count": 150,
   "metadata": {},
   "outputs": [
    {
     "data": {
      "text/html": [
       "<div>\n",
       "<style scoped>\n",
       "    .dataframe tbody tr th:only-of-type {\n",
       "        vertical-align: middle;\n",
       "    }\n",
       "\n",
       "    .dataframe tbody tr th {\n",
       "        vertical-align: top;\n",
       "    }\n",
       "\n",
       "    .dataframe thead th {\n",
       "        text-align: right;\n",
       "    }\n",
       "</style>\n",
       "<table border=\"1\" class=\"dataframe\">\n",
       "  <thead>\n",
       "    <tr style=\"text-align: right;\">\n",
       "      <th></th>\n",
       "      <th>batch</th>\n",
       "      <th>barcode</th>\n",
       "      <th>condition</th>\n",
       "      <th>cell_label</th>\n",
       "      <th>n_counts</th>\n",
       "      <th>n_genes</th>\n",
       "      <th>mt_frac</th>\n",
       "    </tr>\n",
       "    <tr>\n",
       "      <th>index</th>\n",
       "      <th></th>\n",
       "      <th></th>\n",
       "      <th></th>\n",
       "      <th></th>\n",
       "      <th></th>\n",
       "      <th></th>\n",
       "      <th></th>\n",
       "    </tr>\n",
       "  </thead>\n",
       "  <tbody>\n",
       "    <tr>\n",
       "      <th>B1_AAACATACCACAAC_Control_Enterocyte.Progenitor-0</th>\n",
       "      <td>0</td>\n",
       "      <td>AAACATACCACAAC</td>\n",
       "      <td>Control</td>\n",
       "      <td>Enterocyte.Progenitor</td>\n",
       "      <td>6263.0</td>\n",
       "      <td>1905</td>\n",
       "      <td>0.0</td>\n",
       "    </tr>\n",
       "    <tr>\n",
       "      <th>B1_AAACGCACTAGCCA_Control_Stem-0</th>\n",
       "      <td>0</td>\n",
       "      <td>AAACGCACTAGCCA</td>\n",
       "      <td>Control</td>\n",
       "      <td>Stem</td>\n",
       "      <td>4117.0</td>\n",
       "      <td>1797</td>\n",
       "      <td>0.0</td>\n",
       "    </tr>\n",
       "    <tr>\n",
       "      <th>B1_AAACGCACTGTCCC_Control_Stem-0</th>\n",
       "      <td>0</td>\n",
       "      <td>AAACGCACTGTCCC</td>\n",
       "      <td>Control</td>\n",
       "      <td>Stem</td>\n",
       "      <td>1972.0</td>\n",
       "      <td>1113</td>\n",
       "      <td>0.0</td>\n",
       "    </tr>\n",
       "    <tr>\n",
       "      <th>B1_AAACTTGACCACCT_Control_Enterocyte.Progenitor-0</th>\n",
       "      <td>0</td>\n",
       "      <td>AAACTTGACCACCT</td>\n",
       "      <td>Control</td>\n",
       "      <td>Enterocyte.Progenitor</td>\n",
       "      <td>5135.0</td>\n",
       "      <td>1934</td>\n",
       "      <td>0.0</td>\n",
       "    </tr>\n",
       "    <tr>\n",
       "      <th>B1_AAAGATCTACCTTT_Control_Enterocyte.Progenitor-0</th>\n",
       "      <td>0</td>\n",
       "      <td>AAAGATCTACCTTT</td>\n",
       "      <td>Control</td>\n",
       "      <td>Enterocyte.Progenitor</td>\n",
       "      <td>5577.0</td>\n",
       "      <td>2043</td>\n",
       "      <td>0.0</td>\n",
       "    </tr>\n",
       "    <tr>\n",
       "      <th>...</th>\n",
       "      <td>...</td>\n",
       "      <td>...</td>\n",
       "      <td>...</td>\n",
       "      <td>...</td>\n",
       "      <td>...</td>\n",
       "      <td>...</td>\n",
       "      <td>...</td>\n",
       "    </tr>\n",
       "    <tr>\n",
       "      <th>B8_TTTGACTGGATGAA_Hpoly.Day10_Enterocyte.Progenitor-1</th>\n",
       "      <td>1</td>\n",
       "      <td>TTTGACTGGATGAA</td>\n",
       "      <td>Hpoly.Day10</td>\n",
       "      <td>Enterocyte.Progenitor</td>\n",
       "      <td>16608.0</td>\n",
       "      <td>3034</td>\n",
       "      <td>0.0</td>\n",
       "    </tr>\n",
       "    <tr>\n",
       "      <th>B8_TTTGACTGGGACAG_Hpoly.Day10_Goblet-1</th>\n",
       "      <td>1</td>\n",
       "      <td>TTTGACTGGGACAG</td>\n",
       "      <td>Hpoly.Day10</td>\n",
       "      <td>Goblet</td>\n",
       "      <td>3968.0</td>\n",
       "      <td>1017</td>\n",
       "      <td>0.0</td>\n",
       "    </tr>\n",
       "    <tr>\n",
       "      <th>B8_TTTGCATGCTCTTA_Hpoly.Day10_Enterocyte.Progenitor-1</th>\n",
       "      <td>1</td>\n",
       "      <td>TTTGCATGCTCTTA</td>\n",
       "      <td>Hpoly.Day10</td>\n",
       "      <td>Enterocyte.Progenitor</td>\n",
       "      <td>2402.0</td>\n",
       "      <td>988</td>\n",
       "      <td>0.0</td>\n",
       "    </tr>\n",
       "    <tr>\n",
       "      <th>B8_TTTGCATGGACAGG_Hpoly.Day10_TA-1</th>\n",
       "      <td>1</td>\n",
       "      <td>TTTGCATGGACAGG</td>\n",
       "      <td>Hpoly.Day10</td>\n",
       "      <td>TA</td>\n",
       "      <td>3764.0</td>\n",
       "      <td>1509</td>\n",
       "      <td>0.0</td>\n",
       "    </tr>\n",
       "    <tr>\n",
       "      <th>B8_TTTGCATGGAGGCA_Hpoly.Day10_TA.Early-1</th>\n",
       "      <td>1</td>\n",
       "      <td>TTTGCATGGAGGCA</td>\n",
       "      <td>Hpoly.Day10</td>\n",
       "      <td>TA.Early</td>\n",
       "      <td>7607.0</td>\n",
       "      <td>2294</td>\n",
       "      <td>0.0</td>\n",
       "    </tr>\n",
       "  </tbody>\n",
       "</table>\n",
       "<p>5059 rows × 7 columns</p>\n",
       "</div>"
      ],
      "text/plain": [
       "                                                   batch         barcode  \\\n",
       "index                                                                      \n",
       "B1_AAACATACCACAAC_Control_Enterocyte.Progenitor-0      0  AAACATACCACAAC   \n",
       "B1_AAACGCACTAGCCA_Control_Stem-0                       0  AAACGCACTAGCCA   \n",
       "B1_AAACGCACTGTCCC_Control_Stem-0                       0  AAACGCACTGTCCC   \n",
       "B1_AAACTTGACCACCT_Control_Enterocyte.Progenitor-0      0  AAACTTGACCACCT   \n",
       "B1_AAAGATCTACCTTT_Control_Enterocyte.Progenitor-0      0  AAAGATCTACCTTT   \n",
       "...                                                  ...             ...   \n",
       "B8_TTTGACTGGATGAA_Hpoly.Day10_Enterocyte.Progen...     1  TTTGACTGGATGAA   \n",
       "B8_TTTGACTGGGACAG_Hpoly.Day10_Goblet-1                 1  TTTGACTGGGACAG   \n",
       "B8_TTTGCATGCTCTTA_Hpoly.Day10_Enterocyte.Progen...     1  TTTGCATGCTCTTA   \n",
       "B8_TTTGCATGGACAGG_Hpoly.Day10_TA-1                     1  TTTGCATGGACAGG   \n",
       "B8_TTTGCATGGAGGCA_Hpoly.Day10_TA.Early-1               1  TTTGCATGGAGGCA   \n",
       "\n",
       "                                                      condition  \\\n",
       "index                                                             \n",
       "B1_AAACATACCACAAC_Control_Enterocyte.Progenitor-0       Control   \n",
       "B1_AAACGCACTAGCCA_Control_Stem-0                        Control   \n",
       "B1_AAACGCACTGTCCC_Control_Stem-0                        Control   \n",
       "B1_AAACTTGACCACCT_Control_Enterocyte.Progenitor-0       Control   \n",
       "B1_AAAGATCTACCTTT_Control_Enterocyte.Progenitor-0       Control   \n",
       "...                                                         ...   \n",
       "B8_TTTGACTGGATGAA_Hpoly.Day10_Enterocyte.Progen...  Hpoly.Day10   \n",
       "B8_TTTGACTGGGACAG_Hpoly.Day10_Goblet-1              Hpoly.Day10   \n",
       "B8_TTTGCATGCTCTTA_Hpoly.Day10_Enterocyte.Progen...  Hpoly.Day10   \n",
       "B8_TTTGCATGGACAGG_Hpoly.Day10_TA-1                  Hpoly.Day10   \n",
       "B8_TTTGCATGGAGGCA_Hpoly.Day10_TA.Early-1            Hpoly.Day10   \n",
       "\n",
       "                                                               cell_label  \\\n",
       "index                                                                       \n",
       "B1_AAACATACCACAAC_Control_Enterocyte.Progenitor-0   Enterocyte.Progenitor   \n",
       "B1_AAACGCACTAGCCA_Control_Stem-0                                     Stem   \n",
       "B1_AAACGCACTGTCCC_Control_Stem-0                                     Stem   \n",
       "B1_AAACTTGACCACCT_Control_Enterocyte.Progenitor-0   Enterocyte.Progenitor   \n",
       "B1_AAAGATCTACCTTT_Control_Enterocyte.Progenitor-0   Enterocyte.Progenitor   \n",
       "...                                                                   ...   \n",
       "B8_TTTGACTGGATGAA_Hpoly.Day10_Enterocyte.Progen...  Enterocyte.Progenitor   \n",
       "B8_TTTGACTGGGACAG_Hpoly.Day10_Goblet-1                             Goblet   \n",
       "B8_TTTGCATGCTCTTA_Hpoly.Day10_Enterocyte.Progen...  Enterocyte.Progenitor   \n",
       "B8_TTTGCATGGACAGG_Hpoly.Day10_TA-1                                     TA   \n",
       "B8_TTTGCATGGAGGCA_Hpoly.Day10_TA.Early-1                         TA.Early   \n",
       "\n",
       "                                                    n_counts  n_genes  mt_frac  \n",
       "index                                                                           \n",
       "B1_AAACATACCACAAC_Control_Enterocyte.Progenitor-0     6263.0     1905      0.0  \n",
       "B1_AAACGCACTAGCCA_Control_Stem-0                      4117.0     1797      0.0  \n",
       "B1_AAACGCACTGTCCC_Control_Stem-0                      1972.0     1113      0.0  \n",
       "B1_AAACTTGACCACCT_Control_Enterocyte.Progenitor-0     5135.0     1934      0.0  \n",
       "B1_AAAGATCTACCTTT_Control_Enterocyte.Progenitor-0     5577.0     2043      0.0  \n",
       "...                                                      ...      ...      ...  \n",
       "B8_TTTGACTGGATGAA_Hpoly.Day10_Enterocyte.Progen...   16608.0     3034      0.0  \n",
       "B8_TTTGACTGGGACAG_Hpoly.Day10_Goblet-1                3968.0     1017      0.0  \n",
       "B8_TTTGCATGCTCTTA_Hpoly.Day10_Enterocyte.Progen...    2402.0      988      0.0  \n",
       "B8_TTTGCATGGACAGG_Hpoly.Day10_TA-1                    3764.0     1509      0.0  \n",
       "B8_TTTGCATGGAGGCA_Hpoly.Day10_TA.Early-1              7607.0     2294      0.0  \n",
       "\n",
       "[5059 rows x 7 columns]"
      ]
     },
     "execution_count": 150,
     "metadata": {},
     "output_type": "execute_result"
    }
   ],
   "source": [
    "adata.obs"
   ]
  },
  {
   "cell_type": "code",
   "execution_count": 151,
   "metadata": {},
   "outputs": [
    {
     "data": {
      "text/plain": [
       "array([673.4823 , 754.55176, 664.5113 , ..., 519.8281 , 661.8864 ,\n",
       "       732.49725], dtype=float32)"
      ]
     },
     "execution_count": 151,
     "metadata": {},
     "output_type": "execute_result"
    }
   ],
   "source": [
    "np.sum(adata.X,axis=1)"
   ]
  },
  {
   "cell_type": "code",
   "execution_count": 152,
   "metadata": {},
   "outputs": [
    {
     "data": {
      "text/plain": [
       "array([6.7062316, 4.310944 , 4.2069454, ..., 4.399095 , 4.0333843,\n",
       "       4.83503  ], dtype=float32)"
      ]
     },
     "execution_count": 152,
     "metadata": {},
     "output_type": "execute_result"
    }
   ],
   "source": [
    "np.max(adata.X,axis=1) "
   ]
  },
  {
   "cell_type": "code",
   "execution_count": 154,
   "metadata": {},
   "outputs": [
    {
     "data": {
      "text/plain": [
       "8.006596"
      ]
     },
     "execution_count": 154,
     "metadata": {},
     "output_type": "execute_result"
    }
   ],
   "source": [
    "np.max(adata.X)"
   ]
  },
  {
   "cell_type": "code",
   "execution_count": null,
   "metadata": {},
   "outputs": [],
   "source": []
  },
  {
   "cell_type": "code",
   "execution_count": null,
   "metadata": {},
   "outputs": [],
   "source": []
  },
  {
   "cell_type": "code",
   "execution_count": null,
   "metadata": {},
   "outputs": [],
   "source": []
  },
  {
   "cell_type": "code",
   "execution_count": null,
   "metadata": {},
   "outputs": [],
   "source": []
  },
  {
   "cell_type": "markdown",
   "metadata": {},
   "source": [
    "## Check count matrix "
   ]
  },
  {
   "cell_type": "code",
   "execution_count": 97,
   "metadata": {},
   "outputs": [],
   "source": [
    "adata = sc.read('../Data/10Xmouse.h5ad')"
   ]
  },
  {
   "cell_type": "code",
   "execution_count": 99,
   "metadata": {},
   "outputs": [
    {
     "data": {
      "text/plain": [
       "<9530x13130 sparse matrix of type '<class 'numpy.float32'>'\n",
       "\twith 0 stored elements in Compressed Sparse Row format>"
      ]
     },
     "execution_count": 99,
     "metadata": {},
     "output_type": "execute_result"
    }
   ],
   "source": [
    "adata.X - np.round(adata.X,0)"
   ]
  },
  {
   "cell_type": "code",
   "execution_count": 100,
   "metadata": {},
   "outputs": [],
   "source": [
    "adata = sc.read('../Data/10Xpbmc.h5ad')"
   ]
  },
  {
   "cell_type": "code",
   "execution_count": 101,
   "metadata": {},
   "outputs": [
    {
     "data": {
      "text/plain": [
       "<41927x8234 sparse matrix of type '<class 'numpy.float32'>'\n",
       "\twith 0 stored elements in Compressed Sparse Row format>"
      ]
     },
     "execution_count": 101,
     "metadata": {},
     "output_type": "execute_result"
    }
   ],
   "source": [
    "adata.X - np.round(adata.X,0)"
   ]
  },
  {
   "cell_type": "code",
   "execution_count": 126,
   "metadata": {},
   "outputs": [],
   "source": [
    "adata = sc.read('../Data/humanpancreas.h5ad')"
   ]
  },
  {
   "cell_type": "code",
   "execution_count": 134,
   "metadata": {},
   "outputs": [
    {
     "data": {
      "text/plain": [
       "<15921x5057 sparse matrix of type '<class 'numpy.float32'>'\n",
       "\twith 5981242 stored elements in Compressed Sparse Row format>"
      ]
     },
     "execution_count": 134,
     "metadata": {},
     "output_type": "execute_result"
    }
   ],
   "source": [
    "adata.X - np.round(adata.X,0)"
   ]
  },
  {
   "cell_type": "code",
   "execution_count": 136,
   "metadata": {},
   "outputs": [
    {
     "data": {
      "text/plain": [
       "matrix([[ 1.6537472],\n",
       "        [ 2.052798 ],\n",
       "        [ 1.4235711],\n",
       "        ...,\n",
       "        [ 8.727704 ],\n",
       "        [12.3245   ],\n",
       "        [ 7.9472027]], dtype=float32)"
      ]
     },
     "execution_count": 136,
     "metadata": {},
     "output_type": "execute_result"
    }
   ],
   "source": [
    "adata.X.mean(axis=1)"
   ]
  },
  {
   "cell_type": "code",
   "execution_count": 145,
   "metadata": {},
   "outputs": [
    {
     "data": {
      "image/png": "[encoded data removed]",
      "text/plain": [
       "<Figure size 662.4x432 with 3 Axes>"
      ]
     },
     "metadata": {
      "needs_background": "light"
     },
     "output_type": "display_data"
    }
   ],
   "source": [
    "sc.pl.heatmap(adata,adata.var_names[:30],groupby='actual')"
   ]
  },
  {
   "cell_type": "code",
   "execution_count": null,
   "metadata": {},
   "outputs": [],
   "source": []
  },
  {
   "cell_type": "code",
   "execution_count": null,
   "metadata": {},
   "outputs": [],
   "source": []
  }
 ],
 "metadata": {
  "kernelspec": {
   "display_name": "Python 3",
   "language": "python",
   "name": "python3"
  },
  "language_info": {
   "codemirror_mode": {
    "name": "ipython",
    "version": 3
   },
   "file_extension": ".py",
   "mimetype": "text/x-python",
   "name": "python",
   "nbconvert_exporter": "python",
   "pygments_lexer": "ipython3",
   "version": "3.7.4"
  }
 },
 "nbformat": 4,
 "nbformat_minor": 2
}
