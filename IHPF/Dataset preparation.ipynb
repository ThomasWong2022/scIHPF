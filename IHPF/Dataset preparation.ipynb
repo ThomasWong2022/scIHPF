{
 "cells": [
  {
   "cell_type": "markdown",
   "metadata": {},
   "source": [
    "# Dataset preparation "
   ]
  },
  {
   "cell_type": "code",
   "execution_count": 2,
   "metadata": {},
   "outputs": [
    {
     "name": "stderr",
     "output_type": "stream",
     "text": [
      "/home/mw4315/anaconda3/lib/python3.7/site-packages/dask/config.py:161: YAMLLoadWarning: calling yaml.load() without Loader=... is deprecated, as the default Loader is unsafe. Please read https://msg.pyyaml.org/load for full details.\n",
      "  data = yaml.load(f.read()) or {}\n"
     ]
    }
   ],
   "source": [
    "import numpy as np\n",
    "import pandas as pd\n",
    "import scanpy as sc\n",
    "from anndata import AnnData"
   ]
  },
  {
   "cell_type": "code",
   "execution_count": 199,
   "metadata": {},
   "outputs": [],
   "source": [
    "folder = '../Data/scgen/data'"
   ]
  },
  {
   "cell_type": "code",
   "execution_count": 200,
   "metadata": {},
   "outputs": [],
   "source": [
    "adata = sc.read('{}/train_species.h5ad'.format(folder))"
   ]
  },
  {
   "cell_type": "code",
   "execution_count": 201,
   "metadata": {},
   "outputs": [
    {
     "data": {
      "text/plain": [
       "AnnData object with n_obs × n_vars = 62114 × 6619\n",
       "    obs: 'condition', 'species', 'individual', 'batch', 'louvain', 'n_counts', 'INMF_2_kmeans_normalised', 'HPF_2_kmeans_normalised', 'PCA_2_kmeans_normalised', 'IHPF_2_kmeans_normalised', 'IHPF_kmeans_normalised', 'INMF_kmeans_normalised', 'HPF_kmeans_normalised', 'PCA_kmeans_normalised'\n",
       "    var: 'gene_ids-0-0-0-0', 'gene_ids-1-0-0-0', 'gene_ids-2-0-0-0', 'gene_ids-0-1-0-0', 'gene_ids-1-1-0-0', 'gene_ids-2-1-0-0', 'gene_ids-0-0-1-0', 'gene_ids-1-0-1-0', 'gene_ids-2-0-1-0', 'gene_ids-0-1-1-0', 'gene_ids-1-1-1-0', 'gene_ids-2-1-1-0', 'gene_ids-3-1-1-0', 'gene_ids-0-0-0-1', 'gene_ids-1-0-0-1', 'gene_ids-2-0-0-1', 'gene_ids-0-1-0-1', 'gene_ids-1-1-0-1', 'gene_ids-2-1-0-1', 'gene_ids-0-0-1-1', 'gene_ids-1-0-1-1', 'gene_ids-2-0-1-1', 'gene_ids-0-1-1-1', 'gene_ids-1-1-1-1', 'gene_ids-2-1-1-1'\n",
       "    uns: 'condition_colors', 'neighbors', 'species_colors'\n",
       "    obsm: 'HPF', 'HPF_2', 'IHPF', 'IHPF_2', 'INMF', 'INMF_2', 'PCA', 'PCA_2', 'X_pca', 'X_umap'\n",
       "    varm: 'HPF', 'HPF_2', 'IHPF', 'IHPF_2', 'INMF', 'INMF_2', 'PCA', 'PCA_2'\n",
       "    obsp: 'connectivities', 'distances'"
      ]
     },
     "execution_count": 201,
     "metadata": {},
     "output_type": "execute_result"
    }
   ],
   "source": [
    "adata"
   ]
  },
  {
   "cell_type": "code",
   "execution_count": 202,
   "metadata": {},
   "outputs": [
    {
     "data": {
      "text/html": [
       "<div>\n",
       "<style scoped>\n",
       "    .dataframe tbody tr th:only-of-type {\n",
       "        vertical-align: middle;\n",
       "    }\n",
       "\n",
       "    .dataframe tbody tr th {\n",
       "        vertical-align: top;\n",
       "    }\n",
       "\n",
       "    .dataframe thead th {\n",
       "        text-align: right;\n",
       "    }\n",
       "</style>\n",
       "<table border=\"1\" class=\"dataframe\">\n",
       "  <thead>\n",
       "    <tr style=\"text-align: right;\">\n",
       "      <th></th>\n",
       "      <th>condition</th>\n",
       "      <th>species</th>\n",
       "      <th>individual</th>\n",
       "      <th>batch</th>\n",
       "      <th>louvain</th>\n",
       "      <th>n_counts</th>\n",
       "      <th>INMF_2_kmeans_normalised</th>\n",
       "      <th>HPF_2_kmeans_normalised</th>\n",
       "      <th>PCA_2_kmeans_normalised</th>\n",
       "      <th>IHPF_2_kmeans_normalised</th>\n",
       "      <th>IHPF_kmeans_normalised</th>\n",
       "      <th>INMF_kmeans_normalised</th>\n",
       "      <th>HPF_kmeans_normalised</th>\n",
       "      <th>PCA_kmeans_normalised</th>\n",
       "    </tr>\n",
       "    <tr>\n",
       "      <th>index</th>\n",
       "      <th></th>\n",
       "      <th></th>\n",
       "      <th></th>\n",
       "      <th></th>\n",
       "      <th></th>\n",
       "      <th></th>\n",
       "      <th></th>\n",
       "      <th></th>\n",
       "      <th></th>\n",
       "      <th></th>\n",
       "      <th></th>\n",
       "      <th></th>\n",
       "      <th></th>\n",
       "      <th></th>\n",
       "    </tr>\n",
       "  </thead>\n",
       "  <tbody>\n",
       "    <tr>\n",
       "      <th>AAACCTGTCGGTCTAA-1-0-0-0-0</th>\n",
       "      <td>LPS6</td>\n",
       "      <td>rabbit</td>\n",
       "      <td>3</td>\n",
       "      <td>0</td>\n",
       "      <td>7</td>\n",
       "      <td>1776.0</td>\n",
       "      <td>1</td>\n",
       "      <td>0</td>\n",
       "      <td>0</td>\n",
       "      <td>0</td>\n",
       "      <td>1</td>\n",
       "      <td>1</td>\n",
       "      <td>1</td>\n",
       "      <td>1</td>\n",
       "    </tr>\n",
       "    <tr>\n",
       "      <th>AAACCTGTCTGTCCGT-1-0-0-0-0</th>\n",
       "      <td>LPS6</td>\n",
       "      <td>rabbit</td>\n",
       "      <td>3</td>\n",
       "      <td>0</td>\n",
       "      <td>9</td>\n",
       "      <td>2722.0</td>\n",
       "      <td>1</td>\n",
       "      <td>0</td>\n",
       "      <td>0</td>\n",
       "      <td>0</td>\n",
       "      <td>1</td>\n",
       "      <td>1</td>\n",
       "      <td>1</td>\n",
       "      <td>1</td>\n",
       "    </tr>\n",
       "    <tr>\n",
       "      <th>AAACGGGAGCCGATTT-1-0-0-0-0</th>\n",
       "      <td>LPS6</td>\n",
       "      <td>rabbit</td>\n",
       "      <td>3</td>\n",
       "      <td>0</td>\n",
       "      <td>3</td>\n",
       "      <td>1396.0</td>\n",
       "      <td>1</td>\n",
       "      <td>0</td>\n",
       "      <td>0</td>\n",
       "      <td>0</td>\n",
       "      <td>1</td>\n",
       "      <td>1</td>\n",
       "      <td>1</td>\n",
       "      <td>1</td>\n",
       "    </tr>\n",
       "    <tr>\n",
       "      <th>AAACGGGAGGCGCTCT-1-0-0-0-0</th>\n",
       "      <td>LPS6</td>\n",
       "      <td>rabbit</td>\n",
       "      <td>3</td>\n",
       "      <td>0</td>\n",
       "      <td>3</td>\n",
       "      <td>1591.0</td>\n",
       "      <td>1</td>\n",
       "      <td>0</td>\n",
       "      <td>0</td>\n",
       "      <td>0</td>\n",
       "      <td>1</td>\n",
       "      <td>1</td>\n",
       "      <td>1</td>\n",
       "      <td>1</td>\n",
       "    </tr>\n",
       "    <tr>\n",
       "      <th>AAACGGGCACAACGCC-1-0-0-0-0</th>\n",
       "      <td>LPS6</td>\n",
       "      <td>rabbit</td>\n",
       "      <td>3</td>\n",
       "      <td>0</td>\n",
       "      <td>9</td>\n",
       "      <td>1341.0</td>\n",
       "      <td>1</td>\n",
       "      <td>0</td>\n",
       "      <td>0</td>\n",
       "      <td>0</td>\n",
       "      <td>1</td>\n",
       "      <td>1</td>\n",
       "      <td>1</td>\n",
       "      <td>1</td>\n",
       "    </tr>\n",
       "    <tr>\n",
       "      <th>...</th>\n",
       "      <td>...</td>\n",
       "      <td>...</td>\n",
       "      <td>...</td>\n",
       "      <td>...</td>\n",
       "      <td>...</td>\n",
       "      <td>...</td>\n",
       "      <td>...</td>\n",
       "      <td>...</td>\n",
       "      <td>...</td>\n",
       "      <td>...</td>\n",
       "      <td>...</td>\n",
       "      <td>...</td>\n",
       "      <td>...</td>\n",
       "      <td>...</td>\n",
       "    </tr>\n",
       "    <tr>\n",
       "      <th>TTTGGTTGTGGGTATG-1-2-1-1-1</th>\n",
       "      <td>unst</td>\n",
       "      <td>mouse</td>\n",
       "      <td>1</td>\n",
       "      <td>1</td>\n",
       "      <td>2</td>\n",
       "      <td>3070.0</td>\n",
       "      <td>0</td>\n",
       "      <td>0</td>\n",
       "      <td>0</td>\n",
       "      <td>1</td>\n",
       "      <td>0</td>\n",
       "      <td>0</td>\n",
       "      <td>0</td>\n",
       "      <td>0</td>\n",
       "    </tr>\n",
       "    <tr>\n",
       "      <th>TTTGTCAAGCCCTAAT-1-2-1-1-1</th>\n",
       "      <td>unst</td>\n",
       "      <td>mouse</td>\n",
       "      <td>1</td>\n",
       "      <td>1</td>\n",
       "      <td>2</td>\n",
       "      <td>1452.0</td>\n",
       "      <td>0</td>\n",
       "      <td>0</td>\n",
       "      <td>0</td>\n",
       "      <td>1</td>\n",
       "      <td>0</td>\n",
       "      <td>0</td>\n",
       "      <td>0</td>\n",
       "      <td>0</td>\n",
       "    </tr>\n",
       "    <tr>\n",
       "      <th>TTTGTCAAGCTAAACA-1-2-1-1-1</th>\n",
       "      <td>unst</td>\n",
       "      <td>mouse</td>\n",
       "      <td>1</td>\n",
       "      <td>1</td>\n",
       "      <td>2</td>\n",
       "      <td>3356.0</td>\n",
       "      <td>0</td>\n",
       "      <td>0</td>\n",
       "      <td>0</td>\n",
       "      <td>1</td>\n",
       "      <td>0</td>\n",
       "      <td>0</td>\n",
       "      <td>0</td>\n",
       "      <td>0</td>\n",
       "    </tr>\n",
       "    <tr>\n",
       "      <th>TTTGTCACAGTTTACG-1-2-1-1-1</th>\n",
       "      <td>unst</td>\n",
       "      <td>mouse</td>\n",
       "      <td>1</td>\n",
       "      <td>1</td>\n",
       "      <td>2</td>\n",
       "      <td>4720.0</td>\n",
       "      <td>0</td>\n",
       "      <td>0</td>\n",
       "      <td>0</td>\n",
       "      <td>1</td>\n",
       "      <td>0</td>\n",
       "      <td>0</td>\n",
       "      <td>0</td>\n",
       "      <td>0</td>\n",
       "    </tr>\n",
       "    <tr>\n",
       "      <th>TTTGTCATCCGTTGTC-1-2-1-1-1</th>\n",
       "      <td>unst</td>\n",
       "      <td>mouse</td>\n",
       "      <td>1</td>\n",
       "      <td>1</td>\n",
       "      <td>2</td>\n",
       "      <td>2486.0</td>\n",
       "      <td>0</td>\n",
       "      <td>0</td>\n",
       "      <td>0</td>\n",
       "      <td>1</td>\n",
       "      <td>0</td>\n",
       "      <td>0</td>\n",
       "      <td>0</td>\n",
       "      <td>0</td>\n",
       "    </tr>\n",
       "  </tbody>\n",
       "</table>\n",
       "<p>62114 rows × 14 columns</p>\n",
       "</div>"
      ],
      "text/plain": [
       "                           condition species individual batch louvain  \\\n",
       "index                                                                   \n",
       "AAACCTGTCGGTCTAA-1-0-0-0-0      LPS6  rabbit          3     0       7   \n",
       "AAACCTGTCTGTCCGT-1-0-0-0-0      LPS6  rabbit          3     0       9   \n",
       "AAACGGGAGCCGATTT-1-0-0-0-0      LPS6  rabbit          3     0       3   \n",
       "AAACGGGAGGCGCTCT-1-0-0-0-0      LPS6  rabbit          3     0       3   \n",
       "AAACGGGCACAACGCC-1-0-0-0-0      LPS6  rabbit          3     0       9   \n",
       "...                              ...     ...        ...   ...     ...   \n",
       "TTTGGTTGTGGGTATG-1-2-1-1-1      unst   mouse          1     1       2   \n",
       "TTTGTCAAGCCCTAAT-1-2-1-1-1      unst   mouse          1     1       2   \n",
       "TTTGTCAAGCTAAACA-1-2-1-1-1      unst   mouse          1     1       2   \n",
       "TTTGTCACAGTTTACG-1-2-1-1-1      unst   mouse          1     1       2   \n",
       "TTTGTCATCCGTTGTC-1-2-1-1-1      unst   mouse          1     1       2   \n",
       "\n",
       "                            n_counts  INMF_2_kmeans_normalised  \\\n",
       "index                                                            \n",
       "AAACCTGTCGGTCTAA-1-0-0-0-0    1776.0                         1   \n",
       "AAACCTGTCTGTCCGT-1-0-0-0-0    2722.0                         1   \n",
       "AAACGGGAGCCGATTT-1-0-0-0-0    1396.0                         1   \n",
       "AAACGGGAGGCGCTCT-1-0-0-0-0    1591.0                         1   \n",
       "AAACGGGCACAACGCC-1-0-0-0-0    1341.0                         1   \n",
       "...                              ...                       ...   \n",
       "TTTGGTTGTGGGTATG-1-2-1-1-1    3070.0                         0   \n",
       "TTTGTCAAGCCCTAAT-1-2-1-1-1    1452.0                         0   \n",
       "TTTGTCAAGCTAAACA-1-2-1-1-1    3356.0                         0   \n",
       "TTTGTCACAGTTTACG-1-2-1-1-1    4720.0                         0   \n",
       "TTTGTCATCCGTTGTC-1-2-1-1-1    2486.0                         0   \n",
       "\n",
       "                            HPF_2_kmeans_normalised  PCA_2_kmeans_normalised  \\\n",
       "index                                                                          \n",
       "AAACCTGTCGGTCTAA-1-0-0-0-0                        0                        0   \n",
       "AAACCTGTCTGTCCGT-1-0-0-0-0                        0                        0   \n",
       "AAACGGGAGCCGATTT-1-0-0-0-0                        0                        0   \n",
       "AAACGGGAGGCGCTCT-1-0-0-0-0                        0                        0   \n",
       "AAACGGGCACAACGCC-1-0-0-0-0                        0                        0   \n",
       "...                                             ...                      ...   \n",
       "TTTGGTTGTGGGTATG-1-2-1-1-1                        0                        0   \n",
       "TTTGTCAAGCCCTAAT-1-2-1-1-1                        0                        0   \n",
       "TTTGTCAAGCTAAACA-1-2-1-1-1                        0                        0   \n",
       "TTTGTCACAGTTTACG-1-2-1-1-1                        0                        0   \n",
       "TTTGTCATCCGTTGTC-1-2-1-1-1                        0                        0   \n",
       "\n",
       "                            IHPF_2_kmeans_normalised  IHPF_kmeans_normalised  \\\n",
       "index                                                                          \n",
       "AAACCTGTCGGTCTAA-1-0-0-0-0                         0                       1   \n",
       "AAACCTGTCTGTCCGT-1-0-0-0-0                         0                       1   \n",
       "AAACGGGAGCCGATTT-1-0-0-0-0                         0                       1   \n",
       "AAACGGGAGGCGCTCT-1-0-0-0-0                         0                       1   \n",
       "AAACGGGCACAACGCC-1-0-0-0-0                         0                       1   \n",
       "...                                              ...                     ...   \n",
       "TTTGGTTGTGGGTATG-1-2-1-1-1                         1                       0   \n",
       "TTTGTCAAGCCCTAAT-1-2-1-1-1                         1                       0   \n",
       "TTTGTCAAGCTAAACA-1-2-1-1-1                         1                       0   \n",
       "TTTGTCACAGTTTACG-1-2-1-1-1                         1                       0   \n",
       "TTTGTCATCCGTTGTC-1-2-1-1-1                         1                       0   \n",
       "\n",
       "                            INMF_kmeans_normalised  HPF_kmeans_normalised  \\\n",
       "index                                                                       \n",
       "AAACCTGTCGGTCTAA-1-0-0-0-0                       1                      1   \n",
       "AAACCTGTCTGTCCGT-1-0-0-0-0                       1                      1   \n",
       "AAACGGGAGCCGATTT-1-0-0-0-0                       1                      1   \n",
       "AAACGGGAGGCGCTCT-1-0-0-0-0                       1                      1   \n",
       "AAACGGGCACAACGCC-1-0-0-0-0                       1                      1   \n",
       "...                                            ...                    ...   \n",
       "TTTGGTTGTGGGTATG-1-2-1-1-1                       0                      0   \n",
       "TTTGTCAAGCCCTAAT-1-2-1-1-1                       0                      0   \n",
       "TTTGTCAAGCTAAACA-1-2-1-1-1                       0                      0   \n",
       "TTTGTCACAGTTTACG-1-2-1-1-1                       0                      0   \n",
       "TTTGTCATCCGTTGTC-1-2-1-1-1                       0                      0   \n",
       "\n",
       "                            PCA_kmeans_normalised  \n",
       "index                                              \n",
       "AAACCTGTCGGTCTAA-1-0-0-0-0                      1  \n",
       "AAACCTGTCTGTCCGT-1-0-0-0-0                      1  \n",
       "AAACGGGAGCCGATTT-1-0-0-0-0                      1  \n",
       "AAACGGGAGGCGCTCT-1-0-0-0-0                      1  \n",
       "AAACGGGCACAACGCC-1-0-0-0-0                      1  \n",
       "...                                           ...  \n",
       "TTTGGTTGTGGGTATG-1-2-1-1-1                      0  \n",
       "TTTGTCAAGCCCTAAT-1-2-1-1-1                      0  \n",
       "TTTGTCAAGCTAAACA-1-2-1-1-1                      0  \n",
       "TTTGTCACAGTTTACG-1-2-1-1-1                      0  \n",
       "TTTGTCATCCGTTGTC-1-2-1-1-1                      0  \n",
       "\n",
       "[62114 rows x 14 columns]"
      ]
     },
     "execution_count": 202,
     "metadata": {},
     "output_type": "execute_result"
    }
   ],
   "source": [
    "adata.obs"
   ]
  },
  {
   "cell_type": "code",
   "execution_count": 203,
   "metadata": {},
   "outputs": [
    {
     "data": {
      "text/plain": [
       "<62114x6619 sparse matrix of type '<class 'numpy.float32'>'\n",
       "\twith 76893206 stored elements in Compressed Sparse Row format>"
      ]
     },
     "execution_count": 203,
     "metadata": {},
     "output_type": "execute_result"
    }
   ],
   "source": [
    "adata.X"
   ]
  },
  {
   "cell_type": "code",
   "execution_count": 204,
   "metadata": {},
   "outputs": [
    {
     "data": {
      "text/plain": [
       "matrix([[ 924.9403],\n",
       "        [ 930.5809],\n",
       "        [ 819.9948],\n",
       "        ...,\n",
       "        [1380.3472],\n",
       "        [1472.2992],\n",
       "        [1369.5625]], dtype=float32)"
      ]
     },
     "execution_count": 204,
     "metadata": {},
     "output_type": "execute_result"
    }
   ],
   "source": [
    "np.sum(adata.X,axis=1)"
   ]
  },
  {
   "cell_type": "code",
   "execution_count": 205,
   "metadata": {},
   "outputs": [
    {
     "data": {
      "text/plain": [
       "7.3831224"
      ]
     },
     "execution_count": 205,
     "metadata": {},
     "output_type": "execute_result"
    }
   ],
   "source": [
    "np.max(adata.X)"
   ]
  },
  {
   "cell_type": "code",
   "execution_count": 206,
   "metadata": {},
   "outputs": [],
   "source": [
    "actual_counts = np.exp(adata.X.todense()) - 1"
   ]
  },
  {
   "cell_type": "code",
   "execution_count": 207,
   "metadata": {},
   "outputs": [
    {
     "data": {
      "text/plain": [
       "1607.6047"
      ]
     },
     "execution_count": 207,
     "metadata": {},
     "output_type": "execute_result"
    }
   ],
   "source": [
    "np.max(actual_counts)"
   ]
  },
  {
   "cell_type": "code",
   "execution_count": 208,
   "metadata": {},
   "outputs": [],
   "source": [
    "newadata = adata.copy()"
   ]
  },
  {
   "cell_type": "code",
   "execution_count": 209,
   "metadata": {},
   "outputs": [],
   "source": [
    "newadata.X = actual_counts"
   ]
  },
  {
   "cell_type": "code",
   "execution_count": 210,
   "metadata": {},
   "outputs": [
    {
     "data": {
      "text/plain": [
       "AnnData object with n_obs × n_vars = 62114 × 6619\n",
       "    obs: 'condition', 'species', 'individual', 'batch', 'louvain', 'n_counts', 'INMF_2_kmeans_normalised', 'HPF_2_kmeans_normalised', 'PCA_2_kmeans_normalised', 'IHPF_2_kmeans_normalised', 'IHPF_kmeans_normalised', 'INMF_kmeans_normalised', 'HPF_kmeans_normalised', 'PCA_kmeans_normalised'\n",
       "    var: 'gene_ids-0-0-0-0', 'gene_ids-1-0-0-0', 'gene_ids-2-0-0-0', 'gene_ids-0-1-0-0', 'gene_ids-1-1-0-0', 'gene_ids-2-1-0-0', 'gene_ids-0-0-1-0', 'gene_ids-1-0-1-0', 'gene_ids-2-0-1-0', 'gene_ids-0-1-1-0', 'gene_ids-1-1-1-0', 'gene_ids-2-1-1-0', 'gene_ids-3-1-1-0', 'gene_ids-0-0-0-1', 'gene_ids-1-0-0-1', 'gene_ids-2-0-0-1', 'gene_ids-0-1-0-1', 'gene_ids-1-1-0-1', 'gene_ids-2-1-0-1', 'gene_ids-0-0-1-1', 'gene_ids-1-0-1-1', 'gene_ids-2-0-1-1', 'gene_ids-0-1-1-1', 'gene_ids-1-1-1-1', 'gene_ids-2-1-1-1'\n",
       "    uns: 'condition_colors', 'neighbors', 'species_colors'\n",
       "    obsm: 'HPF', 'HPF_2', 'IHPF', 'IHPF_2', 'INMF', 'INMF_2', 'PCA', 'PCA_2', 'X_pca', 'X_umap'\n",
       "    varm: 'HPF', 'HPF_2', 'IHPF', 'IHPF_2', 'INMF', 'INMF_2', 'PCA', 'PCA_2'\n",
       "    obsp: 'connectivities', 'distances'"
      ]
     },
     "execution_count": 210,
     "metadata": {},
     "output_type": "execute_result"
    }
   ],
   "source": [
    "newadata"
   ]
  },
  {
   "cell_type": "code",
   "execution_count": 218,
   "metadata": {},
   "outputs": [
    {
     "data": {
      "image/png": "[encoded data removed]",
      "text/plain": [
       "<Figure size 446.4x432 with 3 Axes>"
      ]
     },
     "metadata": {
      "needs_background": "light"
     },
     "output_type": "display_data"
    }
   ],
   "source": [
    "sc.pl.heatmap(newadata,newadata.var_names[:20],groupby='condition')"
   ]
  },
  {
   "cell_type": "code",
   "execution_count": 217,
   "metadata": {},
   "outputs": [
    {
     "name": "stdout",
     "output_type": "stream",
     "text": [
      "WARNING: Gene labels are not shown when more than 50 genes are visualized. To show gene labels set `show_gene_labels=True`\n"
     ]
    },
    {
     "data": {
      "image/png": "[encoded data removed]",
      "text/plain": [
       "<Figure size 590.4x432 with 3 Axes>"
      ]
     },
     "metadata": {
      "needs_background": "light"
     },
     "output_type": "display_data"
    }
   ],
   "source": [
    "sc.pl.heatmap(newadata,newadata.var_names[:300],groupby='species')"
   ]
  },
  {
   "cell_type": "code",
   "execution_count": null,
   "metadata": {},
   "outputs": [],
   "source": []
  },
  {
   "cell_type": "code",
   "execution_count": 211,
   "metadata": {},
   "outputs": [],
   "source": [
    "import os.path"
   ]
  },
  {
   "cell_type": "code",
   "execution_count": 196,
   "metadata": {},
   "outputs": [],
   "source": [
    "if not os.path.isfile('../Data/{}.h5ad'.format('species'))\n",
    "    newadata.write('../Data/{}.h5ad'.format('species'))"
   ]
  },
  {
   "cell_type": "code",
   "execution_count": null,
   "metadata": {},
   "outputs": [],
   "source": []
  },
  {
   "cell_type": "markdown",
   "metadata": {},
   "source": [
    "## Check count matrix "
   ]
  },
  {
   "cell_type": "code",
   "execution_count": 97,
   "metadata": {},
   "outputs": [],
   "source": [
    "adata = sc.read('../Data/10Xmouse.h5ad')"
   ]
  },
  {
   "cell_type": "code",
   "execution_count": 99,
   "metadata": {},
   "outputs": [
    {
     "data": {
      "text/plain": [
       "<9530x13130 sparse matrix of type '<class 'numpy.float32'>'\n",
       "\twith 0 stored elements in Compressed Sparse Row format>"
      ]
     },
     "execution_count": 99,
     "metadata": {},
     "output_type": "execute_result"
    }
   ],
   "source": [
    "adata.X - np.round(adata.X,0)"
   ]
  },
  {
   "cell_type": "code",
   "execution_count": 100,
   "metadata": {},
   "outputs": [],
   "source": [
    "adata = sc.read('../Data/10Xpbmc.h5ad')"
   ]
  },
  {
   "cell_type": "code",
   "execution_count": 101,
   "metadata": {},
   "outputs": [
    {
     "data": {
      "text/plain": [
       "<41927x8234 sparse matrix of type '<class 'numpy.float32'>'\n",
       "\twith 0 stored elements in Compressed Sparse Row format>"
      ]
     },
     "execution_count": 101,
     "metadata": {},
     "output_type": "execute_result"
    }
   ],
   "source": [
    "adata.X - np.round(adata.X,0)"
   ]
  },
  {
   "cell_type": "code",
   "execution_count": 175,
   "metadata": {},
   "outputs": [],
   "source": [
    "adata = sc.read('../Data/humanpancreas.h5ad')"
   ]
  },
  {
   "cell_type": "code",
   "execution_count": 176,
   "metadata": {},
   "outputs": [
    {
     "data": {
      "text/plain": [
       "<15921x5057 sparse matrix of type '<class 'numpy.float32'>'\n",
       "\twith 5981242 stored elements in Compressed Sparse Row format>"
      ]
     },
     "execution_count": 176,
     "metadata": {},
     "output_type": "execute_result"
    }
   ],
   "source": [
    "adata.X - np.round(adata.X,0)"
   ]
  },
  {
   "cell_type": "code",
   "execution_count": 179,
   "metadata": {},
   "outputs": [
    {
     "data": {
      "text/plain": [
       "1341375.0"
      ]
     },
     "execution_count": 179,
     "metadata": {},
     "output_type": "execute_result"
    }
   ],
   "source": [
    "adata.X.max()"
   ]
  },
  {
   "cell_type": "code",
   "execution_count": 178,
   "metadata": {},
   "outputs": [
    {
     "data": {
      "image/png": "[encoded data removed]",
      "text/plain": [
       "<Figure size 662.4x432 with 3 Axes>"
      ]
     },
     "metadata": {
      "needs_background": "light"
     },
     "output_type": "display_data"
    }
   ],
   "source": [
    "sc.pl.heatmap(adata,adata.var_names[:30],groupby='actual')"
   ]
  },
  {
   "cell_type": "code",
   "execution_count": null,
   "metadata": {},
   "outputs": [],
   "source": []
  },
  {
   "cell_type": "code",
   "execution_count": 239,
   "metadata": {},
   "outputs": [],
   "source": [
    "## Import scripts for the dimension reduction methods \n",
    "import IHPF\n",
    "import INMF \n",
    "import schpf\n",
    "from sklearn.decomposition import PCA"
   ]
  },
  {
   "cell_type": "code",
   "execution_count": 270,
   "metadata": {},
   "outputs": [],
   "source": [
    "from scipy.sparse import coo_matrix\n",
    "from sklearn.cluster import KMeans\n",
    "from sklearn.preprocessing import normalize\n",
    "import numpy as np\n",
    "import pandas as pd\n",
    "import scanpy as sc\n",
    "from anndata import AnnData"
   ]
  },
  {
   "cell_type": "code",
   "execution_count": 332,
   "metadata": {},
   "outputs": [],
   "source": [
    "datasets = ['species',]\n",
    "for dataset in datasets:\n",
    "    ## Replace this with the location of your h5ad files\n",
    "    adata = sc.read('../Data/temp/{}.h5ad'.format(dataset))\n",
    "    adata.obs.reset_index(inplace=True)\n",
    "    adata.obs.sort_values('species',inplace=True)\n",
    "    presum = np.sum(adata.X,axis=1)\n",
    "    adata.X = adata.X[adata.obs.index]\n",
    "    postsum = np.sum(adata.X,axis=1)\n",
    "    assert presum[adata.obs.index].all() == postsum.all()\n",
    "    # Reset index \n",
    "    adata.obs.reset_index(inplace=True)\n",
    "    adata.obs.drop(['level_0', 'IHPF_2_kmeans_normalised' , 'PCA_2_kmeans_normalised', 'HPF_2_kmeans_normalised', 'INMF_2_kmeans_normalised'], axis=1,inplace=True)\n",
    "    adata.write('../Data/temp/{}_v2.h5ad'.format(dataset))"
   ]
  },
  {
   "cell_type": "code",
   "execution_count": 336,
   "metadata": {},
   "outputs": [
    {
     "data": {
      "text/plain": [
       "array([[1.57915695e+00, 1.45812944e-02],\n",
       "       [1.58410491e+00, 9.66865046e-03],\n",
       "       [1.59219007e+00, 7.41261814e-04],\n",
       "       ...,\n",
       "       [8.69360397e-02, 1.50299555e+00],\n",
       "       [4.36013333e-02, 1.54697357e+00],\n",
       "       [3.06661980e-02, 1.55921135e+00]])"
      ]
     },
     "execution_count": 336,
     "metadata": {},
     "output_type": "execute_result"
    }
   ],
   "source": [
    "adata.obsm['IHPF']"
   ]
  },
  {
   "cell_type": "code",
   "execution_count": null,
   "metadata": {},
   "outputs": [],
   "source": []
  },
  {
   "cell_type": "code",
   "execution_count": null,
   "metadata": {},
   "outputs": [],
   "source": []
  },
  {
   "cell_type": "code",
   "execution_count": 328,
   "metadata": {},
   "outputs": [],
   "source": [
    "datasets = ['species',]\n",
    "for dataset in datasets:\n",
    "    ## Replace this with the location of your h5ad files\n",
    "    adata = sc.read('../Data/temp/{}.h5ad'.format(dataset))"
   ]
  },
  {
   "cell_type": "code",
   "execution_count": 329,
   "metadata": {},
   "outputs": [
    {
     "data": {
      "text/html": [
       "<div>\n",
       "<style scoped>\n",
       "    .dataframe tbody tr th:only-of-type {\n",
       "        vertical-align: middle;\n",
       "    }\n",
       "\n",
       "    .dataframe tbody tr th {\n",
       "        vertical-align: top;\n",
       "    }\n",
       "\n",
       "    .dataframe thead th {\n",
       "        text-align: right;\n",
       "    }\n",
       "</style>\n",
       "<table border=\"1\" class=\"dataframe\">\n",
       "  <thead>\n",
       "    <tr style=\"text-align: right;\">\n",
       "      <th></th>\n",
       "      <th>condition</th>\n",
       "      <th>species</th>\n",
       "      <th>individual</th>\n",
       "      <th>batch</th>\n",
       "      <th>louvain</th>\n",
       "      <th>n_counts</th>\n",
       "      <th>INMF_2_kmeans_normalised</th>\n",
       "      <th>HPF_2_kmeans_normalised</th>\n",
       "      <th>PCA_2_kmeans_normalised</th>\n",
       "      <th>IHPF_2_kmeans_normalised</th>\n",
       "      <th>IHPF_kmeans_normalised</th>\n",
       "      <th>INMF_kmeans_normalised</th>\n",
       "      <th>HPF_kmeans_normalised</th>\n",
       "      <th>PCA_kmeans_normalised</th>\n",
       "    </tr>\n",
       "    <tr>\n",
       "      <th>index</th>\n",
       "      <th></th>\n",
       "      <th></th>\n",
       "      <th></th>\n",
       "      <th></th>\n",
       "      <th></th>\n",
       "      <th></th>\n",
       "      <th></th>\n",
       "      <th></th>\n",
       "      <th></th>\n",
       "      <th></th>\n",
       "      <th></th>\n",
       "      <th></th>\n",
       "      <th></th>\n",
       "      <th></th>\n",
       "    </tr>\n",
       "  </thead>\n",
       "  <tbody>\n",
       "    <tr>\n",
       "      <th>AAACCTGTCGGTCTAA-1-0-0-0-0</th>\n",
       "      <td>LPS6</td>\n",
       "      <td>rabbit</td>\n",
       "      <td>3</td>\n",
       "      <td>0</td>\n",
       "      <td>7</td>\n",
       "      <td>1776.0</td>\n",
       "      <td>1</td>\n",
       "      <td>0</td>\n",
       "      <td>0</td>\n",
       "      <td>0</td>\n",
       "      <td>1</td>\n",
       "      <td>1</td>\n",
       "      <td>1</td>\n",
       "      <td>1</td>\n",
       "    </tr>\n",
       "    <tr>\n",
       "      <th>AAACCTGTCTGTCCGT-1-0-0-0-0</th>\n",
       "      <td>LPS6</td>\n",
       "      <td>rabbit</td>\n",
       "      <td>3</td>\n",
       "      <td>0</td>\n",
       "      <td>9</td>\n",
       "      <td>2722.0</td>\n",
       "      <td>1</td>\n",
       "      <td>0</td>\n",
       "      <td>0</td>\n",
       "      <td>0</td>\n",
       "      <td>1</td>\n",
       "      <td>1</td>\n",
       "      <td>1</td>\n",
       "      <td>1</td>\n",
       "    </tr>\n",
       "    <tr>\n",
       "      <th>AAACGGGAGCCGATTT-1-0-0-0-0</th>\n",
       "      <td>LPS6</td>\n",
       "      <td>rabbit</td>\n",
       "      <td>3</td>\n",
       "      <td>0</td>\n",
       "      <td>3</td>\n",
       "      <td>1396.0</td>\n",
       "      <td>1</td>\n",
       "      <td>0</td>\n",
       "      <td>0</td>\n",
       "      <td>0</td>\n",
       "      <td>1</td>\n",
       "      <td>1</td>\n",
       "      <td>1</td>\n",
       "      <td>1</td>\n",
       "    </tr>\n",
       "    <tr>\n",
       "      <th>AAACGGGAGGCGCTCT-1-0-0-0-0</th>\n",
       "      <td>LPS6</td>\n",
       "      <td>rabbit</td>\n",
       "      <td>3</td>\n",
       "      <td>0</td>\n",
       "      <td>3</td>\n",
       "      <td>1591.0</td>\n",
       "      <td>1</td>\n",
       "      <td>0</td>\n",
       "      <td>0</td>\n",
       "      <td>0</td>\n",
       "      <td>1</td>\n",
       "      <td>1</td>\n",
       "      <td>1</td>\n",
       "      <td>1</td>\n",
       "    </tr>\n",
       "    <tr>\n",
       "      <th>AAACGGGCACAACGCC-1-0-0-0-0</th>\n",
       "      <td>LPS6</td>\n",
       "      <td>rabbit</td>\n",
       "      <td>3</td>\n",
       "      <td>0</td>\n",
       "      <td>9</td>\n",
       "      <td>1341.0</td>\n",
       "      <td>1</td>\n",
       "      <td>0</td>\n",
       "      <td>0</td>\n",
       "      <td>0</td>\n",
       "      <td>1</td>\n",
       "      <td>1</td>\n",
       "      <td>1</td>\n",
       "      <td>1</td>\n",
       "    </tr>\n",
       "    <tr>\n",
       "      <th>...</th>\n",
       "      <td>...</td>\n",
       "      <td>...</td>\n",
       "      <td>...</td>\n",
       "      <td>...</td>\n",
       "      <td>...</td>\n",
       "      <td>...</td>\n",
       "      <td>...</td>\n",
       "      <td>...</td>\n",
       "      <td>...</td>\n",
       "      <td>...</td>\n",
       "      <td>...</td>\n",
       "      <td>...</td>\n",
       "      <td>...</td>\n",
       "      <td>...</td>\n",
       "    </tr>\n",
       "    <tr>\n",
       "      <th>TTTGGTTGTGGGTATG-1-2-1-1-1</th>\n",
       "      <td>unst</td>\n",
       "      <td>mouse</td>\n",
       "      <td>1</td>\n",
       "      <td>1</td>\n",
       "      <td>2</td>\n",
       "      <td>3070.0</td>\n",
       "      <td>0</td>\n",
       "      <td>0</td>\n",
       "      <td>0</td>\n",
       "      <td>1</td>\n",
       "      <td>0</td>\n",
       "      <td>0</td>\n",
       "      <td>0</td>\n",
       "      <td>0</td>\n",
       "    </tr>\n",
       "    <tr>\n",
       "      <th>TTTGTCAAGCCCTAAT-1-2-1-1-1</th>\n",
       "      <td>unst</td>\n",
       "      <td>mouse</td>\n",
       "      <td>1</td>\n",
       "      <td>1</td>\n",
       "      <td>2</td>\n",
       "      <td>1452.0</td>\n",
       "      <td>0</td>\n",
       "      <td>0</td>\n",
       "      <td>0</td>\n",
       "      <td>1</td>\n",
       "      <td>0</td>\n",
       "      <td>0</td>\n",
       "      <td>0</td>\n",
       "      <td>0</td>\n",
       "    </tr>\n",
       "    <tr>\n",
       "      <th>TTTGTCAAGCTAAACA-1-2-1-1-1</th>\n",
       "      <td>unst</td>\n",
       "      <td>mouse</td>\n",
       "      <td>1</td>\n",
       "      <td>1</td>\n",
       "      <td>2</td>\n",
       "      <td>3356.0</td>\n",
       "      <td>0</td>\n",
       "      <td>0</td>\n",
       "      <td>0</td>\n",
       "      <td>1</td>\n",
       "      <td>0</td>\n",
       "      <td>0</td>\n",
       "      <td>0</td>\n",
       "      <td>0</td>\n",
       "    </tr>\n",
       "    <tr>\n",
       "      <th>TTTGTCACAGTTTACG-1-2-1-1-1</th>\n",
       "      <td>unst</td>\n",
       "      <td>mouse</td>\n",
       "      <td>1</td>\n",
       "      <td>1</td>\n",
       "      <td>2</td>\n",
       "      <td>4720.0</td>\n",
       "      <td>0</td>\n",
       "      <td>0</td>\n",
       "      <td>0</td>\n",
       "      <td>1</td>\n",
       "      <td>0</td>\n",
       "      <td>0</td>\n",
       "      <td>0</td>\n",
       "      <td>0</td>\n",
       "    </tr>\n",
       "    <tr>\n",
       "      <th>TTTGTCATCCGTTGTC-1-2-1-1-1</th>\n",
       "      <td>unst</td>\n",
       "      <td>mouse</td>\n",
       "      <td>1</td>\n",
       "      <td>1</td>\n",
       "      <td>2</td>\n",
       "      <td>2486.0</td>\n",
       "      <td>0</td>\n",
       "      <td>0</td>\n",
       "      <td>0</td>\n",
       "      <td>1</td>\n",
       "      <td>0</td>\n",
       "      <td>0</td>\n",
       "      <td>0</td>\n",
       "      <td>0</td>\n",
       "    </tr>\n",
       "  </tbody>\n",
       "</table>\n",
       "<p>62114 rows × 14 columns</p>\n",
       "</div>"
      ],
      "text/plain": [
       "                           condition species individual batch louvain  \\\n",
       "index                                                                   \n",
       "AAACCTGTCGGTCTAA-1-0-0-0-0      LPS6  rabbit          3     0       7   \n",
       "AAACCTGTCTGTCCGT-1-0-0-0-0      LPS6  rabbit          3     0       9   \n",
       "AAACGGGAGCCGATTT-1-0-0-0-0      LPS6  rabbit          3     0       3   \n",
       "AAACGGGAGGCGCTCT-1-0-0-0-0      LPS6  rabbit          3     0       3   \n",
       "AAACGGGCACAACGCC-1-0-0-0-0      LPS6  rabbit          3     0       9   \n",
       "...                              ...     ...        ...   ...     ...   \n",
       "TTTGGTTGTGGGTATG-1-2-1-1-1      unst   mouse          1     1       2   \n",
       "TTTGTCAAGCCCTAAT-1-2-1-1-1      unst   mouse          1     1       2   \n",
       "TTTGTCAAGCTAAACA-1-2-1-1-1      unst   mouse          1     1       2   \n",
       "TTTGTCACAGTTTACG-1-2-1-1-1      unst   mouse          1     1       2   \n",
       "TTTGTCATCCGTTGTC-1-2-1-1-1      unst   mouse          1     1       2   \n",
       "\n",
       "                            n_counts  INMF_2_kmeans_normalised  \\\n",
       "index                                                            \n",
       "AAACCTGTCGGTCTAA-1-0-0-0-0    1776.0                         1   \n",
       "AAACCTGTCTGTCCGT-1-0-0-0-0    2722.0                         1   \n",
       "AAACGGGAGCCGATTT-1-0-0-0-0    1396.0                         1   \n",
       "AAACGGGAGGCGCTCT-1-0-0-0-0    1591.0                         1   \n",
       "AAACGGGCACAACGCC-1-0-0-0-0    1341.0                         1   \n",
       "...                              ...                       ...   \n",
       "TTTGGTTGTGGGTATG-1-2-1-1-1    3070.0                         0   \n",
       "TTTGTCAAGCCCTAAT-1-2-1-1-1    1452.0                         0   \n",
       "TTTGTCAAGCTAAACA-1-2-1-1-1    3356.0                         0   \n",
       "TTTGTCACAGTTTACG-1-2-1-1-1    4720.0                         0   \n",
       "TTTGTCATCCGTTGTC-1-2-1-1-1    2486.0                         0   \n",
       "\n",
       "                            HPF_2_kmeans_normalised  PCA_2_kmeans_normalised  \\\n",
       "index                                                                          \n",
       "AAACCTGTCGGTCTAA-1-0-0-0-0                        0                        0   \n",
       "AAACCTGTCTGTCCGT-1-0-0-0-0                        0                        0   \n",
       "AAACGGGAGCCGATTT-1-0-0-0-0                        0                        0   \n",
       "AAACGGGAGGCGCTCT-1-0-0-0-0                        0                        0   \n",
       "AAACGGGCACAACGCC-1-0-0-0-0                        0                        0   \n",
       "...                                             ...                      ...   \n",
       "TTTGGTTGTGGGTATG-1-2-1-1-1                        0                        0   \n",
       "TTTGTCAAGCCCTAAT-1-2-1-1-1                        0                        0   \n",
       "TTTGTCAAGCTAAACA-1-2-1-1-1                        0                        0   \n",
       "TTTGTCACAGTTTACG-1-2-1-1-1                        0                        0   \n",
       "TTTGTCATCCGTTGTC-1-2-1-1-1                        0                        0   \n",
       "\n",
       "                            IHPF_2_kmeans_normalised  IHPF_kmeans_normalised  \\\n",
       "index                                                                          \n",
       "AAACCTGTCGGTCTAA-1-0-0-0-0                         0                       1   \n",
       "AAACCTGTCTGTCCGT-1-0-0-0-0                         0                       1   \n",
       "AAACGGGAGCCGATTT-1-0-0-0-0                         0                       1   \n",
       "AAACGGGAGGCGCTCT-1-0-0-0-0                         0                       1   \n",
       "AAACGGGCACAACGCC-1-0-0-0-0                         0                       1   \n",
       "...                                              ...                     ...   \n",
       "TTTGGTTGTGGGTATG-1-2-1-1-1                         1                       0   \n",
       "TTTGTCAAGCCCTAAT-1-2-1-1-1                         1                       0   \n",
       "TTTGTCAAGCTAAACA-1-2-1-1-1                         1                       0   \n",
       "TTTGTCACAGTTTACG-1-2-1-1-1                         1                       0   \n",
       "TTTGTCATCCGTTGTC-1-2-1-1-1                         1                       0   \n",
       "\n",
       "                            INMF_kmeans_normalised  HPF_kmeans_normalised  \\\n",
       "index                                                                       \n",
       "AAACCTGTCGGTCTAA-1-0-0-0-0                       1                      1   \n",
       "AAACCTGTCTGTCCGT-1-0-0-0-0                       1                      1   \n",
       "AAACGGGAGCCGATTT-1-0-0-0-0                       1                      1   \n",
       "AAACGGGAGGCGCTCT-1-0-0-0-0                       1                      1   \n",
       "AAACGGGCACAACGCC-1-0-0-0-0                       1                      1   \n",
       "...                                            ...                    ...   \n",
       "TTTGGTTGTGGGTATG-1-2-1-1-1                       0                      0   \n",
       "TTTGTCAAGCCCTAAT-1-2-1-1-1                       0                      0   \n",
       "TTTGTCAAGCTAAACA-1-2-1-1-1                       0                      0   \n",
       "TTTGTCACAGTTTACG-1-2-1-1-1                       0                      0   \n",
       "TTTGTCATCCGTTGTC-1-2-1-1-1                       0                      0   \n",
       "\n",
       "                            PCA_kmeans_normalised  \n",
       "index                                              \n",
       "AAACCTGTCGGTCTAA-1-0-0-0-0                      1  \n",
       "AAACCTGTCTGTCCGT-1-0-0-0-0                      1  \n",
       "AAACGGGAGCCGATTT-1-0-0-0-0                      1  \n",
       "AAACGGGAGGCGCTCT-1-0-0-0-0                      1  \n",
       "AAACGGGCACAACGCC-1-0-0-0-0                      1  \n",
       "...                                           ...  \n",
       "TTTGGTTGTGGGTATG-1-2-1-1-1                      0  \n",
       "TTTGTCAAGCCCTAAT-1-2-1-1-1                      0  \n",
       "TTTGTCAAGCTAAACA-1-2-1-1-1                      0  \n",
       "TTTGTCACAGTTTACG-1-2-1-1-1                      0  \n",
       "TTTGTCATCCGTTGTC-1-2-1-1-1                      0  \n",
       "\n",
       "[62114 rows x 14 columns]"
      ]
     },
     "execution_count": 329,
     "metadata": {},
     "output_type": "execute_result"
    }
   ],
   "source": [
    "adata.obs"
   ]
  },
  {
   "cell_type": "code",
   "execution_count": null,
   "metadata": {},
   "outputs": [],
   "source": []
  },
  {
   "cell_type": "code",
   "execution_count": null,
   "metadata": {},
   "outputs": [],
   "source": []
  },
  {
   "cell_type": "code",
   "execution_count": 17,
   "metadata": {},
   "outputs": [
    {
     "data": {
      "application/vnd.jupyter.widget-view+json": {
       "model_id": "674485fdbcaa42b9aa4870e819be99b0",
       "version_major": 2,
       "version_minor": 0
      },
      "text/plain": [
       "HBox(children=(IntProgress(value=1, bar_style='info', description='experimental_design.tsv', max=1, style=Prog…"
      ]
     },
     "metadata": {},
     "output_type": "display_data"
    },
    {
     "name": "stdout",
     "output_type": "stream",
     "text": [
      "\n"
     ]
    },
    {
     "data": {
      "application/vnd.jupyter.widget-view+json": {
       "model_id": "a0c9f195c8dd476f9253768e3ea40677",
       "version_major": 2,
       "version_minor": 0
      },
      "text/plain": [
       "HBox(children=(IntProgress(value=1, bar_style='info', description='expression_archive.zip', max=1, style=Progr…"
      ]
     },
     "metadata": {},
     "output_type": "display_data"
    },
    {
     "name": "stdout",
     "output_type": "stream",
     "text": [
      "\n"
     ]
    },
    {
     "name": "stderr",
     "output_type": "stream",
     "text": [
      "... storing 'Sample Characteristic[organism]' as categorical\n",
      "... storing 'Sample Characteristic Ontology Term[organism]' as categorical\n",
      "... storing 'Sample Characteristic[strain]' as categorical\n",
      "... storing 'Sample Characteristic Ontology Term[strain]' as categorical\n",
      "... storing 'Sample Characteristic[age]' as categorical\n",
      "... storing 'Sample Characteristic[genotype]' as categorical\n",
      "... storing 'Sample Characteristic[organism part]' as categorical\n",
      "... storing 'Sample Characteristic[inferred cell subtype]' as categorical\n",
      "... storing 'Sample Characteristic[inferred non-neural cell type]' as categorical\n",
      "... storing 'Sample Characteristic Ontology Term[inferred non-neural cell type]' as categorical\n",
      "... storing 'Sample Characteristic[inferred identity]' as categorical\n",
      "... storing 'Factor Value[age]' as categorical\n",
      "... storing 'Factor Value[inferred cell type - ontology labels]' as categorical\n",
      "... storing 'Factor Value[inferred cell type - authors labels]' as categorical\n",
      "... storing 'Factor Value Ontology Term[inferred cell type - authors labels]' as categorical\n"
     ]
    }
   ],
   "source": [
    "adata = sc.datasets.ebi_expression_atlas(\"E-GEOD-94641\")"
   ]
  },
  {
   "cell_type": "code",
   "execution_count": 24,
   "metadata": {},
   "outputs": [
    {
     "data": {
      "text/plain": [
       "immature neuron                         133\n",
       "proliferating neural progenitor cell     74\n",
       "nan                                      18\n",
       "Name: Factor Value[inferred cell type - ontology labels], dtype: int64"
      ]
     },
     "execution_count": 24,
     "metadata": {},
     "output_type": "execute_result"
    }
   ],
   "source": [
    "adata.obs['Factor Value[inferred cell type - ontology labels]'].value_counts()"
   ]
  },
  {
   "cell_type": "code",
   "execution_count": 13,
   "metadata": {},
   "outputs": [
    {
     "data": {
      "text/plain": [
       "olfactory receptor cell                      20313\n",
       "nan                                          20208\n",
       "sustentacular cell                            2593\n",
       "basal proper cell of olfactory epithelium      993\n",
       "immediate neural precursor cell                809\n",
       "globose cell of olfactory epithelium           686\n",
       "leukocyte                                      271\n",
       "microvillous olfactory receptor neuron         237\n",
       "secretory cell                                 213\n",
       "Bowman's gland cell                            209\n",
       "ciliated epithelial cell                       203\n",
       "respiratory basal cell                         198\n",
       "smooth muscle cell                              41\n",
       "Name: Factor Value[inferred cell type - ontology labels], dtype: int64"
      ]
     },
     "execution_count": 13,
     "metadata": {},
     "output_type": "execute_result"
    }
   ],
   "source": [
    "adata.obs['Factor Value[inferred cell type - ontology labels]'].value_counts()"
   ]
  },
  {
   "cell_type": "code",
   "execution_count": 15,
   "metadata": {},
   "outputs": [
    {
     "data": {
      "text/plain": [
       "olfactory segment of nasal mucosa    46974\n",
       "Name: Sample Characteristic[organism part], dtype: int64"
      ]
     },
     "execution_count": 15,
     "metadata": {},
     "output_type": "execute_result"
    }
   ],
   "source": [
    "adata.obs['Sample Characteristic[organism part]'].value_counts()"
   ]
  },
  {
   "cell_type": "code",
   "execution_count": 16,
   "metadata": {},
   "outputs": [
    {
     "data": {
      "text/html": [
       "<div>\n",
       "<style scoped>\n",
       "    .dataframe tbody tr th:only-of-type {\n",
       "        vertical-align: middle;\n",
       "    }\n",
       "\n",
       "    .dataframe tbody tr th {\n",
       "        vertical-align: top;\n",
       "    }\n",
       "\n",
       "    .dataframe thead th {\n",
       "        text-align: right;\n",
       "    }\n",
       "</style>\n",
       "<table border=\"1\" class=\"dataframe\">\n",
       "  <thead>\n",
       "    <tr style=\"text-align: right;\">\n",
       "      <th></th>\n",
       "      <th>Sample Characteristic[organism]</th>\n",
       "      <th>Sample Characteristic Ontology Term[organism]</th>\n",
       "      <th>Sample Characteristic[strain]</th>\n",
       "      <th>Sample Characteristic Ontology Term[strain]</th>\n",
       "      <th>Sample Characteristic[developmental stage]</th>\n",
       "      <th>Sample Characteristic Ontology Term[developmental stage]</th>\n",
       "      <th>Sample Characteristic[age]</th>\n",
       "      <th>Sample Characteristic Ontology Term[age]</th>\n",
       "      <th>Sample Characteristic[sex]</th>\n",
       "      <th>Sample Characteristic Ontology Term[sex]</th>\n",
       "      <th>Sample Characteristic[organism part]</th>\n",
       "      <th>Sample Characteristic Ontology Term[organism part]</th>\n",
       "      <th>Factor Value[replicate]</th>\n",
       "      <th>Factor Value Ontology Term[replicate]</th>\n",
       "      <th>Factor Value[inferred cell type - ontology labels]</th>\n",
       "      <th>Factor Value Ontology Term[inferred cell type - ontology labels]</th>\n",
       "      <th>Factor Value[inferred cell type - authors labels]</th>\n",
       "      <th>Factor Value Ontology Term[inferred cell type - authors labels]</th>\n",
       "    </tr>\n",
       "  </thead>\n",
       "  <tbody>\n",
       "    <tr>\n",
       "      <th>SRR11862674-AAAAAAATGCGC</th>\n",
       "      <td>Mus musculus</td>\n",
       "      <td>http://purl.obolibrary.org/obo/NCBITaxon_10090</td>\n",
       "      <td>C57BL/6</td>\n",
       "      <td>http://www.ebi.ac.uk/efo/EFO_0004472</td>\n",
       "      <td>adult</td>\n",
       "      <td>http://www.ebi.ac.uk/efo/EFO_0001272</td>\n",
       "      <td>8 to 12 week</td>\n",
       "      <td>NaN</td>\n",
       "      <td>male</td>\n",
       "      <td>http://purl.obolibrary.org/obo/PATO_0000384</td>\n",
       "      <td>olfactory segment of nasal mucosa</td>\n",
       "      <td>NaN</td>\n",
       "      <td>1</td>\n",
       "      <td>NaN</td>\n",
       "      <td>sustentacular cell</td>\n",
       "      <td>nan</td>\n",
       "      <td>ventral sustentacular cell</td>\n",
       "      <td>nan</td>\n",
       "    </tr>\n",
       "    <tr>\n",
       "      <th>SRR11862674-AAAAACTGCACT</th>\n",
       "      <td>Mus musculus</td>\n",
       "      <td>http://purl.obolibrary.org/obo/NCBITaxon_10090</td>\n",
       "      <td>C57BL/6</td>\n",
       "      <td>http://www.ebi.ac.uk/efo/EFO_0004472</td>\n",
       "      <td>adult</td>\n",
       "      <td>http://www.ebi.ac.uk/efo/EFO_0001272</td>\n",
       "      <td>8 to 12 week</td>\n",
       "      <td>NaN</td>\n",
       "      <td>male</td>\n",
       "      <td>http://purl.obolibrary.org/obo/PATO_0000384</td>\n",
       "      <td>olfactory segment of nasal mucosa</td>\n",
       "      <td>NaN</td>\n",
       "      <td>1</td>\n",
       "      <td>NaN</td>\n",
       "      <td>nan</td>\n",
       "      <td>nan</td>\n",
       "      <td>nan</td>\n",
       "      <td>nan</td>\n",
       "    </tr>\n",
       "    <tr>\n",
       "      <th>SRR11862674-AAAAAGTGAGCT</th>\n",
       "      <td>Mus musculus</td>\n",
       "      <td>http://purl.obolibrary.org/obo/NCBITaxon_10090</td>\n",
       "      <td>C57BL/6</td>\n",
       "      <td>http://www.ebi.ac.uk/efo/EFO_0004472</td>\n",
       "      <td>adult</td>\n",
       "      <td>http://www.ebi.ac.uk/efo/EFO_0001272</td>\n",
       "      <td>8 to 12 week</td>\n",
       "      <td>NaN</td>\n",
       "      <td>male</td>\n",
       "      <td>http://purl.obolibrary.org/obo/PATO_0000384</td>\n",
       "      <td>olfactory segment of nasal mucosa</td>\n",
       "      <td>NaN</td>\n",
       "      <td>1</td>\n",
       "      <td>NaN</td>\n",
       "      <td>olfactory receptor cell</td>\n",
       "      <td>http://purl.obolibrary.org/obo/CL_0000207</td>\n",
       "      <td>immature olfactory sensory neuron</td>\n",
       "      <td>nan</td>\n",
       "    </tr>\n",
       "    <tr>\n",
       "      <th>SRR11862674-AAAAATTCAACC</th>\n",
       "      <td>Mus musculus</td>\n",
       "      <td>http://purl.obolibrary.org/obo/NCBITaxon_10090</td>\n",
       "      <td>C57BL/6</td>\n",
       "      <td>http://www.ebi.ac.uk/efo/EFO_0004472</td>\n",
       "      <td>adult</td>\n",
       "      <td>http://www.ebi.ac.uk/efo/EFO_0001272</td>\n",
       "      <td>8 to 12 week</td>\n",
       "      <td>NaN</td>\n",
       "      <td>male</td>\n",
       "      <td>http://purl.obolibrary.org/obo/PATO_0000384</td>\n",
       "      <td>olfactory segment of nasal mucosa</td>\n",
       "      <td>NaN</td>\n",
       "      <td>1</td>\n",
       "      <td>NaN</td>\n",
       "      <td>nan</td>\n",
       "      <td>nan</td>\n",
       "      <td>nan</td>\n",
       "      <td>nan</td>\n",
       "    </tr>\n",
       "    <tr>\n",
       "      <th>SRR11862674-AAAACAGAGGTC</th>\n",
       "      <td>Mus musculus</td>\n",
       "      <td>http://purl.obolibrary.org/obo/NCBITaxon_10090</td>\n",
       "      <td>C57BL/6</td>\n",
       "      <td>http://www.ebi.ac.uk/efo/EFO_0004472</td>\n",
       "      <td>adult</td>\n",
       "      <td>http://www.ebi.ac.uk/efo/EFO_0001272</td>\n",
       "      <td>8 to 12 week</td>\n",
       "      <td>NaN</td>\n",
       "      <td>male</td>\n",
       "      <td>http://purl.obolibrary.org/obo/PATO_0000384</td>\n",
       "      <td>olfactory segment of nasal mucosa</td>\n",
       "      <td>NaN</td>\n",
       "      <td>1</td>\n",
       "      <td>NaN</td>\n",
       "      <td>olfactory receptor cell</td>\n",
       "      <td>http://purl.obolibrary.org/obo/CL_0000207</td>\n",
       "      <td>mature olfactory sensory neuron</td>\n",
       "      <td>nan</td>\n",
       "    </tr>\n",
       "    <tr>\n",
       "      <th>...</th>\n",
       "      <td>...</td>\n",
       "      <td>...</td>\n",
       "      <td>...</td>\n",
       "      <td>...</td>\n",
       "      <td>...</td>\n",
       "      <td>...</td>\n",
       "      <td>...</td>\n",
       "      <td>...</td>\n",
       "      <td>...</td>\n",
       "      <td>...</td>\n",
       "      <td>...</td>\n",
       "      <td>...</td>\n",
       "      <td>...</td>\n",
       "      <td>...</td>\n",
       "      <td>...</td>\n",
       "      <td>...</td>\n",
       "      <td>...</td>\n",
       "      <td>...</td>\n",
       "    </tr>\n",
       "    <tr>\n",
       "      <th>SRR11862681-TTTTGCTAGTCC</th>\n",
       "      <td>Mus musculus</td>\n",
       "      <td>http://purl.obolibrary.org/obo/NCBITaxon_10090</td>\n",
       "      <td>C57BL/6</td>\n",
       "      <td>http://www.ebi.ac.uk/efo/EFO_0004472</td>\n",
       "      <td>adult</td>\n",
       "      <td>http://www.ebi.ac.uk/efo/EFO_0001272</td>\n",
       "      <td>8 to 12 week</td>\n",
       "      <td>NaN</td>\n",
       "      <td>male</td>\n",
       "      <td>http://purl.obolibrary.org/obo/PATO_0000384</td>\n",
       "      <td>olfactory segment of nasal mucosa</td>\n",
       "      <td>NaN</td>\n",
       "      <td>8</td>\n",
       "      <td>NaN</td>\n",
       "      <td>nan</td>\n",
       "      <td>nan</td>\n",
       "      <td>nan</td>\n",
       "      <td>nan</td>\n",
       "    </tr>\n",
       "    <tr>\n",
       "      <th>SRR11862681-TTTTGGATCACG</th>\n",
       "      <td>Mus musculus</td>\n",
       "      <td>http://purl.obolibrary.org/obo/NCBITaxon_10090</td>\n",
       "      <td>C57BL/6</td>\n",
       "      <td>http://www.ebi.ac.uk/efo/EFO_0004472</td>\n",
       "      <td>adult</td>\n",
       "      <td>http://www.ebi.ac.uk/efo/EFO_0001272</td>\n",
       "      <td>8 to 12 week</td>\n",
       "      <td>NaN</td>\n",
       "      <td>male</td>\n",
       "      <td>http://purl.obolibrary.org/obo/PATO_0000384</td>\n",
       "      <td>olfactory segment of nasal mucosa</td>\n",
       "      <td>NaN</td>\n",
       "      <td>8</td>\n",
       "      <td>NaN</td>\n",
       "      <td>nan</td>\n",
       "      <td>nan</td>\n",
       "      <td>nan</td>\n",
       "      <td>nan</td>\n",
       "    </tr>\n",
       "    <tr>\n",
       "      <th>SRR11862681-TTTTTGCGATCC</th>\n",
       "      <td>Mus musculus</td>\n",
       "      <td>http://purl.obolibrary.org/obo/NCBITaxon_10090</td>\n",
       "      <td>C57BL/6</td>\n",
       "      <td>http://www.ebi.ac.uk/efo/EFO_0004472</td>\n",
       "      <td>adult</td>\n",
       "      <td>http://www.ebi.ac.uk/efo/EFO_0001272</td>\n",
       "      <td>8 to 12 week</td>\n",
       "      <td>NaN</td>\n",
       "      <td>male</td>\n",
       "      <td>http://purl.obolibrary.org/obo/PATO_0000384</td>\n",
       "      <td>olfactory segment of nasal mucosa</td>\n",
       "      <td>NaN</td>\n",
       "      <td>8</td>\n",
       "      <td>NaN</td>\n",
       "      <td>sustentacular cell</td>\n",
       "      <td>nan</td>\n",
       "      <td>ventral sustentacular cell</td>\n",
       "      <td>nan</td>\n",
       "    </tr>\n",
       "    <tr>\n",
       "      <th>SRR11862681-TTTTTTTGATAA</th>\n",
       "      <td>Mus musculus</td>\n",
       "      <td>http://purl.obolibrary.org/obo/NCBITaxon_10090</td>\n",
       "      <td>C57BL/6</td>\n",
       "      <td>http://www.ebi.ac.uk/efo/EFO_0004472</td>\n",
       "      <td>adult</td>\n",
       "      <td>http://www.ebi.ac.uk/efo/EFO_0001272</td>\n",
       "      <td>8 to 12 week</td>\n",
       "      <td>NaN</td>\n",
       "      <td>male</td>\n",
       "      <td>http://purl.obolibrary.org/obo/PATO_0000384</td>\n",
       "      <td>olfactory segment of nasal mucosa</td>\n",
       "      <td>NaN</td>\n",
       "      <td>8</td>\n",
       "      <td>NaN</td>\n",
       "      <td>olfactory receptor cell</td>\n",
       "      <td>http://purl.obolibrary.org/obo/CL_0000207</td>\n",
       "      <td>mature olfactory sensory neuron</td>\n",
       "      <td>nan</td>\n",
       "    </tr>\n",
       "    <tr>\n",
       "      <th>SRR11862681-TTTTTTTTGCTA</th>\n",
       "      <td>Mus musculus</td>\n",
       "      <td>http://purl.obolibrary.org/obo/NCBITaxon_10090</td>\n",
       "      <td>C57BL/6</td>\n",
       "      <td>http://www.ebi.ac.uk/efo/EFO_0004472</td>\n",
       "      <td>adult</td>\n",
       "      <td>http://www.ebi.ac.uk/efo/EFO_0001272</td>\n",
       "      <td>8 to 12 week</td>\n",
       "      <td>NaN</td>\n",
       "      <td>male</td>\n",
       "      <td>http://purl.obolibrary.org/obo/PATO_0000384</td>\n",
       "      <td>olfactory segment of nasal mucosa</td>\n",
       "      <td>NaN</td>\n",
       "      <td>8</td>\n",
       "      <td>NaN</td>\n",
       "      <td>sustentacular cell</td>\n",
       "      <td>nan</td>\n",
       "      <td>ventral sustentacular cell</td>\n",
       "      <td>nan</td>\n",
       "    </tr>\n",
       "  </tbody>\n",
       "</table>\n",
       "<p>46974 rows × 18 columns</p>\n",
       "</div>"
      ],
      "text/plain": [
       "                         Sample Characteristic[organism]  \\\n",
       "SRR11862674-AAAAAAATGCGC                    Mus musculus   \n",
       "SRR11862674-AAAAACTGCACT                    Mus musculus   \n",
       "SRR11862674-AAAAAGTGAGCT                    Mus musculus   \n",
       "SRR11862674-AAAAATTCAACC                    Mus musculus   \n",
       "SRR11862674-AAAACAGAGGTC                    Mus musculus   \n",
       "...                                                  ...   \n",
       "SRR11862681-TTTTGCTAGTCC                    Mus musculus   \n",
       "SRR11862681-TTTTGGATCACG                    Mus musculus   \n",
       "SRR11862681-TTTTTGCGATCC                    Mus musculus   \n",
       "SRR11862681-TTTTTTTGATAA                    Mus musculus   \n",
       "SRR11862681-TTTTTTTTGCTA                    Mus musculus   \n",
       "\n",
       "                           Sample Characteristic Ontology Term[organism]  \\\n",
       "SRR11862674-AAAAAAATGCGC  http://purl.obolibrary.org/obo/NCBITaxon_10090   \n",
       "SRR11862674-AAAAACTGCACT  http://purl.obolibrary.org/obo/NCBITaxon_10090   \n",
       "SRR11862674-AAAAAGTGAGCT  http://purl.obolibrary.org/obo/NCBITaxon_10090   \n",
       "SRR11862674-AAAAATTCAACC  http://purl.obolibrary.org/obo/NCBITaxon_10090   \n",
       "SRR11862674-AAAACAGAGGTC  http://purl.obolibrary.org/obo/NCBITaxon_10090   \n",
       "...                                                                  ...   \n",
       "SRR11862681-TTTTGCTAGTCC  http://purl.obolibrary.org/obo/NCBITaxon_10090   \n",
       "SRR11862681-TTTTGGATCACG  http://purl.obolibrary.org/obo/NCBITaxon_10090   \n",
       "SRR11862681-TTTTTGCGATCC  http://purl.obolibrary.org/obo/NCBITaxon_10090   \n",
       "SRR11862681-TTTTTTTGATAA  http://purl.obolibrary.org/obo/NCBITaxon_10090   \n",
       "SRR11862681-TTTTTTTTGCTA  http://purl.obolibrary.org/obo/NCBITaxon_10090   \n",
       "\n",
       "                         Sample Characteristic[strain]  \\\n",
       "SRR11862674-AAAAAAATGCGC                       C57BL/6   \n",
       "SRR11862674-AAAAACTGCACT                       C57BL/6   \n",
       "SRR11862674-AAAAAGTGAGCT                       C57BL/6   \n",
       "SRR11862674-AAAAATTCAACC                       C57BL/6   \n",
       "SRR11862674-AAAACAGAGGTC                       C57BL/6   \n",
       "...                                                ...   \n",
       "SRR11862681-TTTTGCTAGTCC                       C57BL/6   \n",
       "SRR11862681-TTTTGGATCACG                       C57BL/6   \n",
       "SRR11862681-TTTTTGCGATCC                       C57BL/6   \n",
       "SRR11862681-TTTTTTTGATAA                       C57BL/6   \n",
       "SRR11862681-TTTTTTTTGCTA                       C57BL/6   \n",
       "\n",
       "                         Sample Characteristic Ontology Term[strain]  \\\n",
       "SRR11862674-AAAAAAATGCGC        http://www.ebi.ac.uk/efo/EFO_0004472   \n",
       "SRR11862674-AAAAACTGCACT        http://www.ebi.ac.uk/efo/EFO_0004472   \n",
       "SRR11862674-AAAAAGTGAGCT        http://www.ebi.ac.uk/efo/EFO_0004472   \n",
       "SRR11862674-AAAAATTCAACC        http://www.ebi.ac.uk/efo/EFO_0004472   \n",
       "SRR11862674-AAAACAGAGGTC        http://www.ebi.ac.uk/efo/EFO_0004472   \n",
       "...                                                              ...   \n",
       "SRR11862681-TTTTGCTAGTCC        http://www.ebi.ac.uk/efo/EFO_0004472   \n",
       "SRR11862681-TTTTGGATCACG        http://www.ebi.ac.uk/efo/EFO_0004472   \n",
       "SRR11862681-TTTTTGCGATCC        http://www.ebi.ac.uk/efo/EFO_0004472   \n",
       "SRR11862681-TTTTTTTGATAA        http://www.ebi.ac.uk/efo/EFO_0004472   \n",
       "SRR11862681-TTTTTTTTGCTA        http://www.ebi.ac.uk/efo/EFO_0004472   \n",
       "\n",
       "                         Sample Characteristic[developmental stage]  \\\n",
       "SRR11862674-AAAAAAATGCGC                                      adult   \n",
       "SRR11862674-AAAAACTGCACT                                      adult   \n",
       "SRR11862674-AAAAAGTGAGCT                                      adult   \n",
       "SRR11862674-AAAAATTCAACC                                      adult   \n",
       "SRR11862674-AAAACAGAGGTC                                      adult   \n",
       "...                                                             ...   \n",
       "SRR11862681-TTTTGCTAGTCC                                      adult   \n",
       "SRR11862681-TTTTGGATCACG                                      adult   \n",
       "SRR11862681-TTTTTGCGATCC                                      adult   \n",
       "SRR11862681-TTTTTTTGATAA                                      adult   \n",
       "SRR11862681-TTTTTTTTGCTA                                      adult   \n",
       "\n",
       "                         Sample Characteristic Ontology Term[developmental stage]  \\\n",
       "SRR11862674-AAAAAAATGCGC               http://www.ebi.ac.uk/efo/EFO_0001272         \n",
       "SRR11862674-AAAAACTGCACT               http://www.ebi.ac.uk/efo/EFO_0001272         \n",
       "SRR11862674-AAAAAGTGAGCT               http://www.ebi.ac.uk/efo/EFO_0001272         \n",
       "SRR11862674-AAAAATTCAACC               http://www.ebi.ac.uk/efo/EFO_0001272         \n",
       "SRR11862674-AAAACAGAGGTC               http://www.ebi.ac.uk/efo/EFO_0001272         \n",
       "...                                                                     ...         \n",
       "SRR11862681-TTTTGCTAGTCC               http://www.ebi.ac.uk/efo/EFO_0001272         \n",
       "SRR11862681-TTTTGGATCACG               http://www.ebi.ac.uk/efo/EFO_0001272         \n",
       "SRR11862681-TTTTTGCGATCC               http://www.ebi.ac.uk/efo/EFO_0001272         \n",
       "SRR11862681-TTTTTTTGATAA               http://www.ebi.ac.uk/efo/EFO_0001272         \n",
       "SRR11862681-TTTTTTTTGCTA               http://www.ebi.ac.uk/efo/EFO_0001272         \n",
       "\n",
       "                         Sample Characteristic[age]  \\\n",
       "SRR11862674-AAAAAAATGCGC               8 to 12 week   \n",
       "SRR11862674-AAAAACTGCACT               8 to 12 week   \n",
       "SRR11862674-AAAAAGTGAGCT               8 to 12 week   \n",
       "SRR11862674-AAAAATTCAACC               8 to 12 week   \n",
       "SRR11862674-AAAACAGAGGTC               8 to 12 week   \n",
       "...                                             ...   \n",
       "SRR11862681-TTTTGCTAGTCC               8 to 12 week   \n",
       "SRR11862681-TTTTGGATCACG               8 to 12 week   \n",
       "SRR11862681-TTTTTGCGATCC               8 to 12 week   \n",
       "SRR11862681-TTTTTTTGATAA               8 to 12 week   \n",
       "SRR11862681-TTTTTTTTGCTA               8 to 12 week   \n",
       "\n",
       "                          Sample Characteristic Ontology Term[age]  \\\n",
       "SRR11862674-AAAAAAATGCGC                                       NaN   \n",
       "SRR11862674-AAAAACTGCACT                                       NaN   \n",
       "SRR11862674-AAAAAGTGAGCT                                       NaN   \n",
       "SRR11862674-AAAAATTCAACC                                       NaN   \n",
       "SRR11862674-AAAACAGAGGTC                                       NaN   \n",
       "...                                                            ...   \n",
       "SRR11862681-TTTTGCTAGTCC                                       NaN   \n",
       "SRR11862681-TTTTGGATCACG                                       NaN   \n",
       "SRR11862681-TTTTTGCGATCC                                       NaN   \n",
       "SRR11862681-TTTTTTTGATAA                                       NaN   \n",
       "SRR11862681-TTTTTTTTGCTA                                       NaN   \n",
       "\n",
       "                         Sample Characteristic[sex]  \\\n",
       "SRR11862674-AAAAAAATGCGC                       male   \n",
       "SRR11862674-AAAAACTGCACT                       male   \n",
       "SRR11862674-AAAAAGTGAGCT                       male   \n",
       "SRR11862674-AAAAATTCAACC                       male   \n",
       "SRR11862674-AAAACAGAGGTC                       male   \n",
       "...                                             ...   \n",
       "SRR11862681-TTTTGCTAGTCC                       male   \n",
       "SRR11862681-TTTTGGATCACG                       male   \n",
       "SRR11862681-TTTTTGCGATCC                       male   \n",
       "SRR11862681-TTTTTTTGATAA                       male   \n",
       "SRR11862681-TTTTTTTTGCTA                       male   \n",
       "\n",
       "                             Sample Characteristic Ontology Term[sex]  \\\n",
       "SRR11862674-AAAAAAATGCGC  http://purl.obolibrary.org/obo/PATO_0000384   \n",
       "SRR11862674-AAAAACTGCACT  http://purl.obolibrary.org/obo/PATO_0000384   \n",
       "SRR11862674-AAAAAGTGAGCT  http://purl.obolibrary.org/obo/PATO_0000384   \n",
       "SRR11862674-AAAAATTCAACC  http://purl.obolibrary.org/obo/PATO_0000384   \n",
       "SRR11862674-AAAACAGAGGTC  http://purl.obolibrary.org/obo/PATO_0000384   \n",
       "...                                                               ...   \n",
       "SRR11862681-TTTTGCTAGTCC  http://purl.obolibrary.org/obo/PATO_0000384   \n",
       "SRR11862681-TTTTGGATCACG  http://purl.obolibrary.org/obo/PATO_0000384   \n",
       "SRR11862681-TTTTTGCGATCC  http://purl.obolibrary.org/obo/PATO_0000384   \n",
       "SRR11862681-TTTTTTTGATAA  http://purl.obolibrary.org/obo/PATO_0000384   \n",
       "SRR11862681-TTTTTTTTGCTA  http://purl.obolibrary.org/obo/PATO_0000384   \n",
       "\n",
       "                         Sample Characteristic[organism part]  \\\n",
       "SRR11862674-AAAAAAATGCGC    olfactory segment of nasal mucosa   \n",
       "SRR11862674-AAAAACTGCACT    olfactory segment of nasal mucosa   \n",
       "SRR11862674-AAAAAGTGAGCT    olfactory segment of nasal mucosa   \n",
       "SRR11862674-AAAAATTCAACC    olfactory segment of nasal mucosa   \n",
       "SRR11862674-AAAACAGAGGTC    olfactory segment of nasal mucosa   \n",
       "...                                                       ...   \n",
       "SRR11862681-TTTTGCTAGTCC    olfactory segment of nasal mucosa   \n",
       "SRR11862681-TTTTGGATCACG    olfactory segment of nasal mucosa   \n",
       "SRR11862681-TTTTTGCGATCC    olfactory segment of nasal mucosa   \n",
       "SRR11862681-TTTTTTTGATAA    olfactory segment of nasal mucosa   \n",
       "SRR11862681-TTTTTTTTGCTA    olfactory segment of nasal mucosa   \n",
       "\n",
       "                          Sample Characteristic Ontology Term[organism part]  \\\n",
       "SRR11862674-AAAAAAATGCGC                                                NaN    \n",
       "SRR11862674-AAAAACTGCACT                                                NaN    \n",
       "SRR11862674-AAAAAGTGAGCT                                                NaN    \n",
       "SRR11862674-AAAAATTCAACC                                                NaN    \n",
       "SRR11862674-AAAACAGAGGTC                                                NaN    \n",
       "...                                                                     ...    \n",
       "SRR11862681-TTTTGCTAGTCC                                                NaN    \n",
       "SRR11862681-TTTTGGATCACG                                                NaN    \n",
       "SRR11862681-TTTTTGCGATCC                                                NaN    \n",
       "SRR11862681-TTTTTTTGATAA                                                NaN    \n",
       "SRR11862681-TTTTTTTTGCTA                                                NaN    \n",
       "\n",
       "                          Factor Value[replicate]  \\\n",
       "SRR11862674-AAAAAAATGCGC                        1   \n",
       "SRR11862674-AAAAACTGCACT                        1   \n",
       "SRR11862674-AAAAAGTGAGCT                        1   \n",
       "SRR11862674-AAAAATTCAACC                        1   \n",
       "SRR11862674-AAAACAGAGGTC                        1   \n",
       "...                                           ...   \n",
       "SRR11862681-TTTTGCTAGTCC                        8   \n",
       "SRR11862681-TTTTGGATCACG                        8   \n",
       "SRR11862681-TTTTTGCGATCC                        8   \n",
       "SRR11862681-TTTTTTTGATAA                        8   \n",
       "SRR11862681-TTTTTTTTGCTA                        8   \n",
       "\n",
       "                          Factor Value Ontology Term[replicate]  \\\n",
       "SRR11862674-AAAAAAATGCGC                                    NaN   \n",
       "SRR11862674-AAAAACTGCACT                                    NaN   \n",
       "SRR11862674-AAAAAGTGAGCT                                    NaN   \n",
       "SRR11862674-AAAAATTCAACC                                    NaN   \n",
       "SRR11862674-AAAACAGAGGTC                                    NaN   \n",
       "...                                                         ...   \n",
       "SRR11862681-TTTTGCTAGTCC                                    NaN   \n",
       "SRR11862681-TTTTGGATCACG                                    NaN   \n",
       "SRR11862681-TTTTTGCGATCC                                    NaN   \n",
       "SRR11862681-TTTTTTTGATAA                                    NaN   \n",
       "SRR11862681-TTTTTTTTGCTA                                    NaN   \n",
       "\n",
       "                         Factor Value[inferred cell type - ontology labels]  \\\n",
       "SRR11862674-AAAAAAATGCGC                                 sustentacular cell   \n",
       "SRR11862674-AAAAACTGCACT                                                nan   \n",
       "SRR11862674-AAAAAGTGAGCT                            olfactory receptor cell   \n",
       "SRR11862674-AAAAATTCAACC                                                nan   \n",
       "SRR11862674-AAAACAGAGGTC                            olfactory receptor cell   \n",
       "...                                                                     ...   \n",
       "SRR11862681-TTTTGCTAGTCC                                                nan   \n",
       "SRR11862681-TTTTGGATCACG                                                nan   \n",
       "SRR11862681-TTTTTGCGATCC                                 sustentacular cell   \n",
       "SRR11862681-TTTTTTTGATAA                            olfactory receptor cell   \n",
       "SRR11862681-TTTTTTTTGCTA                                 sustentacular cell   \n",
       "\n",
       "                         Factor Value Ontology Term[inferred cell type - ontology labels]  \\\n",
       "SRR11862674-AAAAAAATGCGC                                                nan                 \n",
       "SRR11862674-AAAAACTGCACT                                                nan                 \n",
       "SRR11862674-AAAAAGTGAGCT          http://purl.obolibrary.org/obo/CL_0000207                 \n",
       "SRR11862674-AAAAATTCAACC                                                nan                 \n",
       "SRR11862674-AAAACAGAGGTC          http://purl.obolibrary.org/obo/CL_0000207                 \n",
       "...                                                                     ...                 \n",
       "SRR11862681-TTTTGCTAGTCC                                                nan                 \n",
       "SRR11862681-TTTTGGATCACG                                                nan                 \n",
       "SRR11862681-TTTTTGCGATCC                                                nan                 \n",
       "SRR11862681-TTTTTTTGATAA          http://purl.obolibrary.org/obo/CL_0000207                 \n",
       "SRR11862681-TTTTTTTTGCTA                                                nan                 \n",
       "\n",
       "                         Factor Value[inferred cell type - authors labels]  \\\n",
       "SRR11862674-AAAAAAATGCGC                        ventral sustentacular cell   \n",
       "SRR11862674-AAAAACTGCACT                                               nan   \n",
       "SRR11862674-AAAAAGTGAGCT                 immature olfactory sensory neuron   \n",
       "SRR11862674-AAAAATTCAACC                                               nan   \n",
       "SRR11862674-AAAACAGAGGTC                   mature olfactory sensory neuron   \n",
       "...                                                                    ...   \n",
       "SRR11862681-TTTTGCTAGTCC                                               nan   \n",
       "SRR11862681-TTTTGGATCACG                                               nan   \n",
       "SRR11862681-TTTTTGCGATCC                        ventral sustentacular cell   \n",
       "SRR11862681-TTTTTTTGATAA                   mature olfactory sensory neuron   \n",
       "SRR11862681-TTTTTTTTGCTA                        ventral sustentacular cell   \n",
       "\n",
       "                         Factor Value Ontology Term[inferred cell type - authors labels]  \n",
       "SRR11862674-AAAAAAATGCGC                                                nan               \n",
       "SRR11862674-AAAAACTGCACT                                                nan               \n",
       "SRR11862674-AAAAAGTGAGCT                                                nan               \n",
       "SRR11862674-AAAAATTCAACC                                                nan               \n",
       "SRR11862674-AAAACAGAGGTC                                                nan               \n",
       "...                                                                     ...               \n",
       "SRR11862681-TTTTGCTAGTCC                                                nan               \n",
       "SRR11862681-TTTTGGATCACG                                                nan               \n",
       "SRR11862681-TTTTTGCGATCC                                                nan               \n",
       "SRR11862681-TTTTTTTGATAA                                                nan               \n",
       "SRR11862681-TTTTTTTTGCTA                                                nan               \n",
       "\n",
       "[46974 rows x 18 columns]"
      ]
     },
     "execution_count": 16,
     "metadata": {},
     "output_type": "execute_result"
    }
   ],
   "source": [
    "adata.obs"
   ]
  },
  {
   "cell_type": "code",
   "execution_count": null,
   "metadata": {},
   "outputs": [],
   "source": []
  },
  {
   "cell_type": "code",
   "execution_count": null,
   "metadata": {},
   "outputs": [],
   "source": []
  },
  {
   "cell_type": "code",
   "execution_count": null,
   "metadata": {},
   "outputs": [],
   "source": []
  },
  {
   "cell_type": "code",
   "execution_count": null,
   "metadata": {},
   "outputs": [],
   "source": []
  },
  {
   "cell_type": "code",
   "execution_count": null,
   "metadata": {},
   "outputs": [],
   "source": []
  },
  {
   "cell_type": "code",
   "execution_count": null,
   "metadata": {},
   "outputs": [],
   "source": []
  },
  {
   "cell_type": "code",
   "execution_count": 308,
   "metadata": {},
   "outputs": [],
   "source": [
    "split_idx = list()\n",
    "for i,df in adata.obs.groupby('species'):\n",
    "    df_ints = [int(x) for x in df.index]\n",
    "    split_idx.append(min(df_ints))\n",
    "split_idx.append(adata.obs.shape[0])\n",
    "split_idx = sorted(split_idx)\n",
    "split_starts = split_idx[:-1]\n",
    "split_ends = split_idx[1:]"
   ]
  },
  {
   "cell_type": "code",
   "execution_count": 309,
   "metadata": {},
   "outputs": [],
   "source": [
    "Xlist = list()\n",
    "no_batches = len(adata.obs['species'].unique())\n",
    "for i in range(0,no_batches):\n",
    "    Xlist.append(coo_matrix(adata.X[split_starts[i]:split_ends[i],:]))"
   ]
  },
  {
   "cell_type": "code",
   "execution_count": 325,
   "metadata": {},
   "outputs": [
    {
     "name": "stdout",
     "output_type": "stream",
     "text": [
      "0                                   pancreas_inDrop\n",
      "1                                   pancreas_inDrop\n",
      "2                                   pancreas_inDrop\n",
      "3                                   pancreas_inDrop\n",
      "4                                   pancreas_inDrop\n",
      "                            ...                    \n",
      "15916    pancreas_multi_smartseq2_expression_matrix\n",
      "15917    pancreas_multi_smartseq2_expression_matrix\n",
      "15918    pancreas_multi_smartseq2_expression_matrix\n",
      "15919    pancreas_multi_smartseq2_expression_matrix\n",
      "15920    pancreas_multi_smartseq2_expression_matrix\n",
      "Name: batch, Length: 15921, dtype: category\n",
      "Categories (5, object): [pancreas_inDrop, pancreas_multi_celseq2_expression_matrix, pancreas_multi_celseq_expression_matrix, pancreas_multi_fluidigmc1_expression_matrix, pancreas_multi_smartseq2_expression_matrix]\n",
      "0        b_cells\n",
      "1        b_cells\n",
      "2        b_cells\n",
      "3        b_cells\n",
      "4        b_cells\n",
      "          ...   \n",
      "41922        NaN\n",
      "41923        NaN\n",
      "41924        NaN\n",
      "41925        NaN\n",
      "41926        NaN\n",
      "Name: batch, Length: 41927, dtype: category\n",
      "Categories (8, object): [b_cells, cd4_t_helper, cd14_monocytes, cd56_nk, cytotoxic_t, memory_t, pbmc_10X, regulatory_t]\n",
      "0       jurkat_293t_50_50\n",
      "1       jurkat_293t_50_50\n",
      "2       jurkat_293t_50_50\n",
      "3       jurkat_293t_50_50\n",
      "4       jurkat_293t_50_50\n",
      "              ...        \n",
      "9525                 293t\n",
      "9526                 293t\n",
      "9527                 293t\n",
      "9528                 293t\n",
      "9529                 293t\n",
      "Name: batch, Length: 9530, dtype: category\n",
      "Categories (3, object): [293t, jurkat, jurkat_293t_50_50]\n"
     ]
    }
   ],
   "source": [
    "datasets = ['humanpancreas','10Xpbmc','10Xmouse',]\n",
    "for dataset in datasets:\n",
    "    ## Replace this with the location of your h5ad files\n",
    "    adata = sc.read('../Data/{}.h5ad'.format(dataset))\n",
    "    print(adata.obs.batch)"
   ]
  },
  {
   "cell_type": "code",
   "execution_count": null,
   "metadata": {},
   "outputs": [],
   "source": []
  }
 ],
 "metadata": {
  "kernelspec": {
   "display_name": "Python 3",
   "language": "python",
   "name": "python3"
  },
  "language_info": {
   "codemirror_mode": {
    "name": "ipython",
    "version": 3
   },
   "file_extension": ".py",
   "mimetype": "text/x-python",
   "name": "python",
   "nbconvert_exporter": "python",
   "pygments_lexer": "ipython3",
   "version": "3.7.4"
  }
 },
 "nbformat": 4,
 "nbformat_minor": 2
}
